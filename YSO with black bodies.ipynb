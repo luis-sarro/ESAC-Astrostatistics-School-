{
 "metadata": {
  "name": "",
<<<<<<< HEAD
<<<<<<< HEAD
  "signature": "sha256:d5e0c1fb3ab90562ee1895e30d007fa60b78355afe0d0edc0b41fead6e9495b2"
=======
  "signature": "sha256:0ff655e9b9dd289bf997f0d982d19ca206dacdeb367427f7bc4e95bca0fb49fa"
>>>>>>> 0605639d135a32d372983f8ed6313f983eec5953
=======
  "signature": "sha256:cf70a2014f0f3de5a24bf4c7058aa96eab707026603648aefc1e1f393aa2eabf"
>>>>>>> 9d93bb6c457146ae8276dce9dc06dae4aac1697c
 },
 "nbformat": 3,
 "nbformat_minor": 0,
 "worksheets": [
  {
   "cells": [
    {
     "cell_type": "heading",
     "level": 1,
     "metadata": {},
     "source": [
      "Spectra of protoplanetary disks with black bodies"
     ]
    },
    {
     "cell_type": "markdown",
     "metadata": {},
     "source": [
      "Protoplanetary disks are disk of dust and gas, which form around new-born stars because of the conservation of angular momentum. They are also the scenario where planets form, so it is easy to understand why they are interesting  (see [Williams & Cieza 2011](http://arxiv.org/abs/1103.0556)) if you want some scientific background about protoplanetary disks).\n",
      "\n",
      "A usual way of studying these objects is by means of their Spectral Energy Distributions **(SEDs)**, which is the representation of the flux measured at different wavelengths. The quantity that we can measure is the *flux density (flux per unit of wavelength)*, so that is usually translated into *flux* by plotting $\\lambda F_{\\lambda}$, where $\\lambda$ is the wavelength at which the flux $F_{\\lambda}$ is measured.  \n",
      "**Note**: in case you are getting puzzled here, an SED is nothing but a spectrum over a large range of wavelengths.  \n",
      "**Note 2**: luminosities are obtained by integrating the whole SEDs over the wavelength range.  \n",
      "\n",
      "By studying SEDs of protoplanetary disks, we can infer some of their physical characteristics. However, protoplanetary disks have a huge diversity of morphologies, sizes, gaps, structures, ... As a result, physical models used to produce synthetic SEDs are very complex and depend on a large number of free parameters. \n",
      "\n",
      "<img src=\"http://astrobiology.gsfc.nasa.gov/mandell/images/mandell/disk_comet_nebula.jpg\" width=\"700\">\n",
      "\n",
      "But we don't need that complexity now :) "
     ]
    },
    {
     "cell_type": "heading",
     "level": 2,
     "metadata": {},
     "source": [
      "A simplification of protoplanetary disks"
     ]
    },
    {
     "cell_type": "markdown",
     "metadata": {},
     "source": [
      "Let us simplify the scenario mentioned above to a star with some dust surrounding it.\n",
      "\n",
      " * as you probably know, a star spectrum ($\\equiv$ SED) can be approximated with a black body with the stellar effective temperature ($T_{eff}$).\n",
      " * we can assume the dust to behave as a black body too. \n",
      " \n",
      "Note that assigning a $T_{eff}$ is not trivial: dust closer to the star will be hotter, and dust in the outer regions will be colder. One could think of this as a *continuum* of black bodies with different temperatures.\n",
      "\n",
      "But we can simplify that too :)"
     ]
    },
    {
     "cell_type": "heading",
     "level": 3,
     "metadata": {},
     "source": [
      "Transitional disks"
     ]
    },
    {
     "cell_type": "markdown",
     "metadata": {},
     "source": [
      "Transitional disks are a special kind of protoplanetary disks with large holes in it (this is cool because planets are a good way of producing those holes!).\n",
      "\n",
      "We could now think of a protoplanetary disk in which the hottest, inner region is missing. In the following scheme, a transitional disk would be the last case.\n",
      "\n",
      "<img src=\"http://www.spitzer.caltech.edu/uploaded_files/graphics/fullscreen_graphics/0009/2675/sig05-026_Sm.jpg\" width=\"500\">\n",
      "\n",
      "In those cases, the $T_{eff}$ range is smaller than in full protoplanetary disks, and the disk emission can be approximated much better with a single black body. The following figure displays a real SED of a transitional disk."
     ]
    },
    {
     "cell_type": "code",
     "collapsed": false,
     "input": [
      "# Imports libraries required for this notebook\n",
      "from IPython.display import Latex\n",
      "from scipy.interpolate import interp1d\n",
      "import itertools\n",
      "import asciitable\n",
      "import matplotlib.pyplot as plt \n",
      "import numpy as np \n",
      "%matplotlib inline\n",
      "\n",
      "# object_data.txt contains the observed values for this object.\n",
      "table = asciitable.read('data/object_data.txt')\n",
      "\n",
      "# read wavelength, flux, and flux error\n",
      "lmb = table['Lmb[um]']\n",
      "flux = table['Lmb_flmb[erg/cm2/s]']\n",
      "flux_error = table['Lmb_flmb_err[erg/cm2/s]']\n",
      "\n",
      "\n",
      "# Create figure\n",
      "fig = plt.figure()\n",
      "ax = fig.add_subplot()\n",
      "# Make a plot of the observed Spectral Energy Distribution\n",
      "plotted_data = plt.errorbar(lmb,flux,yerr=flux_error,marker='o',fmt='o',color='black',label='Observations')\n",
      "plt.xscale('log')\n",
      "plt.yscale('log')\n",
      "plt.xlabel(r'$\\lambda$ [$\\mu$m]',fontsize = 14)\n",
      "plt.ylabel(r'$\\lambda F_{\\lambda}$ [erg/cm$^{2}$/s]',fontsize = 14)\n",
      "\n",
      "# We also know the type of star this object is, \n",
      "# so we also show the corresponding stellar model. \n",
      "# Note that is is *NOT* a black body but a physical model, \n",
      "# although not really far from a pure black body.\n",
      "model = np.load('data/star_spectrum.npy')\n",
      "model_lmb = model[0]\n",
      "model_flux = model[1]\n",
      "plt.plot(model_lmb,model_flux,color='gray',alpha=0.7,label='Star')\n",
      "\n",
      "# Change the axis to show the data properly\n",
      "plt.xlim(1e-1,)\n",
      "plt.ylim(1e-13,)\n",
      "plt.legend(loc='best')\n",
      "\n",
      "# Finally, display the plot\n",
      "plt.show()"
     ],
     "language": "python",
     "metadata": {},
     "outputs": [
      {
       "metadata": {},
       "output_type": "display_data",
       "png": "iVBORw0KGgoAAAANSUhEUgAAAaAAAAEeCAYAAADM9sFcAAAABHNCSVQICAgIfAhkiAAAAAlwSFlz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\nQgghhBBCCCGEEEIIIYQQQgghhBBO/X8c+ohogos22gAAAABJRU5ErkJggg==\n",
       "text": [
<<<<<<< HEAD
        "<matplotlib.figure.Figure at 0x10499d350>"
       ]
      }
     ],
     "prompt_number": 1
=======
        "<matplotlib.figure.Figure at 0x459f558c>"
       ]
      }
     ],
     "prompt_number": 10
>>>>>>> 0605639d135a32d372983f8ed6313f983eec5953
    },
    {
     "cell_type": "markdown",
     "metadata": {},
     "source": [
      "As you can see, the observations of this object resemble two black bodies.\n",
      "\n",
      "However, since we are aware of complex phenomena going on in our disks, we are going to use a \"modified\" black body for the dust emission, to allow the model to have some flexibility (and account for some of the physical processes there).\n",
      "\n",
      "Here is a reminder of black bodies and modified black bodies."
     ]
    },
    {
     "cell_type": "heading",
     "level": 4,
     "metadata": {},
     "source": [
      "Black body and modified black body equations"
     ]
    },
    {
     "cell_type": "markdown",
     "metadata": {},
     "source": [
      "A black body is an idealized physical body which absorbs all incident electromagnetic radiation  and, if in thermal equilibrium, reemits it following the black body equation.\n",
      "\n",
      "$${\\large B_{\\lambda}(T) \\propto \\frac{1}{\\lambda^5}\\frac{1}{e^{\\frac{hc}{\\lambda k_B T}}-1}}$$\n",
      "\n",
      "where ${B_{\\lambda}(T)}$ is the irradiance, T is the temperature, c is the speed of light, h is the Planck constant, and ${k_B}$ if the Boltzmann constant. We will absorb the constant into the fitting process.\n",
      "\n",
      "A modified black body is a modified version of this equation, with the form\n",
      "\n",
      "$${\\large B_{\\lambda}(T)_{modified} \\propto B_{\\lambda}(T) \\Big[ \\frac{\\lambda_{ref}}{\\lambda} \\Big] ^{-\\beta}}$$\n",
      "\n",
      "where $\\lambda_{ref}$ is a reference wavelength and we will consider it to be 100 $\\mu$m.\n",
      "\n",
      "Note that, for the SED, we are plotting $\\lambda B_\\lambda$\n",
      "\n",
      "\n",
      "**Important**: with this definition of a modified blackbody, a pure black body is a modified black body with $\\beta = 0$."
     ]
    },
    {
     "cell_type": "heading",
     "level": 4,
     "metadata": {},
     "source": [
      "A toy model for our simplistic transitional disk"
     ]
    },
    {
     "cell_type": "markdown",
     "metadata": {},
     "source": [
      "We can now compute some simple models of SEDs of transitional disks as the sum of two modified blackbodies :)\n",
      "\n",
      "- stellar emission: a modified black body with temperature $T_{star}$ (and a fixed $\\beta=0$). *One free parameter*.\n",
      "- dust emission: a modified blackbody, with temperature $T_{dust}$ and $\\beta_{dust}$. *Two free parameters*.\n",
      "- the luminosity fraction, $f$: defined as the ratio of the disk luminosity over the stellar luminosity (remember they are computed by integrating the SEDs over the whole wavelength range). It can be understood in terms of \"the scale of the emission from the disk with respect to that of the star\". *One free parameter*\n",
      "\n",
      "Therefore, our model has **four free parameters** ($T_{star}$,$T_{dust}$,$\\beta_{dust}$, and $f$). \n",
      "\n",
      "(Note that one could also play with the absolute scale of the model, which is related to the distance to the object. In this notebook, we will simply scale our model to match the observations at a certain wavelength).\n",
      "\n",
      "The final form of our model is therefore:\n",
      "\n",
      "$$B_{model} = Blackbody_{modified}({T_{star}},\\beta=0) + A * Blackbody_{modified}({T_{dust}},{\\beta_{dust}})$$\n",
      "\n",
      "where A is the scaling factor depending, meeting\n",
      "\n",
      "$$ f = \\frac{A*L_{disk}}{L_{star}} $$\n",
      "\n",
      "$T_{star}, T_{dust}, \\beta$ and $f$ are the free parameters. We then multiply everything by $\\lambda$ and we are done.\n",
      "\n",
      "Lets define that function in Python."
     ]
    },
    {
     "cell_type": "code",
     "collapsed": false,
     "input": [
      "def mod_bb(lmbs,teff,beta):\n",
      "    \"\"\" Modified black body function.\n",
      "    - lmb: wavelengths for which to compute the modified blackbody. In MICRONS.\n",
      "    - teff: effective temperature.\n",
      "    - beta: modified black body factor.\n",
      "    \"\"\"\n",
      "    c = 3.e8\n",
      "    h = 6.62e-34\n",
      "    kb = 1.4e-23\n",
      "    exponent = h*c /(lmbs*1e-6*kb*teff)\n",
      "    mod_bb_emission = lmbs**-5 * 1/(np.exp(exponent)-1) * (1e-4/lmbs)**-beta\n",
      "    return mod_bb_emission\n",
      "\n",
      "\n",
      "def yso_model_function(lmbs,t_star,t_dust,beta_dust,f):\n",
      "    \"\"\" Disk model.\n",
      "    - lmb: wavelengths for which to compute the modified blackbody. In MICRONS.\n",
      "    - t_star: effective temperature of the star.\n",
      "    - t_dust: effective temperature of the disk.\n",
      "    - b_dust: modified black body parameter for the disk.\n",
      "    - f: fractional luminosity, i.e. disk luminosity / star luminosity.\n",
      "    \"\"\"\n",
      "    # Stellar emission (beta=0)\n",
      "    stellar_emission = mod_bb(lmbs,t_star,0.)\n",
      "    \n",
      "    #\u00a0Disk emission\n",
      "    disk_emission = mod_bb(lmbs,t_dust,beta_dust)\n",
      "    \n",
      "    # Use the fractional luminosity to scale the disk emission\n",
      "    A = f * np.sum(stellar_emission) / np.sum(disk_emission)\n",
      "    \n",
      "    # The disk model is therefore\n",
      "    model = stellar_emission + A * disk_emission\n",
      "    \n",
      "    # and don't forget to multiply by the wavelength\n",
      "    model = model * lmbs\n",
      "        \n",
      "    return model"
     ],
     "language": "python",
     "metadata": {},
     "outputs": [],
<<<<<<< HEAD
     "prompt_number": 2
=======
     "prompt_number": 4
>>>>>>> 0605639d135a32d372983f8ed6313f983eec5953
    },
    {
     "cell_type": "code",
     "collapsed": false,
     "input": [
      "# Let's try this thing\n",
      "lmb_model = np.logspace(np.log10(0.1),np.log10(500),100)\n",
      "\n",
      "# Some parameters\n",
      "teff_star = 3200. # K\n",
      "teff_dust = 120.  # K\n",
      "beta_dust = 0.8\n",
      "f = 5.e-3\n",
      "\n",
      "yso_model = yso_model_function(lmb_model,teff_star,teff_dust,beta_dust,f)\n",
      "\n",
      "norm_factor = flux[5]/yso_model_function(lmb[5],teff_star,teff_dust,beta_dust,f)\n",
      "yso_model = yso_model * norm_factor\n",
      "\n",
<<<<<<< HEAD
      "# As mentioned before, we scale the model so that it matches the value \n",
      "# at a certain value. We will use the 5th wavelength, corresponding\n",
      "# to the 2MASS J band.\n",
      "norm_factor = flux[5] / disk_model_function(lmb[5],teff_star,teff_star,beta_dust,f)\n",
      "disk_model = norm_factor * disk_model\n",
=======
>>>>>>> 0605639d135a32d372983f8ed6313f983eec5953
      "# And plot our model together with the observed values.\n",
      "plt.plot(lmb_model,yso_model,'-r')\n",
      "plt.plot(lmb,flux,'ok')\n",
      "plt.xscale('log')\n",
      "plt.yscale('log')\n",
      "plt.ylim(1e-12,)"
     ],
     "language": "python",
     "metadata": {},
     "outputs": [
      {
       "metadata": {},
       "output_type": "pyout",
       "prompt_number": 6,
       "text": [
        "(1e-12, 1.0000000000000001e-09)"
       ]
      },
      {
       "metadata": {},
       "output_type": "display_data",
       "png": "iVBORw0KGgoAAAANSUhEUgAAAYQAAAEHCAYAAACumTGlAAAABHNCSVQICAgIfAhkiAAAAAlwSFlz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\n",
       "text": [
        "<matplotlib.figure.Figure at 0x45ab4eec>"
       ]
      }
     ],
     "prompt_number": 6
    },
    {
     "cell_type": "markdown",
     "metadata": {},
     "source": [
      "Not that far!"
     ]
    },
    {
     "cell_type": "heading",
     "level": 4,
     "metadata": {},
     "source": [
      "Computing the likelihood"
     ]
    },
    {
     "cell_type": "markdown",
     "metadata": {},
     "source": [
      "Our toy model seems to work, so now we can compute a synthetic SED at the wavelengths of the observations, and add some noise.\n",
      "\n",
      "We will add gaussian noise, with a $\\sigma$ corresponding to 5% of the flux value.\n",
      "\n",
      "(THIS STEP AND THE NORMALIZATION TO THE OBSERVED VALUES CAN BE INCLUDED IN THE FUNCTION SO THAT WE DON'T HAVE TO REPEAT ALL THE CORRESPONDING LINES OF CODE)"
     ]
    },
    {
     "cell_type": "code",
     "collapsed": false,
     "input": [
      "# compute the synthetic SED\n",
      "synthetic_sed = yso_model_function(lmb,teff_star,teff_dust,beta_dust,f)\n",
      "# normalize it\n",
      "norm_factor = flux[5] / yso_model_function(lmb[5],teff_star,teff_dust,beta_dust,f)\n",
      "synthetic_sed = norm_factor * synthetic_sed\n",
      "\n",
      "# Then, simulate data observations by adding Gaussian noise\n",
      "scalar_uncert = 0.05\n",
      "yso_obs = np.random.normal(loc=synthetic_sed,scale=scalar_uncert*synthetic_sed)\n",
      "\n",
      "plt.plot(lmb,synthetic_sed,'ok')\n",
      "plt.plot(lmb,yso_obs,'ok',color='b')\n",
      "plt.xscale('log')\n",
      "plt.yscale('log')\n",
      "plt.ylim(1e-12,)\n"
     ],
     "language": "python",
     "metadata": {},
     "outputs": [
      {
       "metadata": {},
       "output_type": "pyout",
       "prompt_number": 7,
       "text": [
        "(1e-12, 1.0000000000000001e-09)"
       ]
      },
      {
       "metadata": {},
       "output_type": "display_data",
       "png": "iVBORw0KGgoAAAANSUhEUgAAAYQAAAEHCAYAAACumTGlAAAABHNCSVQICAgIfAhkiAAAAAlwSFlz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\nSZIkSZIkSZIkSZIkSZIkSZIkSVJ8/H/EM7D+2u/WiwAAAABJRU5ErkJggg==\n",
       "text": [
        "<matplotlib.figure.Figure at 0x459c42cc>"
       ]
      }
     ],
     "prompt_number": 7
    },
    {
     "cell_type": "markdown",
     "metadata": {},
     "source": [
      "We can now calculate the likelihood of this model with respect to the observations. When comparing observational data to models, the likelihood function is proportional to \n",
      "\n",
      "$$\\mathcal{L}(\\mathcal{D}|\\theta) \\propto exp\\biggl(-\\frac{\\chi^{2}}{2}\\biggr)$$\n",
      "\n",
      "where $\\chi$ is the typical *chi square*:\n",
      "\n",
      "$$ \\chi^2 = \\sum_{i}\\biggl(\\frac{F_{\\rm obs,i} - F_{\\rm model,i}}{ \\sigma_{\\rm obs,i}}\\biggr)^2$$\n",
      "\n",
      "**IMPORTANT**: I usually do this, but I think the real value should be divided by some factor (1 over 2 square root of something?). "
     ]
    },
    {
     "cell_type": "code",
     "collapsed": false,
     "input": [
      "def log_likelihood(flux_obs,error_obs,flux_syn):\n",
      "    value = np.sum(((flux_obs - flux_syn)/error_obs)**2)\n",
      "    value = (-value/2)\n",
      "    return value\n",
      "\n",
      "print log_likelihood(yso_obs,yso_obs*scalar_uncert,synthetic_sed)"
     ],
     "language": "python",
     "metadata": {},
     "outputs": [
      {
       "output_type": "stream",
       "stream": "stdout",
       "text": [
        "-23.2063565037\n"
       ]
      }
     ],
     "prompt_number": 8
    },
    {
     "cell_type": "code",
     "collapsed": false,
     "input": [
      "# Compute a grid of values of teff_dust and beta_dust\n",
      "grid_size = 10\n",
      "nvals = range(grid_size)\n",
      "teff_dust_grid = [80.+float(x)*grid_size for x in nvals]\n",
      "beta_dust_grid = [0.2+float(x)/grid_size for x in nvals]\n",
      "params_grid = np.meshgrid(teff_dust_grid,beta_dust_grid)\n",
      "\n",
      "grid_log_likelihoods = np.zeros(shape=(grid_size,grid_size))\n",
      "\n",
      "for idx1 in nvals:\n",
      "    for idx2 in nvals:\n",
      "        model_sed = yso_model_function(lmb,teff_star,teff_dust_grid[idx2],beta_dust_grid[idx1],f)\n",
      "        norm_factor = flux[5]/yso_model_function(lmb[5],teff_star,teff_dust_grid[idx2],beta_dust_grid[idx1],f)\n",
      "        model_sed = model_sed * norm_factor\n",
      "        grid_log_likelihoods[idx1,idx2] = log_likelihood(yso_obs,yso_obs*scalar_uncert,model_sed)       \n",
      " \n",
      "#print log_likelihood(yso_obs,yso_obs*scalar_uncert,synthetic_sed)        \n",
      "#print grid_log_likelihoods\n",
      "#print params_grid[0]\n",
      "#print params_grid[1]\n",
      "\n",
      "#levels= [-10,-20,-100,-10^4,-10^6]\n",
      "plt.contourf(params_grid[0],params_grid[1],np.log(-grid_log_likelihoods))\n"
     ],
     "language": "python",
     "metadata": {},
<<<<<<< HEAD
     "source": [
      "The model is not very good, so the likelihood of that is 0 :) But the function is working!\n",
      "And to get the log of that, you just have to make: `np.log(likelihood_value)`. It will also work for a range of likelihood values."
     ]
    },
    {
     "cell_type": "code",
     "collapsed": false,
     "input": [
      "pwd"
     ],
     "language": "python",
     "metadata": {},
=======
>>>>>>> 0605639d135a32d372983f8ed6313f983eec5953
     "outputs": [
      {
       "metadata": {},
       "output_type": "pyout",
<<<<<<< HEAD
       "prompt_number": 4,
       "text": [
        "u'/Users/alvaro/Desktop/papers/statistics_at_ESAC/ESAC-Astrostatistics-School-'"
       ]
      }
     ],
     "prompt_number": 4
=======
       "prompt_number": 9,
       "text": [
        "<matplotlib.contour.QuadContourSet instance at 0x459ce0ac>"
       ]
      },
      {
       "metadata": {},
       "output_type": "display_data",
       "png": "iVBORw0KGgoAAAANSUhEUgAAAXgAAAD7CAYAAABgzo9kAAAABHNCSVQICAgIfAhkiAAAAAlwSFlz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\nIiIiefw/76A4XdH1inAAAAAASUVORK5CYII=\n",
       "text": [
        "<matplotlib.figure.Figure at 0x45a08e0c>"
       ]
      }
     ],
     "prompt_number": 9
>>>>>>> 0605639d135a32d372983f8ed6313f983eec5953
    },
    {
     "cell_type": "code",
     "collapsed": false,
     "input": [
      "optimize.fmin(trunc_norm, np.array([1,2]), args=(-1, x))"
     ],
     "language": "python",
     "metadata": {},
     "outputs": []
    }
   ],
   "metadata": {}
  }
 ]
}