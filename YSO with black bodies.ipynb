{
 "metadata": {
  "name": "",
  "signature": "sha256:0529f2ff187e021fe7321ada557057ae9520f902d0dd55cacc93ba92db94e14c"
 },
 "nbformat": 3,
 "nbformat_minor": 0,
 "worksheets": [
  {
   "cells": [
    {
     "cell_type": "heading",
     "level": 1,
     "metadata": {},
     "source": [
      "Spectra of protoplanetary disks with black bodies"
     ]
    },
    {
     "cell_type": "markdown",
     "metadata": {},
     "source": [
      "Protoplanetary disks are disk of dust and gas, which form around new-born stars because of the conservation of angular momentum. They are also the scenario where planets form, so it is easy to understand why they are interesting  (see [Williams & Cieza 2011](http://arxiv.org/abs/1103.0556)) if you want some scientific background about protoplanetary disks).\n",
      "\n",
      "A usual way of studying these objects is by means of their Spectral Energy Distributions **(SEDs)**, which is the representation of the flux measured at different wavelengths. The quantity that we can measure is the *flux density (flux per unit of wavelength)*, so that is usually translated into *flux* by plotting $\\lambda F_{\\lambda}$, where $\\lambda$ is the wavelength at which the flux $F_{\\lambda}$ is measured.  \n",
      "**Note**: in case you are getting puzzled here, an SED is nothing but a spectrum over a large range of wavelengths.  \n",
      "**Note 2**: luminosities are obtained by integrating the whole SEDs over the wavelength range.  \n",
      "\n",
      "By studying SEDs of protoplanetary disks, we can infer some of their physical characteristics. However, protoplanetary disks have a huge diversity of morphologies, sizes, gaps, structures, ... As a result, physical models used to produce synthetic SEDs are very complex and depend on a large number of free parameters. \n",
      "\n",
      "<img src=\"http://astrobiology.gsfc.nasa.gov/mandell/images/mandell/disk_comet_nebula.jpg\" width=\"700\">\n",
      "\n",
      "But we don't need that complexity now :) "
     ]
    },
    {
     "cell_type": "heading",
     "level": 2,
     "metadata": {},
     "source": [
      "A simplification of protoplanetary disks"
     ]
    },
    {
     "cell_type": "markdown",
     "metadata": {},
     "source": [
      "Let us simplify the scenario mentioned above to a star with some dust surrounding it.\n",
      "\n",
      " * as you probably know, a star spectrum ($\\equiv$ SED) can be approximated with a black body with the stellar effective temperature ($T_{eff}$).\n",
      " * we can assume the dust to behave as a black body too. \n",
      " \n",
      "Note that assigning a $T_{eff}$ is not trivial: dust closer to the star will be hotter, and dust in the outer regions will be colder. One could think of this as a *continuum* of black bodies with different temperatures.\n",
      "\n",
      "But we can simplify that too :)"
     ]
    },
    {
     "cell_type": "heading",
     "level": 3,
     "metadata": {},
     "source": [
      "Transitional disks"
     ]
    },
    {
     "cell_type": "markdown",
     "metadata": {},
     "source": [
      "Transitional disks are a special kind of protoplanetary disks with large holes in it (this is cool because planets are a good way of producing those holes!).\n",
      "\n",
      "We could now think of a protoplanetary disk in which the hottest, inner region is missing. In the following scheme, a transitional disk would be the last case.\n",
      "\n",
      "<img src=\"http://www.spitzer.caltech.edu/uploaded_files/graphics/fullscreen_graphics/0009/2675/sig05-026_Sm.jpg\" width=\"500\">\n",
      "\n",
      "In those cases, the $T_{eff}$ range is smaller than in full protoplanetary disks, and the disk emission can be approximated much better with a single black body. The following figure displays a real SED of a transitional disk."
     ]
    },
    {
     "cell_type": "code",
     "collapsed": false,
     "input": [
      "# Imports libraries required for this notebook\n",
      "from IPython.display import Latex\n",
      "from scipy.interpolate import interp1d\n",
      "import itertools\n",
      "import asciitable\n",
      "import matplotlib.pyplot as plt % Added by lsb\n",
      "import numpy as np % Added by lsb\n",
      "%matplotlib inline\n",
      "\n",
      "# object_data.txt contains the observed values for this object.\n",
      "table = asciitable.read('data/object_data.txt')\n",
      "\n",
      "# read wavelength, flux, and flux error\n",
      "lmb = table['Lmb[um]']\n",
      "flux = table['Lmb_flmb[erg/cm2/s]']\n",
      "flux_error = table['Lmb_flmb_err[erg/cm2/s]']\n",
      "\n",
      "\n",
      "# Create figure\n",
      "fig = plt.figure()\n",
      "ax = fig.add_subplot()\n",
      "# Make a plot of the observed Spectral Energy Distribution\n",
      "plotted_data = plt.errorbar(lmb,flux,yerr=flux_error,marker='o',fmt='o',color='black',label='Observations')\n",
      "plt.xscale('log')\n",
      "plt.yscale('log')\n",
      "plt.xlabel(r'$\\lambda$ [$\\mu$m]',fontsize = 14)\n",
      "plt.ylabel(r'$\\lambda F_{\\lambda}$ [erg/cm$^{2}$/s/$\\AA$]',fontsize = 14)\n",
      "\n",
      "# We also know the type of star this object is, \n",
      "# so we also show the corresponding stellar model. \n",
      "# Note that is is *NOT* a black body but a physical model, \n",
      "# although not really far from a pure black body.\n",
      "model = np.load('data/star_spectrum.npy')\n",
      "model_lmb = model[0]\n",
      "model_flux = model[1]\n",
      "plt.plot(model_lmb,model_flux,color='gray',alpha=0.7,label='Star')\n",
      "\n",
      "# Change the axis to show the data properly\n",
      "plt.xlim(1e-1,)\n",
      "plt.ylim(1e-13,)\n",
      "plt.legend(loc='best')\n",
      "\n",
      "# Finally, display the plot\n",
      "plt.show()"
     ],
     "language": "python",
     "metadata": {},
     "outputs": [
      {
       "metadata": {},
       "output_type": "display_data",
       "png": "[encoded data removed]",
       "text": [
        "<matplotlib.figure.Figure at 0x2ac013443650>"
       ]
      }
     ],
     "prompt_number": 5
    },
    {
     "cell_type": "markdown",
     "metadata": {},
     "source": [
      "As you can see, the observations of this object resemble two black bodies.\n",
      "\n",
      "However, since we are aware of complex phenomena going on in our disks, we are going to use a \"modified\" black body for the dust emission, to allow the model to have some flexibility (and account for some of the physical processes there).\n",
      "\n",
      "Here is a reminder of black bodies and modified black bodies."
     ]
    },
    {
     "cell_type": "heading",
     "level": 4,
     "metadata": {},
     "source": [
      "Black body and modified black body equations"
     ]
    },
    {
     "cell_type": "markdown",
     "metadata": {},
     "source": [
      "A black body is an idealized physical body which absorbs all incident electromagnetic radiation  and, if in thermal equilibrium, reemits it following the black body equation.\n",
      "\n",
      "$${\\large B_{\\lambda}(T) \\propto \\frac{1}{\\lambda^5}\\frac{1}{e^{\\frac{hc}{\\lambda k_B T}}-1}}$$\n",
      "\n",
      "where ${B_{\\lambda}(T)}$ is the irradiance, T is the temperature, c is the speed of light, h is the Planck constant, and ${k_B}$ if the Boltzmann constant. We will absorb the constant into the fitting process.\n",
      "\n",
      "A modified black body is a modified version of this equation, with the form\n",
      "\n",
      "$${\\large B_{\\lambda}(T)_{modified} \\propto B_{\\lambda}(T) \\Big[ \\frac{\\lambda_{ref}}{\\lambda} \\Big] ^{-\\beta}}$$\n",
      "\n",
      "where $\\lambda_{ref}$ is a reference wavelength and we will consider it to be 100 $\\mu$m.\n",
      "\n",
      "Note that, for the SED, we are plotting $\\lambda B_\\lambda$\n",
      "\n",
      "\n",
      "**Important**: with this definition of a modified blackbody, a pure black body is a modified black body with $\\beta = 0$."
     ]
    },
    {
     "cell_type": "heading",
     "level": 4,
     "metadata": {},
     "source": [
      "A toy model for our simplistic transitional disk"
     ]
    },
    {
     "cell_type": "markdown",
     "metadata": {},
     "source": [
      "We can now compute some simple models of SEDs of transitional disks as the sum of two modified blackbodies :)\n",
      "\n",
      "- stellar emission: a modified black body with temperature $T_{star}$ (and a fixed $\\beta=0$). *One free parameter*.\n",
      "- dust emission: a modified blackbody, with temperature $T_{dust}$ and $\\beta_{dust}$. *Two free parameters*.\n",
      "- the luminosity fraction, $f$: defined as the ratio of the disk luminosity over the stellar luminosity (remember they are computed by integrating the SEDs over the whole wavelength range). It can be understood in terms of \"the scale of the emission from the disk with respect to that of the star\". *One free parameter*\n",
      "\n",
      "Therefore, our model has **four free parameters** ($T_{star}$,$T_{dust}$,$\\beta_{dust}$, and $f$). \n",
      "\n",
      "(Note that one could also play with the absolute scale of the model, which is related to the distance to the object. In this notebook, we will simply scale our model to match the observations at a certain wavelength).\n",
      "\n",
      "The final form of our model is therefore:\n",
      "\n",
      "$$B_{model} = Blackbody_{modified}({T_{star}},\\beta=0) + A * Blackbody_{modified}({T_{dust}},{\\beta_{dust}})$$\n",
      "\n",
      "where A is the scaling factor depending, meeting\n",
      "\n",
      "$$ f = \\frac{A*L_{disk}}{L_{star}} $$\n",
      "\n",
      "$T_{star}, T_{dust}, \\beta$ and $f$ are the free parameters. We then multiply everything by $\\lambda$ and we are done.\n",
      "\n",
      "Lets define that function in Python."
     ]
    },
    {
     "cell_type": "code",
     "collapsed": false,
     "input": [
      "def mod_bb(lmbs,teff,beta):\n",
      "    \"\"\" Modified black body function.\n",
      "    - lmb: wavelengths for which to compute the modified blackbody. In MICRONS.\n",
      "    - teff: effective temperature.\n",
      "    - beta: modified black body factor.\n",
      "    \"\"\"\n",
      "    c = 3.e8\n",
      "    h = 6.62e-34\n",
      "    kb = 1.4e-23\n",
      "    exponent = h*c /(lmbs*1e-6*kb*teff)\n",
      "    mod_bb_emission = lmbs**-5 * 1/(np.exp(exponent)-1) * (1e-4/lmbs)**-beta\n",
      "    return mod_bb_emission\n",
      "\n",
      "\n",
      "def yso_model_function(lmbs,t_star,t_dust,beta_dust,f):\n",
      "    \"\"\" Disk model.\n",
      "    - lmb: wavelengths for which to compute the modified blackbody. In MICRONS.\n",
      "    - t_star: effective temperature of the star.\n",
      "    - t_dust: effective temperature of the disk.\n",
      "    - b_dust: modified black body parameter for the disk.\n",
      "    - f: fractional luminosity, i.e. disk luminosity / star luminosity.\n",
      "    \"\"\"\n",
      "    # Stellar emission (beta=0)\n",
      "    stellar_emission = mod_bb(lmbs,t_star,0.)\n",
      "    \n",
      "    #\u00a0Disk emission\n",
      "    disk_emission = mod_bb(lmbs,t_dust,beta_dust)\n",
      "    \n",
      "    # Use the fractional luminosity to scale the disk emission\n",
      "    A = f * np.sum(stellar_emission) / np.sum(disk_emission)\n",
      "    \n",
      "    # The disk model is therefore\n",
      "    model = stellar_emission + A * disk_emission\n",
      "    \n",
      "    # and don't forget to multiply by the wavelength\n",
      "    model = model * lmbs\n",
      "    return model"
     ],
     "language": "python",
     "metadata": {},
     "outputs": [],
     "prompt_number": 6
    },
    {
     "cell_type": "code",
     "collapsed": false,
     "input": [
      "# Let's try this thing\n",
      "lmb_model = np.logspace(np.log10(0.1),np.log10(500),100)\n",
      "\n",
      "# Some parameters\n",
      "teff_star = 3200. # K\n",
      "teff_dust = 120.  # K\n",
      "beta_dust = 0.8\n",
      "f = 5.e-3\n",
      "\n",
      "disk_model = yso_model_function(lmb_model,teff_star,teff_dust,beta_dust,f)\n",
      "\n",
      "# As mentioned before, we scale the model so that it matches the value \n",
      "# at a certain value. We will use the 9th wavelength, corresponding\n",
      "# to the 2MASS J band.\n",
      "norm_factor = flux[5] / yso_model_function(lmb[5],teff_star,teff_star,beta_dust,f)\n",
      "disk_model = norm_factor * disk_model\n",
      "# And plot our model together with the observed values.\n",
      "plt.plot(lmb_model,disk_model,'-r')\n",
      "plt.plot(lmb,flux,'ok')\n",
      "plt.xscale('log')\n",
      "plt.yscale('log')\n",
      "plt.ylim(1e-12,)"
     ],
     "language": "python",
     "metadata": {},
     "outputs": [
      {
       "metadata": {},
       "output_type": "pyout",
       "prompt_number": 8,
       "text": [
        "(1e-12, 1.0000000000000001e-09)"
       ]
      },
      {
       "metadata": {},
       "output_type": "display_data",
       "png": "[encoded data removed]",
       "text": [
        "<matplotlib.figure.Figure at 0x2ac013bf24d0>"
       ]
      }
     ],
     "prompt_number": 8
    },
    {
     "cell_type": "markdown",
     "metadata": {},
     "source": [
      "Not that far!"
     ]
    },
    {
     "cell_type": "heading",
     "level": 4,
     "metadata": {},
     "source": [
      "Computing the likelihood"
     ]
    },
    {
     "cell_type": "markdown",
     "metadata": {},
     "source": [
      "Our toy model seems to work, so now we can compute a synthetic SED at the wavelengths of the observations, and add some noise.\n",
      "\n",
      "We will add gaussian noise, with a $\\sigma$ corresponding to 5% of the flux value.\n",
      "\n",
      "(THIS STEP AND THE NORMALIZATION TO THE OBSERVED VALUES CAN BE INCLUDED IN THE FUNCTION SO THAT WE DON'T HAVE TO REPEAT ALL THE CORRESPONDING LINES OF CODE)"
     ]
    },
    {
     "cell_type": "code",
     "collapsed": false,
     "input": [
      "# compute the synthetic SED, now the observed wavelengths\n",
      "synthetic_sed = disk_model_function(lmb,teff_star,teff_dust,beta_dust,f)\n",
      "# normalize it\n",
      "norm_factor = flux[5] / disk_model_function(lmb[5],teff_star,teff_star,beta_dust,f)\n",
      "synthetic_sed = norm_factor * synthetic_sed\n",
      "\n",
      "# randomize it\n",
      "disk_model = np.random.normal(loc=synthetic_sed,scale=0.05*synthetic_sed)"
     ],
     "language": "python",
     "metadata": {},
     "outputs": [],
     "prompt_number": 93
    },
    {
     "cell_type": "markdown",
     "metadata": {},
     "source": [
      "We can now calculate the likelihood of this model with respect to the observations. When comparing observational data to models, the likelihood function is proportional to \n",
      "\n",
      "$$\\mathcal{L}(\\mathcal{D}|\\theta) \\propto exp\\biggl(-\\frac{\\chi^{2}}{2}\\biggr)$$\n",
      "\n",
      "where $\\chi$ is the typical *chi square*:\n",
      "\n",
      "$$ \\chi^2 = \\sum_{i}\\biggl(\\frac{F_{\\rm obs,i} - F_{\\rm model,i}}{ \\sigma_{\\rm obs,i}}\\biggr)^2$$\n",
      "\n",
      "**IMPORTANT**: I usually do this, but I think the real value should be divided by some factor (1 over 2 square root of something?). "
     ]
    },
    {
     "cell_type": "code",
     "collapsed": false,
     "input": [
      "def likelihood(flux_obs,error_obs,flux_syn):\n",
      "    value = np.sum(((flux_obs - flux_syn)/error_obs)**2)\n",
      "    value = np.exp(-value/2)\n",
      "    return value\n",
      "\n",
      "print likelihood(flux,flux_error,synthetic_sed)"
     ],
     "language": "python",
     "metadata": {},
     "outputs": [
      {
       "output_type": "stream",
       "stream": "stdout",
       "text": [
        "0.0\n"
       ]
      }
     ],
     "prompt_number": 99
    },
    {
     "cell_type": "markdown",
     "metadata": {},
     "source": [
      "The model is not very good, so the likelihood of that is 0 :) But the function is working!\n",
      "And to get the log of that, you just have to make: `np.log(likelihood_value)`. It will also work for a range of likelihood values."
     ]
    }
   ],
   "metadata": {}
  }
 ]
}