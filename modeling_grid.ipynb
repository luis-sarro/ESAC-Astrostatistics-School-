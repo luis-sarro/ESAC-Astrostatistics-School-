{
 "metadata": {
  "name": "",
  "signature": "sha256:c5708dfc9e6a39762756d92f144149ab881fbfb70c8a0d9630a2ee54fc1e230a"
 },
 "nbformat": 3,
 "nbformat_minor": 0,
 "worksheets": [
  {
   "cells": [
    {
     "cell_type": "heading",
     "level": 1,
     "metadata": {},
     "source": [
      "Modeling at ESAC"
     ]
    },
    {
     "cell_type": "code",
     "collapsed": false,
     "input": [
      "from IPython.display import Latex\n",
      "from scipy.interpolate import interp1d\n",
      "import itertools\n",
      "import asciitable\n",
      "%matplotlib inline"
     ],
     "language": "python",
     "metadata": {},
     "outputs": [],
     "prompt_number": 88
    },
    {
     "cell_type": "markdown",
     "metadata": {},
     "source": [
      "This tutorial will show how to perform bayesian analysis when modeling a transitional disk (in this case, T25, but this is a secret :)\n",
      "\n",
      "The modelling will be explained by using a stellar spectrum (already formated to match the SED) and a modified blackbody.\n",
      "\n",
      "We will first show the data we want to model."
     ]
    },
    {
     "cell_type": "code",
     "collapsed": false,
     "input": [
      "table = asciitable.read('object_data.txt')\n",
      "\n",
      "# read wavelength, flux, and flux error of the source\n",
      "lmb = table['Lmb[um]']\n",
      "flux = table['Lmb_flmb[erg/cm2/s]']\n",
      "flux_error = table['Lmb_flmb_err[erg/cm2/s]']\n",
      "\n",
      "# Make a plot of the observed Spectral Energy Distribution\n",
      "plt.errorbar(lmb,flux,yerr=flux_error,marker='o',fmt='o',color='black',label='Observations')\n",
      "plt.xscale('log')\n",
      "plt.yscale('log')\n",
      "plt.xlabel(r'$\\lambda$ [$\\mu$m]',fontsize = 14)\n",
      "plt.ylabel(r'$\\lambda F_{\\lambda}$ [erg/cm$^{2}$/s/$\\AA$]',fontsize = 14)\n",
      "\n",
      "# Also show the adopted stellar spectrum\n",
      "model = np.load('star_spectrum.npy')\n",
      "model_lmb = model[0]\n",
      "model_flux = model[1]\n",
      "plt.plot(model_lmb,model_flux,color='gray',alpha=0.7,label='Star')\n",
      "\n",
      "# Change the axis to show the data properly\n",
      "plt.xlim(1e-1,)\n",
      "plt.ylim(1e-13,)\n",
      "plt.legend(loc='best')\n",
      "\n",
      "# Finally, display the plot\n",
      "plt.show()"
     ],
     "language": "python",
     "metadata": {},
     "outputs": [
      {
       "metadata": {},
       "output_type": "display_data",
       "png": "[encoded data removed]",
       "text": [
        "<matplotlib.figure.Figure at 0x11a463810>"
       ]
      },
      {
       "output_type": "stream",
       "stream": "stdout",
       "text": [
        "lala\n"
       ]
      }
     ],
     "prompt_number": 90
    },
    {
     "cell_type": "markdown",
     "metadata": {},
     "source": [
      "The shape of this SED is due to two main components:\n",
      "\n",
      "- the emission from the star: dominates optical and near infrarred wavelengths (in this case, $\\lambda$ < 10 $\\mu$m).\n",
      "\n",
      "- the emission from the the dust in the circumstellar disk: dominates mid/far infrared wavelengths (in this case, $\\lambda$ > 10 $\\mu$m)\n",
      "\n",
      "We can model this in a simplistic way using the stellar model to reproduce the emission from the star and a modified black body to account from the dust emission.\n"
     ]
    },
    {
     "cell_type": "heading",
     "level": 2,
     "metadata": {},
     "source": [
      "Black body equation and model definition"
     ]
    },
    {
     "cell_type": "markdown",
     "metadata": {},
     "source": [
      "A black body is an idealized physical body which absorbs all incident electromagnetic radiation  and, if in thermal equilibrium, reemits it following the black body equation.\n",
      "\n",
      "$${\\large B_{\\lambda}(T) \\propto \\frac{1}{\\lambda^5}\\frac{1}{e^{\\frac{hc}{\\lambda k_B T}}-1}}$$\n",
      "\n",
      "where ${B_{\\lambda}(T)}$ is the irradiance, T is the temperature, c is the speed of light, h is the Planck constant, and ${k_B}$ if the Boltzmann constant. We will absorb the constant into the fitting process.\n",
      "\n",
      "A modified black body is a modified version of this equation, with the form\n",
      "\n",
      "$${\\large B_{\\lambda}(T)_{modified} \\propto B_{\\lambda}(T) \\Big[ \\frac{\\lambda_{ref}}{\\lambda} \\Big] ^{-\\beta}}$$\n",
      "\n",
      "where $\\lambda_{ref}$ is a reference wavelength and we will consider it to be 100 $\\mu$m.\n",
      "\n",
      "\n",
      "Note that, for the SED, we are plotting $\\lambda B_\\lambda$\n",
      "\n",
      "Note that we should also account for the *scale* of both the stellar and disk emission, which in reality are related with physical parameters such as the distance to the object, the mass of dust in the disk, ... The stellar spectrum has already been normalized and characterized with the best-fit $T_{eff}$, and we do not need to worry about it, so our model will be\n",
      "\n",
      "$$B_{model} = {\\rm Stellar\\,\\,emission} + {\\bf A}* Blackbody_{modified}({\\bf T_{dust}},{\\bf beta})$$,\n",
      "\n",
      "where ${\\bf A}$, ${\\bf T_{dust}}$ and ${\\bf \\beta}$ are the free parameters.\n",
      "\n",
      "Let's define a python function that would take these three values plus an array of wavelengths, and return the corresponding model.\n",
      "\n",
      "First, we define two smaller functions: one that returns the stellar emission (by interpolating the given stellar model), and other which provides the modified black body."
     ]
    },
    {
     "cell_type": "code",
     "collapsed": false,
     "input": [
      "# Star emission\n",
      "star_spectrum = interp1d(model_lmb,model_flux)\n",
      "\n",
      "# Function for the disk emission: modified black body\n",
      "def mod_bb(lmb, Tdust, beta):\n",
      "    \"\"\" This function is the mofified blackbody. We will normalize it, so the highest value is always 1\"\"\"\n",
      "    c = 3.e8\n",
      "    h = 6.62e-34\n",
      "    kb = 1.4e-23\n",
      "    exponent = h*c /(lmb*1e-6*kb*Tdust)\n",
      "    mod_bb_emission = lmb**-5 * 1/(np.exp(exponent)-1) * (1e-4/lmb)**-beta\n",
      "    # note that we are working on lmb*flmb, so multiply\n",
      "    mod_bb_emission = mod_bb_emission * lmb\n",
      "    # Normalize so that the value at 100 microns is 1\n",
      "    exponent_normalization = h*c /(100*1e-6*kb*Tdust)\n",
      "    norm_factor = 100**-5 * 1/(np.exp(exponent_normalization)-1) * (1e-4/100)**-beta * 100\n",
      "    mod_bb_emission = mod_bb_emission/norm_factor\n",
      "    return mod_bb_emission"
     ],
     "language": "python",
     "metadata": {},
     "outputs": [],
     "prompt_number": 56
    },
    {
     "cell_type": "markdown",
     "metadata": {},
     "source": [
      "Now we can define the whole disk model by using these two functions."
     ]
    },
    {
     "cell_type": "code",
     "collapsed": false,
     "input": [
      "def disk_model(lmb, Tdust, beta, scale, mod_bb,star_spectrum):\n",
      "    \"\"\" This is the whole model. Note we have passed the free parameters:\n",
      "     - Tdust\n",
      "     - beta\n",
      "     - scale\n",
      "     together with the wavelengths at which the model should be computed, \n",
      "     and the required functions mod_bb and star_emission.\n",
      "    \"\"\"\n",
      "    model = star_emission(lmb) + scale*mod_bb(lmb,Tdust,beta)\n",
      "    return model"
     ],
     "language": "python",
     "metadata": {},
     "outputs": [],
     "prompt_number": 57
    },
    {
     "cell_type": "markdown",
     "metadata": {},
     "source": [
      "Let's try our model with some naive parameters. Checking the previous SED, the scale of the dust emission could be around ~2e-11. We can also set the dust temperature to ~100K, and try with $\\beta$ = 1 (which is a pure black body)."
     ]
    },
    {
     "cell_type": "code",
     "collapsed": false,
     "input": [
      "# Naive values.\n",
      "Tdust = 100.\n",
      "scale = 2.e-11\n",
      "beta = 1.\n",
      "\n",
      "# We create a log-spaced array of wavelenghts\n",
      "try_lmbs = np.logspace(np.log10(0.1),np.log10(500),1000)\n",
      "# Now compute our model\n",
      "try_fluxes = disk_model(try_lmbs, Tdust, beta, scale, mod_bb,star_spectrum)\n",
      "\n",
      "# Plot the stellar spectrum itself\n",
      "plt.plot(model_lmb,model_flux,color='gray',alpha=0.7,label='Star')\n",
      "\n",
      "# Plot our model\n",
      "plt.plot(try_lmbs,try_fluxes,'-r',alpha=0.8,label='Full model')\n",
      "\n",
      "# And finally plot the observed data to see how dar we are\n",
      "plt.errorbar(lmb,flux,yerr=flux_error,marker='o',fmt='o',color='black',label='Observations')\n",
      "\n",
      "plt.xscale('log')\n",
      "plt.yscale('log')\n",
      "plt.xlim(1e-1,)\n",
      "plt.ylim(1e-13,)\n",
      "plt.xlabel(r'$\\lambda$ [$\\mu$m]',fontsize = 14)\n",
      "plt.ylabel(r'$\\lambda F_{\\lambda}$ [erg/cm$^{2}$/s/$\\AA$]',fontsize = 14)\n",
      "plt.legend(loc='best')\n",
      "\n",
      "plt.show()"
     ],
     "language": "python",
     "metadata": {},
     "outputs": [
      {
       "metadata": {},
       "output_type": "display_data",
       "png": "[encoded data removed]",
       "text": [
        "<matplotlib.figure.Figure at 0x11a466950>"
       ]
      }
     ],
     "prompt_number": 86
    },
    {
     "cell_type": "markdown",
     "metadata": {},
     "source": [
      "Not that far!"
     ]
    },
    {
     "cell_type": "heading",
     "level": 3,
     "metadata": {},
     "source": [
      "Creating the grid"
     ]
    },
    {
     "cell_type": "markdown",
     "metadata": {},
     "source": [
      "We now know the model is working, so lets create a grid of the three free parameters."
     ]
    },
    {
     "cell_type": "code",
     "collapsed": false,
     "input": [
      "# we will explore the free parameters as follows\n",
      "#\u00a0Tdust: from 10 to 200 K, in steps of 5\n",
      "# Scale: from 1e-11 to 5e-11, in steps of 1e-12\n",
      "# beta: from -0.2 to 1.5, in steps of 0.1\n",
      "\n",
      "tdusts = np.arange(10,201,5)                # 39 elements\n",
      "betas = np.arange(-0.2,1.51, 0.1)           # 18 elements \n",
      "scales = np.arange(1e-11,5.01e-11,1e-12)    # scales\n",
      "\n",
      "# create the grid with these and lmb. \n",
      "LMBS,TDUSTS,BETAS,SCALES = np.meshgrid(lmb,tdusts,betas,scales,indexing='ij')\n",
      "\n",
      "# compute them\n",
      "grid_models = disk_model(LMBS,TDUSTS,BETAS,SCALES,mod_bb,star_emission)\n",
      "print np.shape(grid_models)"
     ],
     "language": "python",
     "metadata": {},
     "outputs": [
      {
       "output_type": "stream",
       "stream": "stdout",
       "text": [
        "(27, 39, 18, 41)\n",
        "41\n"
       ]
      }
     ],
     "prompt_number": 87
    },
    {
     "cell_type": "markdown",
     "metadata": {},
     "source": [
      "So it looks fine. The 27 corresponds to the number of $\\lambda$s, and then Tdust, $\\beta$ and scale values. **And now, pure and deep desperation takes over. What do we do with this?!**"
     ]
    }
   ],
   "metadata": {}
  }
 ]
}