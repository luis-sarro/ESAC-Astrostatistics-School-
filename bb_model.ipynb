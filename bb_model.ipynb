{
 "metadata": {
  "name": "",
  "signature": "sha256:926982a98d395ce846db896b42592410eea255a6b4c70abb3c82f844da85dc36"
 },
 "nbformat": 3,
 "nbformat_minor": 0,
 "worksheets": [
  {
   "cells": [
    {
     "cell_type": "heading",
     "level": 1,
     "metadata": {},
     "source": [
      "Modeling at ESAC"
     ]
    },
    {
     "cell_type": "code",
     "collapsed": false,
     "input": [
      "from IPython.display import Latex\n",
      "import itertools"
     ],
     "language": "python",
     "metadata": {},
     "outputs": [],
     "prompt_number": 2
    },
    {
     "cell_type": "markdown",
     "metadata": {},
     "source": [
      "This tutorial will show how to perform bayesian analysis when modeling a transitional disk (in this case, T25, but this is a secret :)\n",
      "\n",
      "The modeling will be performed with two black bodies:\n",
      "- stellar black body\n",
      "- dust black body\n"
     ]
    },
    {
     "cell_type": "code",
     "collapsed": false,
     "input": [
      "%matplotlib inline\n",
      "import asciitable\n",
      "table = asciitable.read('data.txt')\n",
      "\n",
      "# read wavelength, flux, and flux error of the source\n",
      "lmb = table['Lmb[um]']\n",
      "flux = table['Lmb_flmb[erg/cm2/s]']\n",
      "flux_error = table['Lmb_flmb_err[erg/cm2/s]']\n",
      "\n",
      "# Make a plot of the observed Spectral Energy Distribution\n",
      "plt.errorbar(lmb,flux,yerr=flux_error,marker='o',fmt='o',color='black')\n",
      "plt.xscale('log')\n",
      "plt.yscale('log')\n",
      "plt.xlabel(r'$\\lambda$ [$\\mu$m]',fontsize = 14)\n",
      "plt.ylabel(r'$\\lambda F_{\\lambda}$ [erg/cm$^{2}$/s/$\\AA$]',fontsize = 14)\n",
      "plt.show()"
     ],
     "language": "python",
     "metadata": {},
     "outputs": [
      {
       "metadata": {},
       "output_type": "display_data",
       "png": "[encoded data removed]",
       "text": [
        "<matplotlib.figure.Figure at 0x10e169e50>"
       ]
      }
     ],
     "prompt_number": 1
    },
    {
     "cell_type": "markdown",
     "metadata": {},
     "source": [
      "The shape of this SED is due to two main components:\n",
      "- the emission from the star: dominates optical and near infrarred wavelengths\n",
      "\n",
      "- the emission from the the dust in the circumstellar disk: dominates mid/far infrared wavelengths\n",
      "\n",
      "We can model this in a simplistic way using two black bodies, one for the stellar component and another one for the dust emission.\n",
      "We will use a \"modified black body\" for the dust to allow for more complex physics there."
     ]
    },
    {
     "cell_type": "heading",
     "level": 2,
     "metadata": {},
     "source": [
      "Black body equation and function definition"
     ]
    },
    {
     "cell_type": "markdown",
     "metadata": {},
     "source": [
      "A black body is an idealized physical body which absorbs all incident electromagnetic radiation  and, if in thermal equilibrium, reemits it following the black body equation.\n",
      "\n",
      "\n",
      "$${\\large B_{\\lambda}(T) \\propto \\frac{1}{\\lambda^5}\\frac{1}{e^{\\frac{hc}{\\lambda k_B T}}-1}}$$\n",
      "\n",
      "where ${B_{\\lambda}(T)}$ is the irradiance, T is the temperature, c is the speed of light, h is the Planck constant, and ${k_B}$ if the Boltzmann constant. We will absorb the constant into the fitting process.\n",
      "\n",
      "Note that, for the SED, we are plotting $\\lambda B_\\lambda$\n",
      "\n",
      "Let's define a black body as a python function:"
     ]
    },
    {
     "cell_type": "code",
     "collapsed": false,
     "input": [
      "def bb(lmb, Teff):\n",
      "    \"\"\" This function takes a collection of wavelengths and a temperature, \n",
      "    and computes the emission of a black body at the given wavelengths\"\"\"\n",
      "    c = 3.e8\n",
      "    h = 6.62e-34\n",
      "    kb = 1.4e-23\n",
      "    exponent = h*c /(lmb*kb*Teff)\n",
      "    bb_emission = lmb**-5 * 1/(np.exp(exponent)-1)\n",
      "    return bb_emission"
     ],
     "language": "python",
     "metadata": {},
     "outputs": [],
     "prompt_number": 152
    },
    {
     "cell_type": "code",
     "collapsed": false,
     "input": [
      "# Lets make a try\n",
      "Teff = 5000. # K\n",
      "\n",
      "# Wavelength covered, in log scale, from 0.01 to 100 microns\n",
      "wavelength = np.logspace(np.log10(0.1),np.log10(500),100) # This is writen in microns\n",
      "stellar_emission = bb(wavelength*1e-6,Teff) # Note we have changed the wavelength to m\n",
      "\n",
      "# now lets plot it, in the y-axis we plot wavelength * stellar_emission\n",
      "plt.plot(wavelength,wavelength*stellar_emission,'-b')\n",
      "plt.xscale('log')\n",
      "plt.yscale('log')\n",
      "plt.show()"
     ],
     "language": "python",
     "metadata": {},
     "outputs": [
      {
       "metadata": {},
       "output_type": "display_data",
       "png": "[encoded data removed]",
       "text": [
        "<matplotlib.figure.Figure at 0x116a23690>"
       ]
      }
     ],
     "prompt_number": 153
    },
    {
     "cell_type": "heading",
     "level": 3,
     "metadata": {},
     "source": [
      "Modified black body"
     ]
    },
    {
     "cell_type": "markdown",
     "metadata": {},
     "source": [
      "The modified blackbody equation is used to model the dust thermal emission at mid/far-infrared wavelengths. Withouht getting into details, it accounts for effect of the \"opacity\" by modifying the black body equation: \n",
      "\n",
      "$${\\large B_{\\lambda}(T)_{modified} \\propto B_{\\lambda}(T) \\Big[ \\frac{\\lambda_{ref}}{\\lambda} \\Big] ^{-\\beta}}$$\n",
      "\n",
      "Where $\\lambda_{ref}$ is a reference wavelength and we will consider it to be 100 $\\mu$m.\n",
      "\n",
      "Lets define that function in python:\n"
     ]
    },
    {
     "cell_type": "code",
     "collapsed": false,
     "input": [
      "def mod_bb(lmb, Teff, beta):\n",
      "    \"\"\" This function takes a collection of wavelengths and a temperature, \n",
      "    and computes the emission of a black body at the given wavelengths\"\"\"\n",
      "    c = 3.e8\n",
      "    h = 6.62e-34\n",
      "    kb = 1.4e-23\n",
      "    exponent = h*c /(lmb*kb*Teff)\n",
      "    mod_bb_emission = lmb**-5 * 1/(np.exp(exponent)-1) * (1e-4/lmb)**-beta\n",
      "    return mod_bb_emission"
     ],
     "language": "python",
     "metadata": {},
     "outputs": [],
     "prompt_number": 154
    },
    {
     "cell_type": "code",
     "collapsed": false,
     "input": [
      "# Lets make a try\n",
      "Teff = 300. # K\n",
      "beta = 0.9\n",
      "\n",
      "# Wavelength covered, in log scale, from 0.01 to 100 microns\n",
      "wavelength = np.logspace(np.log10(0.1),np.log10(500),100) # This is writen in microns\n",
      "dust_emission = mod_bb(wavelength*1e-6,Teff,beta) # Note we have changed the wavelength to m\n",
      "\n",
      "# now lets plot it, in the y-axis we plot wavelength * stellar_emission\n",
      "plt.plot(wavelength,wavelength*dust_emission,'-b')\n",
      "plt.xscale('log')\n",
      "plt.yscale('log')\n",
      "plt.ylim(1e20,)\n",
      "plt.show()"
     ],
     "language": "python",
     "metadata": {},
     "outputs": [
      {
       "metadata": {},
       "output_type": "display_data",
       "png": "[encoded data removed]",
       "text": [
        "<matplotlib.figure.Figure at 0x11648f3d0>"
       ]
      }
     ],
     "prompt_number": 155
    },
    {
     "cell_type": "heading",
     "level": 3,
     "metadata": {},
     "source": [
      "The debris disk model"
     ]
    },
    {
     "cell_type": "markdown",
     "metadata": {},
     "source": [
      "Our debris disk model is therefore the sum of the stellar black body and the dust modified black body:\n",
      "\n",
      "$${\\large F_{model} = C_{star} * BB_{star}(T_{star}) + C_{dust} * modifiedBB_{dust}(T_{dust},\\beta) }$$\n",
      "\n",
      "Where $C_{star}$ and $C_{dust}$ are the respective scaling constant.\n",
      "This model would then be:"
     ]
    },
    {
     "cell_type": "code",
     "collapsed": false,
     "input": [
      "def debris_disk_model(lmb,T_star,scale_star,T_dust,scale_dust,beta_dust):\n",
      "    \"\"\" Compute the complete debris disk model.\n",
      "    We will return wavelength * flux directly to compare with our data \"\"\"\n",
      "    model = scale_star * bb(lmb,T_star) + scale_dust * mod_bb(lmb,T_dust,beta_dust)\n",
      "    model = model * lmb\n",
      "    return model"
     ],
     "language": "python",
     "metadata": {},
     "outputs": [],
     "prompt_number": 187
    },
    {
     "cell_type": "markdown",
     "metadata": {},
     "source": [
      "As mentioned before, we absorb the constants in the scaling of both the star and the dust. By eye (and considering we are plotting $\\lambda F_{\\lambda}$, we can estimate these parameters to be around:\n",
      "- scale_star= 1e-32\n",
      "- scale_dust= 1e-27\n",
      "\n",
      "Just to get an idea of the contribution of the different components, we can plot a toy model assuming also:\n",
      "- T_star ~3500 K\n",
      "- T_dust = 300 K\n",
      "- $\\beta$ = 0.9"
     ]
    },
    {
     "cell_type": "code",
     "collapsed": false,
     "input": [
      "teff_star = 3500.\n",
      "scale_star = 1e-32\n",
      "teff_dust = 300\n",
      "scale_dust = 1e-27\n",
      "beta = 1.5\n",
      "toy_model_flux = debris_disk_model(wavelength*1e-6,teff_star,scale_star,teff_dust,scale_dust,beta)"
     ],
     "language": "python",
     "metadata": {},
     "outputs": [],
     "prompt_number": 201
    },
    {
     "cell_type": "code",
     "collapsed": false,
     "input": [
      "# We plot it\n",
      "plt.plot(wavelength,toy_model_flux,'-b')\n",
      "plt.ylim(1e-12,5e-10)\n",
      "plt.xscale('log')\n",
      "plt.yscale('log')"
     ],
     "language": "python",
     "metadata": {},
     "outputs": [
      {
       "metadata": {},
       "output_type": "display_data",
       "png": "[encoded data removed]",
       "text": [
        "<matplotlib.figure.Figure at 0x119482a90>"
       ]
      }
     ],
     "prompt_number": 202
    },
    {
     "cell_type": "heading",
     "level": 2,
     "metadata": {},
     "source": [
      "Fitting the data"
     ]
    },
    {
     "cell_type": "markdown",
     "metadata": {},
     "source": [
      "Lets define the classical chi square function:"
     ]
    },
    {
     "cell_type": "code",
     "collapsed": false,
     "input": [
      "def compute_chi(flux,flux_error,model_fluxes):\n",
      "    chi = np.sum( ((flux-model_fluxes)/flux_error)**2 )\n",
      "    return chi"
     ],
     "language": "python",
     "metadata": {},
     "outputs": [],
     "prompt_number": 228
    },
    {
     "cell_type": "markdown",
     "metadata": {},
     "source": [
      "We can now create a grid of models, with different values for the five parameters in our model:\n",
      "- T$_{star}$: from 3000 to 5000K, in steps of 100 K\n",
      "- scale_star: from 1e-40 to 1e-38, in log steps of 0.1 dex\n",
      "- T$_{dust}$: from 200 to 1000, in steps of 100 K\n",
      "- scale_dust: from 1e-35 to 1e-33, in steps of 0.1 dex\n",
      "- $\\beta$: from 0.1 to 1.9, in steps of 0.1"
     ]
    },
    {
     "cell_type": "code",
     "collapsed": false,
     "input": [
      "teffs_star = np.arange(2500,4000,100.)\n",
      "scales_star = 10 ** np.arange(-32,-30,0.1)\n",
      "teffs_dust = np.arange(50,200,25)\n",
      "scales_dust = 10 ** np.arange(-28,-26,0.1)\n",
      "betas = np.arange(0.4,1.,0.1)\n",
      "\n",
      "# make all possible combinations\n",
      "params = [teffs_star,scales_star,teffs_dust,scales_dust,betas]\n",
      "possible_combinations = list(itertools.product(*params))\n",
      "\n",
      "print 'Total number of models to compute: ' + str(len(possible_combinations))"
     ],
     "language": "python",
     "metadata": {},
     "outputs": [
      {
       "output_type": "stream",
       "stream": "stdout",
       "text": [
        "Total number of models to compute: 216000\n"
       ]
      }
     ],
     "prompt_number": 233
    },
    {
     "cell_type": "code",
     "collapsed": false,
     "input": [
      "# we'll save the results in this variable\n",
      "results = list()\n",
      "\n",
      "# compute each_model\n",
      "print 'Computing models...'\n",
      "for model in possible_combinations:\n",
      "    teff_star = model[0]\n",
      "    scale_star = model[1]\n",
      "    teff_dust = model[2]\n",
      "    scale_dust = model[3]\n",
      "    beta = model[4]\n",
      "    model_fluxes = debris_disk_model(lmb*1e-6,teff_star,scale_star,teff_dust,scale_dust,beta)\n",
      "    chi = compute_chi(flux,flux_error,model_fluxes)\n",
      "    result = [teff_star,scale_star,teff_dust,scale_dust,beta,chi]\n",
      "    results.append(result)\n",
      "results = np.array(results)\n",
      "\n",
      "print '...done!'"
     ],
     "language": "python",
     "metadata": {},
     "outputs": [
      {
       "output_type": "stream",
       "stream": "stdout",
       "text": [
        "Computing models...\n",
        "...done!"
       ]
      },
      {
       "output_type": "stream",
       "stream": "stdout",
       "text": [
        "\n"
       ]
      }
     ],
     "prompt_number": 234
    },
    {
     "cell_type": "code",
     "collapsed": false,
     "input": [
      "# Let's see how the best fit model looks like\n",
      "index = np.where(results[:,5] == np.min(results[:,5]))[0]\n",
      "best_model = results[index][0]\n",
      "\n",
      "teff_star = best_model[0]\n",
      "scale_star = best_model[1]\n",
      "teff_dust = best_model[2]\n",
      "scale_dust = best_model[3]\n",
      "beta = best_model[4]\n",
      "\n",
      "print ''\n",
      "print '----------------------'\n",
      "print 'Best model parameters:'\n",
      "print '----------------------'\n",
      "print 'Teff star: %i K ' % teff_star\n",
      "print 'Scale star: %.2e erg/cm2/s/A ' % scale_star\n",
      "print 'Teff dust: %i K ' % teff_dust\n",
      "print 'Scale dust: %.2e erg/cm2/s/A ' % scale_dust\n",
      "print 'Beta: %1.1f ' % beta\n",
      "print ''\n",
      "print ''\n",
      "\n",
      "#stop\n",
      "model = debris_disk_model(wavelength*1e-6,teff_star,scale_star,teff_dust,scale_dust,beta)\n",
      "\n",
      "plt.errorbar(lmb,flux,yerr=flux_error,marker='o',fmt='o',color='black')\n",
      "plt.plot(wavelength,model,'-b')\n",
      "\n",
      "plt.ylim(1e-13,1e-9)\n",
      "plt.xscale('log')\n",
      "plt.yscale('log')\n",
      "plt.xlabel(r'$\\lambda$ [$\\mu$m]',fontsize = 14)\n",
      "plt.ylabel(r'$\\lambda F_{\\lambda}$ [erg/cm$^{2}$/s/$\\AA$]',fontsize = 14)"
     ],
     "language": "python",
     "metadata": {},
     "outputs": [
      {
       "output_type": "stream",
       "stream": "stdout",
       "text": [
        "\n",
        "----------------------\n",
        "Best model parameters:\n",
        "----------------------\n",
        "Teff star: 3200 K \n",
        "Scale star: 1.26e-32 erg/cm2/s/A \n",
        "Teff dust: 100 K \n",
        "Scale dust: 3.98e-27 erg/cm2/s/A \n",
        "Beta: 0.5 \n",
        "\n",
        "\n"
       ]
      },
      {
       "metadata": {},
       "output_type": "pyout",
       "prompt_number": 238,
       "text": [
        "<matplotlib.text.Text at 0x119643b90>"
       ]
      },
      {
       "metadata": {},
       "output_type": "display_data",
       "png": "[encoded data removed]",
       "text": [
        "<matplotlib.figure.Figure at 0x11a70a850>"
       ]
      }
     ],
     "prompt_number": 238
    }
   ],
   "metadata": {}
  }
 ]
}