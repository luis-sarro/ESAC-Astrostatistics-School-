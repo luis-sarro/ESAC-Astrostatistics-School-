{
 "metadata": {
  "name": "",
<<<<<<< HEAD
  "signature": "sha256:62efad74232b7918f7509d671a90bbae025813b0c42a67ebc5c834b89a0fe228"
=======
  "signature": "sha256:04c4143c4ca41319258d269564d3aaf39fb2b80bb492a0467c6e9ed010905523"
>>>>>>> 0605639d135a32d372983f8ed6313f983eec5953
 },
 "nbformat": 3,
 "nbformat_minor": 0,
 "worksheets": [
  {
   "cells": [
    {
     "cell_type": "heading",
     "level": 1,
     "metadata": {},
     "source": [
      "Spectra of protoplanetary disks with black bodies"
     ]
    },
    {
     "cell_type": "markdown",
     "metadata": {},
     "source": [
      "Protoplanetary disks are disk of dust and gas, which form around new-born stars because of the conservation of angular momentum. They are also the scenario where planets form, so it is easy to understand why they are interesting  (see [Williams & Cieza 2011](http://arxiv.org/abs/1103.0556)) if you want some scientific background about protoplanetary disks).\n",
      "\n",
      "A usual way of studying these objects is by means of their Spectral Energy Distributions **(SEDs)**, which is the representation of the flux measured at different wavelengths. The quantity that we can measure is the *flux density (flux per unit of wavelength)*, so that is usually translated into *flux* by plotting $\\lambda F_{\\lambda}$, where $\\lambda$ is the wavelength at which the flux $F_{\\lambda}$ is measured.  \n",
      "**Note**: in case you are getting puzzled here, an SED is nothing but a spectrum over a large range of wavelengths.  \n",
      "**Note 2**: luminosities are obtained by integrating the whole SEDs over the wavelength range.  \n",
      "\n",
      "By studying SEDs of protoplanetary disks, we can infer some of their physical characteristics. However, protoplanetary disks have a huge diversity of morphologies, sizes, gaps, structures, ... As a result, physical models used to produce synthetic SEDs are very complex and depend on a large number of free parameters. \n",
      "\n",
      "<img src=\"http://astrobiology.gsfc.nasa.gov/mandell/images/mandell/disk_comet_nebula.jpg\" width=\"700\">\n",
      "\n",
      "But we don't need that complexity now :) "
     ]
    },
    {
     "cell_type": "heading",
     "level": 2,
     "metadata": {},
     "source": [
      "A simplification of protoplanetary disks"
     ]
    },
    {
     "cell_type": "markdown",
     "metadata": {},
     "source": [
      "Let us simplify the scenario mentioned above to a star with some dust surrounding it.\n",
      "\n",
      " * as you probably know, a star spectrum ($\\equiv$ SED) can be approximated with a black body with the stellar effective temperature ($T_{eff}$).\n",
      " * we can assume the dust to behave as a black body too. \n",
      " \n",
      "Note that assigning a $T_{eff}$ is not trivial: dust closer to the star will be hotter, and dust in the outer regions will be colder. One could think of this as a *continuum* of black bodies with different temperatures.\n",
      "\n",
      "But we can simplify that too :)"
     ]
    },
    {
     "cell_type": "heading",
     "level": 3,
     "metadata": {},
     "source": [
      "Transitional disks"
     ]
    },
    {
     "cell_type": "markdown",
     "metadata": {},
     "source": [
      "Transitional disks are a special kind of protoplanetary disks with large holes in it (this is cool because planets are a good way of producing those holes!).\n",
      "\n",
      "We could now think of a protoplanetary disk in which the hottest, inner region is missing. In the following scheme, a transitional disk would be the last case.\n",
      "\n",
      "<img src=\"http://www.spitzer.caltech.edu/uploaded_files/graphics/fullscreen_graphics/0009/2675/sig05-026_Sm.jpg\" width=\"500\">\n",
      "\n",
      "In those cases, the $T_{eff}$ range is smaller than in full protoplanetary disks, and the disk emission can be approximated much better with a single black body. The following figure displays a real SED of a transitional disk."
     ]
    },
    {
     "cell_type": "code",
     "collapsed": false,
     "input": [
      "# Imports libraries required for this notebook\n",
      "from IPython.display import Latex\n",
      "from scipy.interpolate import interp1d\n",
      "import itertools\n",
      "import asciitable\n",
      "import matplotlib.pyplot as plt \n",
      "import numpy as np \n",
      "%matplotlib inline\n",
      "\n",
      "# object_data.txt contains the observed values for this object.\n",
      "table = asciitable.read('data/object_data.txt')\n",
      "\n",
      "# read wavelength, flux, and flux error\n",
      "lmb = table['Lmb[um]']\n",
      "flux = table['Lmb_flmb[erg/cm2/s]']\n",
      "flux_error = table['Lmb_flmb_err[erg/cm2/s]']\n",
      "\n",
      "\n",
      "# Create figure\n",
      "fig = plt.figure()\n",
      "ax = fig.add_subplot()\n",
      "# Make a plot of the observed Spectral Energy Distribution\n",
      "plotted_data = plt.errorbar(lmb,flux,yerr=flux_error,marker='o',fmt='o',color='black',label='Observations')\n",
      "plt.xscale('log')\n",
      "plt.yscale('log')\n",
      "plt.xlabel(r'$\\lambda$ [$\\mu$m]',fontsize = 14)\n",
      "plt.ylabel(r'$\\lambda F_{\\lambda}$ [erg/cm$^{2}$/s]',fontsize = 14)\n",
      "\n",
      "# We also know the type of star this object is, \n",
      "# so we also show the corresponding stellar model. \n",
      "# Note that is is *NOT* a black body but a physical model, \n",
      "# although not really far from a pure black body.\n",
      "model = np.load('data/star_spectrum.npy')\n",
      "model_lmb = model[0]\n",
      "model_flux = model[1]\n",
      "plt.plot(model_lmb,model_flux,color='gray',alpha=0.7,label='Star')\n",
      "\n",
      "# Change the axis to show the data properly\n",
      "plt.xlim(1e-1,)\n",
      "plt.ylim(1e-13,)\n",
      "plt.legend(loc='best')\n",
      "\n",
      "# Finally, display the plot\n",
      "plt.show()"
     ],
     "language": "python",
     "metadata": {},
     "outputs": [
      {
       "metadata": {},
       "output_type": "display_data",
       "png": "iVBORw0KGgoAAAANSUhEUgAAAaAAAAEeCAYAAADM9sFcAAAABHNCSVQICAgIfAhkiAAAAAlwSFlz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\ngxx5gCdtAAAAAElFTkSuQmCC\n",
       "text": [
<<<<<<< HEAD
        "<matplotlib.figure.Figure at 0x10499d350>"
       ]
      }
     ],
     "prompt_number": 1
=======
        "<matplotlib.figure.Figure at 0x2ac34b65a390>"
       ]
      }
     ],
     "prompt_number": 108
>>>>>>> 0605639d135a32d372983f8ed6313f983eec5953
    },
    {
     "cell_type": "markdown",
     "metadata": {},
     "source": [
      "As you can see, the observations of this object resemble two black bodies.\n",
      "\n",
      "However, since we are aware of complex phenomena going on in our disks, we are going to use a \"modified\" black body for the dust emission, to allow the model to have some flexibility (and account for some of the physical processes there).\n",
      "\n",
      "Here is a reminder of black bodies and modified black bodies."
     ]
    },
    {
     "cell_type": "heading",
     "level": 4,
     "metadata": {},
     "source": [
      "Black body and modified black body equations"
     ]
    },
    {
     "cell_type": "markdown",
     "metadata": {},
     "source": [
      "A black body is an idealized physical body which absorbs all incident electromagnetic radiation  and, if in thermal equilibrium, reemits it following the black body equation.\n",
      "\n",
      "$${\\large B_{\\lambda}(T) \\propto \\frac{1}{\\lambda^5}\\frac{1}{e^{\\frac{hc}{\\lambda k_B T}}-1}}$$\n",
      "\n",
      "where ${B_{\\lambda}(T)}$ is the irradiance, T is the temperature, c is the speed of light, h is the Planck constant, and ${k_B}$ if the Boltzmann constant. We will absorb the constant into the fitting process.\n",
      "\n",
      "A modified black body is a modified version of this equation, with the form\n",
      "\n",
      "$${\\large B_{\\lambda}(T)_{modified} \\propto B_{\\lambda}(T) \\Big[ \\frac{\\lambda_{ref}}{\\lambda} \\Big] ^{-\\beta}}$$\n",
      "\n",
      "where $\\lambda_{ref}$ is a reference wavelength and we will consider it to be 100 $\\mu$m.\n",
      "\n",
      "Note that, for the SED, we are plotting $\\lambda B_\\lambda$\n",
      "\n",
      "\n",
      "**Important**: with this definition of a modified blackbody, a pure black body is a modified black body with $\\beta = 0$."
     ]
    },
    {
     "cell_type": "heading",
     "level": 4,
     "metadata": {},
     "source": [
      "A toy model for our simplistic transitional disk"
     ]
    },
    {
     "cell_type": "markdown",
     "metadata": {},
     "source": [
      "We can now compute some simple models of SEDs of transitional disks as the sum of two modified blackbodies :)\n",
      "\n",
      "- stellar emission: a modified black body with temperature $T_{star}$ (and a fixed $\\beta=0$). *One free parameter*.\n",
      "- dust emission: a modified blackbody, with temperature $T_{dust}$ and $\\beta_{dust}$. *Two free parameters*.\n",
      "- the luminosity fraction, $f$: defined as the ratio of the disk luminosity over the stellar luminosity (remember they are computed by integrating the SEDs over the whole wavelength range). It can be understood in terms of \"the scale of the emission from the disk with respect to that of the star\". *One free parameter*\n",
      "\n",
      "Therefore, our model has **four free parameters** ($T_{star}$,$T_{dust}$,$\\beta_{dust}$, and $f$). \n",
      "\n",
      "(Note that one could also play with the absolute scale of the model, which is related to the distance to the object. In this notebook, we will simply scale our model to match the observations at a certain wavelength).\n",
      "\n",
      "The final form of our model is therefore:\n",
      "\n",
      "$$B_{model} = Blackbody_{modified}({T_{star}},\\beta=0) + A * Blackbody_{modified}({T_{dust}},{\\beta_{dust}})$$\n",
      "\n",
      "where A is the scaling factor depending, meeting\n",
      "\n",
      "$$ f = \\frac{A*L_{disk}}{L_{star}} $$\n",
      "\n",
      "$T_{star}, T_{dust}, \\beta$ and $f$ are the free parameters. We then multiply everything by $\\lambda$ and we are done.\n",
      "\n",
      "Lets define that function in Python."
     ]
    },
    {
     "cell_type": "code",
     "collapsed": false,
     "input": [
      "def mod_bb(lmbs,teff,beta):\n",
      "    \"\"\" Modified black body function.\n",
      "    - lmb: wavelengths for which to compute the modified blackbody. In MICRONS.\n",
      "    - teff: effective temperature.\n",
      "    - beta: modified black body factor.\n",
      "    \"\"\"\n",
      "    c = 3.e8\n",
      "    h = 6.62e-34\n",
      "    kb = 1.4e-23\n",
      "    exponent = h*c /(lmbs*1e-6*kb*teff)\n",
      "    mod_bb_emission = lmbs**-5 * 1/(np.exp(exponent)-1) * (1e-4/lmbs)**-beta\n",
      "    return mod_bb_emission\n",
      "\n",
      "\n",
      "def yso_model_function(lmbs,t_star,t_dust,beta_dust,f):\n",
      "    \"\"\" Disk model.\n",
      "    - lmb: wavelengths for which to compute the modified blackbody. In MICRONS.\n",
      "    - t_star: effective temperature of the star.\n",
      "    - t_dust: effective temperature of the disk.\n",
      "    - b_dust: modified black body parameter for the disk.\n",
      "    - f: fractional luminosity, i.e. disk luminosity / star luminosity.\n",
      "    \"\"\"\n",
      "    # Stellar emission (beta=0)\n",
      "    stellar_emission = mod_bb(lmbs,t_star,0.)\n",
      "    \n",
      "    #\u00a0Disk emission\n",
      "    disk_emission = mod_bb(lmbs,t_dust,beta_dust)\n",
      "    \n",
      "    # Use the fractional luminosity to scale the disk emission\n",
      "    A = f * np.sum(stellar_emission) / np.sum(disk_emission)\n",
      "    \n",
      "    # The disk model is therefore\n",
      "    model = stellar_emission + A * disk_emission\n",
      "    \n",
      "    # and don't forget to multiply by the wavelength\n",
      "    model = model * lmbs\n",
      "        \n",
      "    return model"
     ],
     "language": "python",
     "metadata": {},
     "outputs": [],
<<<<<<< HEAD
     "prompt_number": 2
=======
     "prompt_number": 45
>>>>>>> 0605639d135a32d372983f8ed6313f983eec5953
    },
    {
     "cell_type": "code",
     "collapsed": false,
     "input": [
      "# Let's try this thing\n",
      "lmb_model = np.logspace(np.log10(0.1),np.log10(500),100)\n",
      "\n",
      "# Some parameters\n",
      "teff_star = 3200. # K\n",
      "teff_dust = 120.  # K\n",
      "beta_dust = 0.8\n",
      "f = 5.e-3\n",
      "\n",
      "yso_model = yso_model_function(lmb_model,teff_star,teff_dust,beta_dust,f)\n",
      "\n",
      "norm_factor = flux[5]/yso_model_function(lmb[5],teff_star,teff_dust,beta_dust,f)\n",
      "yso_model = yso_model * norm_factor\n",
      "\n",
<<<<<<< HEAD
      "# As mentioned before, we scale the model so that it matches the value \n",
      "# at a certain value. We will use the 5th wavelength, corresponding\n",
      "# to the 2MASS J band.\n",
      "norm_factor = flux[5] / disk_model_function(lmb[5],teff_star,teff_star,beta_dust,f)\n",
      "disk_model = norm_factor * disk_model\n",
=======
>>>>>>> 0605639d135a32d372983f8ed6313f983eec5953
      "# And plot our model together with the observed values.\n",
      "plt.plot(lmb_model,yso_model,'-r')\n",
      "plt.plot(lmb,flux,'ok')\n",
      "plt.xscale('log')\n",
      "plt.yscale('log')\n",
      "plt.ylim(1e-12,)"
     ],
     "language": "python",
     "metadata": {},
     "outputs": [
      {
       "metadata": {},
       "output_type": "pyout",
       "prompt_number": 97,
       "text": [
        "(1e-12, 1.0000000000000001e-09)"
       ]
      },
      {
       "metadata": {},
       "output_type": "display_data",
       "png": "iVBORw0KGgoAAAANSUhEUgAAAYQAAAEHCAYAAACumTGlAAAABHNCSVQICAgIfAhkiAAAAAlwSFlz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\n",
       "text": [
        "<matplotlib.figure.Figure at 0x2ac35261ff10>"
       ]
      }
     ],
     "prompt_number": 97
    },
    {
     "cell_type": "markdown",
     "metadata": {},
     "source": [
      "Not that far!"
     ]
    },
    {
     "cell_type": "heading",
     "level": 4,
     "metadata": {},
     "source": [
      "Computing the likelihood"
     ]
    },
    {
     "cell_type": "markdown",
     "metadata": {},
     "source": [
      "Our toy model seems to work, so now we can compute a synthetic SED at the wavelengths of the observations, and add some noise.\n",
      "\n",
      "We will add gaussian noise, with a $\\sigma$ corresponding to 5% of the flux value.\n",
      "\n",
      "(THIS STEP AND THE NORMALIZATION TO THE OBSERVED VALUES CAN BE INCLUDED IN THE FUNCTION SO THAT WE DON'T HAVE TO REPEAT ALL THE CORRESPONDING LINES OF CODE)"
     ]
    },
    {
     "cell_type": "code",
     "collapsed": false,
     "input": [
      "# compute the synthetic SED\n",
      "synthetic_sed = yso_model_function(lmb,teff_star,teff_dust,beta_dust,f)\n",
      "# normalize it\n",
      "norm_factor = flux[5] / yso_model_function(lmb[5],teff_star,teff_dust,beta_dust,f)\n",
      "synthetic_sed = norm_factor * synthetic_sed\n",
      "\n",
      "# Then, simulate data observations by adding Gaussian noise\n",
      "scalar_uncert = 0.05\n",
      "yso_obs = np.random.normal(loc=synthetic_sed,scale=scalar_uncert*synthetic_sed)\n",
      "\n",
      "plt.plot(lmb,synthetic_sed,'ok')\n",
      "plt.plot(lmb,yso_obs,'ok',color='b')\n",
      "plt.xscale('log')\n",
      "plt.yscale('log')\n",
      "plt.ylim(1e-12,)\n"
     ],
     "language": "python",
     "metadata": {},
     "outputs": [
      {
       "metadata": {},
       "output_type": "pyout",
       "prompt_number": 142,
       "text": [
        "(1e-12, 1.0000000000000001e-09)"
       ]
      },
      {
       "metadata": {},
       "output_type": "display_data",
       "png": "iVBORw0KGgoAAAANSUhEUgAAAYQAAAEHCAYAAACumTGlAAAABHNCSVQICAgIfAhkiAAAAAlwSFlz\nAAALEgAACxIB0t1+/AAAF1tJREFUeJzt3W1wnOV56PG/6y3SFIKN7dAFm8m6Gzx2ZjKDGQjT5jSo\nx8CK6ORAk7YkxXxoq9b5oBfoMKSNY7SKqnSS8QwgKW1oReI2tISmQ5PUTzEmhJVzTj/0JXZIOnUn\n3sFpbKpQ/DrkjDSRR+fDyrJedu1d7bP77LP7/81o2L20Lxf3rPfS81z3c98gSZIkSZIkSZIkSZIk\nSZIkSZIkSVIFVkfwnu8BxoD/CbQD/x5BDpKkBvD7wP+Yu/31KBORJIXji8CPge8tiXcCR4EfAJ8o\n8rx3UjhC+Bzwf2qZoCSpPn4Z2M7igrAaOAakgJ8FjgDbgIeAJ4Ablzz2a/VIVJJUeykWF4RfBA4s\nuP8Hcz8LvQt4GngW+KVaJidJKl8i5NfbCPxowf0TwB1LHvNDYNflXiSdTs/m8/mQU5OkppcH3r3S\nJ/9MiIkAzIbxIvl8ntnZ2Zr+DAwM1Py5V3rc5X5f6ndL48UeV85jHM+VjV09xrKa96nkeSsdz0ri\njTCejfDZrNd4AulqvnurnXa6FvhN4E/n7q8B7qNwOgigCzgH/N8KXzebzWarTO3KUqlUzZ97pcdd\n7velfrc0XuxxC2O5XI6Ojo7L5hGGOI5nObEoxrJYHrV43krHs5J4I4xnI3w2L/eYsMZzcHAQYPCK\nidRIisU9hASFQ5YUcBWXmsqVmh0YGJh99dVXZ1W9gYGBqFNoGo5luBzPcLz66quzAwMDs1R5lmZV\nFc99DrgTWA+8CTwOfAm4F3iSwtHHM8Afr+C1Z2dnQzn7JOr7V22zcyzD5XiGa9WqVVDF93o1BaGW\nLAiSVKFqC0LYTWVJUkxFsZZRObIXb1TTDJKkVpDL5di3bx8TExNQRVPZU0aS1CQ8ZSRJCoUFQZIE\n2EOQpNizhyBJWsQegiQpFBYESRJgQZAkzbGpLEkxZ1NZkrSITWVJUigsCJIkwIIgSZpjQZAkAc4y\nkqTYc5aRJGkRZxlJkkJhQZAkARYESdIcC4IkCbAgSJLmOO1UkmLOaaeSpEWcdipJCoUFQZIEWBAk\nSXMsCJIkwIIgSZpjQZAkARYESdIcC4IkCfBKZUmKPa9UliQt4pXKkqRQWBAkSYAFQZI0x4IgSQIs\nCJKkORYESRJgQZAkzbEgSJIAC0LLCoKATCZDR0cHmUyGIAiiTklSxBJRJ6D6C4KA/v5+8vn8fOzi\n7a6urqjSkhQxl65oQZlMhoMH/xHYClwN/AQ4Sibzfg4cOBBtcpJWrNqlKxr2CCGbzdLR0UFHR0fU\nqTSdkyfPAx8Enl8QfYATJ/4zoowkVSOXy5HL5ap+HY8QWtCGDZ2cOrX8SGD9+nt5660XI8hIUhhc\n3E4Vu+GGm0vE313nTCQ1EgtCC7rxxjVF4xs3rq1zJpIaiQUhxrLZvWzY0MnatfezYUMn2ezesp7X\n13cP6fTuRbF0+pP09t5d9PFOUZVagz2EmMpm9zI8fISZmWfnY4nETnbvvoVs9tErPj8IDjE6+jJT\nU6tpb79Ab+/ddHV9oMjjArq7H2Fycg0XZyQlk+cYH3/CKapSg6m2h2BBiKl6NYZvvfVODh9OsnRG\n0vbtk3znOxOhvY+k6tlUblEzM+0l4m2hvs/x420sLgYAz3P8ePH3lxRfFoSYSiSmSsSnQ32f2dmr\nS/ymVFxSXFkQYqqn5y4SiZ2LYonEg/T07Aj1fTZvvr5E/J2hvo+k6NlDiLFsdi9jY68wM9NGIjFN\nT8+OshrKlQiCQ3R3v8Dk5JPzsWSyn/HxjxRtQkuKjk1l1Vy5M5IkRcuCIEkCnGUkSQqJBUGSBFgQ\nJElzLAgKjWseSfFW6w1yNgO7gTXAr1O4mulPgGkgB/x1jd9fdeK2nFL81foI4XWge8H9DwN/A/we\n8L9r/N6xF6e/uEdGRsjnfwzcBtwJ3EY+/2NGR0cjzkxSuco9Qvgi0AW8Cbx3QbwTeBJYDYwDn73C\n62wEvjt3+0L5abae5auMnua11x5hfLwx/+J2W04p/so9QvgShS//hVYDY3Px9wAfA7YBDwFPADcW\neZ0TwE0VvndL2rPnc0xObgf+mcLZtX9mcnI7e/Z8LtrESigUruWL4E1OuumOFBflfil/GzizJPY+\n4BhwHPgp8BXgPuDLwCPAG8A64AvAduATwAvARyj0Eb5RXerNLW6rjLotpxR/1TSVNwI/WnD/BHDH\nksecBj6+JPbb5bx4Npudv93R0UFHR0fFCcZZ3FYZvfHGNXz/+8vjbssp1U4ulyOXy4X2etUUhJqu\nLbGwILSizZuv5/DhYvHGXGW0r+8e8vnd5PPD87HCtpxLzzRKCsvSP5YHBwerer1qCsJJLvUDmLt9\noqpsNG9o6EG6ux9etsropz/9YIRZlXZxsbvR0T0LFsHrdBE8KUYqWQQpBfw9l2YZJYD/AHZQ6Bf8\nE4XG8r+HkJeL2+Eqo5IqU+3iduUeITxHYXL5egp9g8cpzDzqAV6iMOPoGcIpBkDhlFEr9g4W6ur6\ngAVA0hWF1Utw+WtJahIufy1JCsXqqBMoIXvxRiqVii4LSYqBXC7Hvn37mJiYAFjxVCNPGUlSk/CU\nkSQpFBYESRJgQZAkzbGpLEkxZ1NZkrSITWVJUigsCA0gm93Lhg2drF17Pxs2dJLN7o06JUktyFNG\nEctm9zI8fISZmWfnY4nETnbvvoVs9tEIM5MUN017yiibzYa68UOjGhv75qJiADAz8yxjY69ElJGk\nuMnlcqHsIeMRQsTWrr2fc+e+tiy+Zs39nD27PC5JpTTtEUKrSCSmSsSn65yJpFZnQYhYT89dJBI7\nF8USiQfp6dkRUUaSWpWnjBpANruXsbFXmJlpI5GYpqdnhw1lSRWr9pSRBUENIwgOMTJykOnpBG1t\nM/T13eOOcVIF6rWFZt25hWZrCYJDdHe/wOTkk/Ox1157mPFxLArSFbiFpprKrbfu4vDhp4vG//Vf\nl8clLecsIzWF119/s0T8v+ucidS6LAhqCKtW/aTEb0rFJYXNgqCGkEpNAw8sif4GqVTx6zQkhc+C\noIYwNPQYyeRh4HagA7idZPIIQ0OPRZuY1EJsKqthBEHA6OgoU1NTtLe309vbS1dXV9RpSbHRtNch\nDAwMOO1Ukspwcdrp4OAgNGNB8AhBkirjtFNJUigsCJIkwIIgNZUgCMhkMnR0dJDJZAiCIOqUFCMN\nu5aRpMoEQUB/fz/5fH4+dvG2s7VUDpvKUpPIZDIcPPiPwFbgagpXeR8lk3k/Bw4ciDY51UXTrnYq\nqTInT54HPgg8vyD6ACdO/GdEGSlu7CFITWJycg2LiwHA80xOro0iHcVQwx4huB+CtNzlNhG64Yab\nOXVq+XNuuOHddc5S9eZ+CFKLCYJD9Pe/RD4/PB9Lp3fz1FMZuro+QCbzKQ4e/KNlz8tk9nDgwFA9\nU1VEvDBNahEjIwcXFQOAfH6Y0dGXAejru4d0evei36fTn6S39+665ah4a9hTRpIWe+ONc0XjJ0+e\nBS5tNTo6uoepqdW0t1+gt7fTLUhVNk8ZSTGxYUMnp04tnz66fv29vPXWixFkpEbjKSOpRSST5yi2\niVAyeTaKdOZls3vZsKGTtWvvZ8OGTrLZvZHmo5XzlJFiKQgCRkZGmJ6epq2tjb6+vqa/Gnfjxmv5\nt3/7BwqbCF268GzTpvdHllM2u5fh4SPMzFw6chke3gnsJZt9NLK81FxmpVL2798/m0zePAu3zcKd\ns3DbbDJ58+z+/fujTq2m9u/fP5tOp2eB+Z90Oh3p//f69ZlZmF32s359Z2Q5tbK5z8WK2UNQ7Nx6\n650cPpxk6RW527dP8p3vTESVVl002q5ya9fez7lzX1sWX7Pmfs6eXR5Xbbl0hVrO8eNtFLsi9/jx\nTBTp1FVXV1dDnRpLJKZKxKfrnInCYFNZsTM7e3WJ35SKq1Z6eu4ikdi5KJZIPEhPz46IMlI1PEJQ\n7GzefD2HDxeLv7P+ybS4QuN4L2Nj9zIz00YiMU1Pzw4byjFlD6EOWnFGTC0FwSG6u19gcvLJ+Vgy\n2c/4+Ee8CEstrdoewurwUglV9uKNVCoVXRYhCIKA7u5H+O53Z/nhD68inz/Pt771dbZt+wW2bNkS\ndXqxtGXLu9i27ec4dWqcTZsOsXXrKwwP/y+LgVpWLpdj3759TExMAAyu9HU8QqixVp4RI6m+vFK5\nwZWeEdMeRTqSVJIFocacESMpLiwINbZ58/Ul4s6I0XKuC6QoWRBqbGjoQZLJhxfFksl+Pv3pByPK\nSI3q4rpAp04d4Ny5r3Hq1AGGh49YFFQ3NpXrIAgOMTr68oI16u92RoyWcXlrVavaprIFQWoQrguk\najnLSGoSrgukqFkQpAbhukCKmqeM1JSy2b2MjX2TmZl2EokpenruisX6OoW8X3FdIK2IPQRpiUu7\neD07H0skdrJ79y1+uaqpWRCkJZyto1ZlU1laYmam+LIgMzNtdc5EihcLgpqOs3WklbEgqOk4W0da\nGXsIakrO1lErsqksSQIav6m8GRgHvlriviSpQdS6ILwOdF/mvtSSgiAgk8nQ0dFBJpMhCIKoU5JI\nlPm4LwJdwJvAexfEO4EnKezNPA58NtTspCYUBAH9/f3k8/n52MXbXV1dUaUllX2E8CUKX/4LrQbG\n5uLvAT4GbAMeAp4AbgwpR6mpjIyMLCoGUCgIo6OjEWUkFZRbEL4NnFkSex9wDDgO/BT4CnAf8GXg\nEeANYB3wBeAW4BNF7kstZ3p6GrgGuA24c+6/1zA1Vfz6Caleyj1lVMxG4EcL7p8A7ljymNPAx5fE\nlt4vKpvNzt/u6Oigo6Oj4gSlpYLgECMjB5meTtDWNkNf3z1136zo/PlZ4IPA8wuiD3D+/GRd81D8\n5XI5crlcaK9XTUGo6bzQhQVBCkMQHKK7+wUmJ5+cj7322sOMj1PnorAVeHpJ7HlWrdpVxxzUDJb+\nsTw4OFjV61Uzy+gkcNOC+zdROEqQGtKePX+1qBgATE4+yeOP/1Vd87j22huKxt/xjuJxqV6qKQj/\nAtwMpICrgAeAb4SQE1A4QgjzUEh6/fU3S8T/u655tLXNFI23t1+oax5qHrlcLpSzKuVe0fYche7X\negpTTx+nMPPoXi5NO30G+OOqMyrwSmWFbt26ezhz5uCy+HXXZTh9+qW65REEh+jvf4l8fng+lk5/\nkqee6qx7P0PNpdorlcvtIXysRPzFuR+p4aVS05w58wCLm7m/QSpV39k9F7/0R0f3MDW1mvb2C/T2\nWgwUPdcyUssIgoDu7keYnFwDXA38hGTyHOPjT3hBmJpCtUcIq8NLJVTZizdSqVR0WaipbNmyhW3b\nfoFTp77Hpk0zbN16LcPDj1sMFHu5XI59+/YxMTEBsOKpRh4hSFKTqFcPQZIaSiNcZNhsLAiSYqdx\nLjJsLvYQJMXORz/6GY4d+/yi2Ntvd3L06GfYtetDEWUVHXsIklrWddf9KmfP/l2R+Ic5ffqFCDJq\nDI2+Y5okhW7Vqp+U+E2puMphD0HCBmXcNMpFhs3GgqCWZ4MyfoaGHpu7yPB2Fl5kODT0RNSpxZpN\nZbW8WjUog+AQvb1/zjPPHOK5577JunUJtmx5V7XpCi8yXMqmshSSWjQoix11JJMPMz7+YY86VDM2\nlaUq1aJB2Sh7L0iVsCCo5aVS0xS281iougZlo+y9IFXCgqCWNzT0GMnkYeB2oAO4nWTyCENDj634\nNZ0WqThylpFaXldXF+PjMDo6ytTUFO3t6+ntzVbVoHRapOKoYZvKAwMDyzaQluLCvRdUT7lcjlwu\nx+DgIFTxvd6wBSFus4yCIGBkZITp6Wna2tro6+vzH36LC4JgwVFHO729vX4mVFPVzjKyIIQgCAL6\n+/vJ5/PzsXQ6zVNPPeUXgKS6sSA0gEwmw8GDyzdvz2QyHDhwIIKMJLUiN8hpANPT08A1wFYuni+G\no0xN2UCUFB8WhBCcPz8LfJDFM0oe4Pz5yYgykqTKeR1CKLayuBgAPM+qVVujSEaSVqRhC0I2myWX\ny0WdRlmuvfaGovF3vKN4XJLClMvlyGazVb+OTeUQZDKf4uDBPyoS38OBA0MRZCSpFbm4XQPo67uH\ndHr3olg6/Ul6e++OKCNJqpxHCCEJgkOMjr7M1NRq2tsv0Nt7t8scN5lSu6pls3sZG/smMzPtJBJT\n9PTcRTb7aNTpqgV5HYJUB6X2N/iVX5nlq189xczMs/PxRGInu3ffYlFQ3VkQpDq49dZdHD789LL4\n6tUZLlx4aVl8/fp7eeutF+uRmjTPHoJUB6X2N7hw4eeKxmdm2mqZjlQTXpgmlaH0/gZvF40mEtO1\nS0ahKNUTamUWBKkMpfY3+Pmfn+TUqZ1LeggP0tOzo+45qnzFekKvvfYw4+O0dFFYHXUCJWQv3kil\nUtFlIc3ZtOl6vvWtfbz99l8Cfw18nmTyhzzzzF7S6QTf//4QV131t1xzzV/w6KO/ZEO5wX30o5/h\n2LHPL4q9/XYnR49+hl27PhRRViuXy+XYt28fExMTAIMrfR2bylKZ3N+geVx33a9y9uzfFYl/mNOn\nX4ggo3A4y0iSKrRu3T2cObN8yfrrrstw+vTyWWNx4SwjSapQKjUNPLAk6p7XFgRJLWdo6DGSycPA\n7UAHcDvJ5BGGhh6LNrGIecpIUktqxp6QPQRJEmAPQZIUEguCJAmwIEiS5lgQJEmABUGSNMeCIEkC\nLAiSpDmudipJMedqp5KkRbwwTZIUCguCJAlwC01JKluz78NsQZCkMgTBIfr7XyKfH56P5fO7gebZ\nh9lTRpJUhpGRg4uKAUA+P8zo6MsRZRQ+C4IkleGNN84VjZ88ebbOmdSOBUGSyvBf//WDEvFjdc6k\ndiwIklSGZPIcxfZhTiY9QpCklrJx47XAP7BwH2Z4kU2b1kSZVqicZSRJZejr6yOfz5PP/8t8LJ1O\n09vbG2FW4bIgSFIZurq6ABgdHWVqaor29nZ6e3vn483AtYwkqUm4lpEkKRQWBEkSYEGQJM2pR0HY\nDIwDX527fx/wZ8BXgLvr8P6SpDLUoyC8DnQvuP914PeAj7P8Kg/VQC6XizqFpuFYhsvxbCyVFIQv\nAj8Gvrck3gkcBX4AfKKC1/sUMFbB47VC/qMLj2MZLsezsVRSEL5E4ct/odUUvtQ7gfcAHwO2AQ8B\nTwA3FnmdVcBngReBIxXmG5pqPojlPvdKj7vc70v9bmm82OOi+EcWx/EsJxbVF9ZK37eS5610PCuJ\nN8J4NsJn83KPaaTxrKQgfBs4syT2PuAYcBz4KYW+wH3Al4FHgDeAdcAXgFuAPwB6gB3ArwG7Vp56\ndRrhQ2JBqOy5FoRwn2dBCO+5zVIQKr2AIQX8PfDeufu/BmSA3527vxO4A6j2Wu5jQLrK15CkVpMH\n3r3SJ1e7dEWtLide8f+QJGllqp1ldBK4acH9m4ATVb6mJCkGUiyeZZSgcIiSAq6i0CTeVvesJEl1\n9RyFJvE08CPgt+bi9wL/QeG8/x9Gk5okSZIkSZJa09I1kbQyVwN/QWE9qd+MOJdm4OcyXK51Fp6t\nwJ8CfwP8TsS51Iz/8KrzEHBxi6evRJlIk/FzGa61FAqtqvczFIpCWQ+st7DXRFJlY7qRwqQAgAt1\nyS5+/IyGayXj6VpnxVU6lh8CAhr4j79fBraz+H9oNYVZSingZ7k0fbXYmkj+JbZcJWO6k0tHCM/V\nL8VYqWQ8L/JzWVol43lxrbMd9U0xNlby2YTCKtNXFMURQhhrIvnX2WKVjOkLwEeAPwG+Ub8UY6WS\n8fRzeWWVjGdDrHXWwCoZyzuBp4CngVfLefFql64Iy8LTGFC42vmOJY85TWEPBZWn1Jj+P+C3I8ko\n3kqNp5/LlSk1nr3AaCQZxVepsZyY+ylbo2yhWas1kVqZYxouxzNcjmd4QhvLRikIrokUPsc0XI5n\nuBzP8MR+LFO4JlLYUjimYUrheIYpheMZlhRNNJauiRQ+xzRcjme4HM/wOJaSJEmSJEmSJEmSJEmS\nJEmSJEmSpMbx/wFWP3l60ki5hQAAAABJRU5ErkJggg==\n",
       "text": [
        "<matplotlib.figure.Figure at 0x2ac35328cf10>"
       ]
      }
     ],
     "prompt_number": 142
    },
    {
     "cell_type": "markdown",
     "metadata": {},
     "source": [
      "We can now calculate the likelihood of this model with respect to the observations. When comparing observational data to models, the likelihood function is proportional to \n",
      "\n",
      "$$\\mathcal{L}(\\mathcal{D}|\\theta) \\propto exp\\biggl(-\\frac{\\chi^{2}}{2}\\biggr)$$\n",
      "\n",
      "where $\\chi$ is the typical *chi square*:\n",
      "\n",
      "$$ \\chi^2 = \\sum_{i}\\biggl(\\frac{F_{\\rm obs,i} - F_{\\rm model,i}}{ \\sigma_{\\rm obs,i}}\\biggr)^2$$\n",
      "\n",
      "**IMPORTANT**: I usually do this, but I think the real value should be divided by some factor (1 over 2 square root of something?). "
     ]
    },
    {
     "cell_type": "code",
     "collapsed": false,
     "input": [
      "def log_likelihood(flux_obs,error_obs,flux_syn):\n",
      "    value = np.sum(((flux_obs - flux_syn)/error_obs)**2)\n",
      "    value = (-value/2)\n",
      "    return value\n",
      "\n",
      "print log_likelihood(yso_obs,yso_obs*scalar_uncert,synthetic_sed)"
     ],
     "language": "python",
     "metadata": {},
     "outputs": [
      {
       "output_type": "stream",
       "stream": "stdout",
       "text": [
        "-8.97447978843\n"
       ]
      }
     ],
     "prompt_number": 143
    },
    {
     "cell_type": "code",
     "collapsed": false,
     "input": [
      "# Compute a grid of values of teff_dust and beta_dust\n",
      "grid_size = 10\n",
      "nvals = range(grid_size)\n",
      "teff_dust_grid = [80.+float(x)*grid_size for x in nvals]\n",
      "beta_dust_grid = [0.2+float(x)/grid_size for x in nvals]\n",
      "params_grid = np.meshgrid(teff_dust_grid,beta_dust_grid)\n",
      "\n",
      "grid_log_likelihoods = np.zeros(shape=(grid_size,grid_size))\n",
      "\n",
      "for idx1 in nvals:\n",
      "    for idx2 in nvals:\n",
      "        model_sed = yso_model_function(lmb,teff_star,teff_dust_grid[idx2],beta_dust_grid[idx1],f)\n",
      "        norm_factor = flux[5]/yso_model_function(lmb[5],teff_star,teff_dust_grid[idx2],beta_dust_grid[idx1],f)\n",
      "        model_sed = model_sed * norm_factor\n",
      "        grid_log_likelihoods[idx1,idx2] = log_likelihood(yso_obs,yso_obs*scalar_uncert,model_sed)       \n",
      " \n",
      "print log_likelihood(yso_obs,yso_obs*scalar_uncert,synthetic_sed)        \n",
      "print grid_log_likelihoods\n",
      "print params_grid[0]\n",
      "print params_grid[1]\n",
      "\n",
      "#levels= [-10,-20,-100,-10^4,-10^6]\n",
      "plt.contourf(params_grid[0],params_grid[1],np.log(-grid_log_likelihoods))\n"
     ],
     "language": "python",
     "metadata": {},
     "outputs": [
      {
       "output_type": "stream",
       "stream": "stdout",
       "text": [
        "-8.97447978843\n",
        "[[ -8.05004344e+02  -1.80544858e+02  -1.55284791e+02  -2.75061939e+02\n",
        "   -4.42663768e+02  -6.38878162e+02  -8.58135824e+02  -1.09444390e+03\n",
        "   -1.33959597e+03  -1.58421548e+03]\n",
        " [ -1.22929404e+03  -2.30204283e+02  -1.06042777e+02  -2.01236947e+02\n",
        "   -3.62259566e+02  -5.54350882e+02  -7.68395333e+02  -9.98460428e+02\n",
        "   -1.23736040e+03  -1.47680221e+03]\n",
        " [ -1.91939217e+03  -3.62740930e+02  -7.88437118e+01  -1.29449925e+02\n",
        "   -2.77955007e+02  -4.64892689e+02  -6.74284989e+02  -8.98995136e+02\n",
        "   -1.13236713e+03  -1.36701872e+03]\n",
        " [ -3.00856208e+03  -6.30560633e+02  -9.42865009e+01  -6.75188474e+01\n",
        "   -1.92268283e+02  -3.70790437e+02  -5.75182029e+02  -7.95111530e+02\n",
        "   -1.02364338e+03  -1.25398471e+03]\n",
        " [ -4.68991135e+03  -1.11369674e+03  -1.85767492e+02  -2.93217495e+01\n",
        "   -1.10635793e+02  -2.73727519e+02  -4.71094996e+02  -6.86107237e+02\n",
        "   -9.10240019e+02  -1.13673190e+03]\n",
        " [ -7.24042749e+03  -1.93290401e+03  -4.06360852e+02  -3.84480656e+01\n",
        "   -4.34006355e+01  -1.77897198e+02  -3.63301433e+02  -5.71884265e+02\n",
        "   -7.91446529e+02  -1.01432609e+03]\n",
        " [ -1.10531593e+04  -3.26828783e+03  -8.39053476e+02  -1.33825913e+02\n",
        "   -8.97447979e+00  -9.18282082e+01  -2.55429154e+02  -4.53602439e+02\n",
        "   -6.67190712e+02  -8.86111876e+02]\n",
        " [ -1.66794625e+04  -5.38541129e+03  -1.61178300e+03  -3.78297252e+02\n",
        "   -3.88059054e+01  -3.13358556e+01  -1.55254990e+02  -3.34801210e+02\n",
        "   -5.38751034e+02  -7.52170201e+02]\n",
        " [ -2.48832111e+04  -8.67125535e+03  -2.91922979e+03  -8.71529083e+02\n",
        "   -1.85096599e+02  -2.42319091e+01  -7.76509199e+01  -2.23286462e+02\n",
        "   -4.09990099e+02  -6.14138019e+02]\n",
        " [ -3.67085475e+04  -1.36827753e+04  -5.05390518e+03  -1.76919860e+03\n",
        "   -5.32641207e+02  -1.17749995e+02  -4.93440411e+01  -1.34252009e+02\n",
        "   -2.89445477e+02  -4.76634807e+02]]\n",
        "[[  80.   90.  100.  110.  120.  130.  140.  150.  160.  170.]\n",
        " [  80.   90.  100.  110.  120.  130.  140.  150.  160.  170.]\n",
        " [  80.   90.  100.  110.  120.  130.  140.  150.  160.  170.]\n",
        " [  80.   90.  100.  110.  120.  130.  140.  150.  160.  170.]\n",
        " [  80.   90.  100.  110.  120.  130.  140.  150.  160.  170.]\n",
        " [  80.   90.  100.  110.  120.  130.  140.  150.  160.  170.]\n",
        " [  80.   90.  100.  110.  120.  130.  140.  150.  160.  170.]\n",
        " [  80.   90.  100.  110.  120.  130.  140.  150.  160.  170.]\n",
        " [  80.   90.  100.  110.  120.  130.  140.  150.  160.  170.]\n",
        " [  80.   90.  100.  110.  120.  130.  140.  150.  160.  170.]]\n",
        "[[ 0.2  0.2  0.2  0.2  0.2  0.2  0.2  0.2  0.2  0.2]\n",
        " [ 0.3  0.3  0.3  0.3  0.3  0.3  0.3  0.3  0.3  0.3]\n",
        " [ 0.4  0.4  0.4  0.4  0.4  0.4  0.4  0.4  0.4  0.4]\n",
        " [ 0.5  0.5  0.5  0.5  0.5  0.5  0.5  0.5  0.5  0.5]\n",
        " [ 0.6  0.6  0.6  0.6  0.6  0.6  0.6  0.6  0.6  0.6]\n",
        " [ 0.7  0.7  0.7  0.7  0.7  0.7  0.7  0.7  0.7  0.7]\n",
        " [ 0.8  0.8  0.8  0.8  0.8  0.8  0.8  0.8  0.8  0.8]\n",
        " [ 0.9  0.9  0.9  0.9  0.9  0.9  0.9  0.9  0.9  0.9]\n",
        " [ 1.   1.   1.   1.   1.   1.   1.   1.   1.   1. ]\n",
        " [ 1.1  1.1  1.1  1.1  1.1  1.1  1.1  1.1  1.1  1.1]]\n"
       ]
      },
      {
       "metadata": {},
       "output_type": "pyout",
       "prompt_number": 144,
       "text": [
        "<matplotlib.contour.QuadContourSet instance at 0x2ac353638cb0>"
       ]
      },
      {
       "metadata": {},
       "output_type": "display_data",
       "png": "iVBORw0KGgoAAAANSUhEUgAAAXgAAAD7CAYAAABgzo9kAAAABHNCSVQICAgIfAhkiAAAAAlwSFlz\nAAALEgAACxIB0t1+/AAAFTNJREFUeJzt3X2w5XVdwPE3sGAxpcaQpLDuLcTUEkwRDR+4FiXY5PYw\nxWzWBDQj0wRjZYmrzbCbo0ip4zSUQz4NNSPYqFM0Iyg2rAuiBg0Pkmyw4N52F5MQDacsWdn++J7j\nebjn6Z7zO7/v0/s1c4dz7/449zOXy3s/93vO2QVJkiRJkiRJkiRJkiRJkqQiHdHWJ3o2HL6vrU8m\nSeW4C3jBPP9ia4EHDh9+Y4ufbQY7boUdZzZzX49dcUwj93P5zkNsv2xTI/fVhHcd9UcAfHbHbs7a\n8crI0wwaN9MVj14aYZrg0BWXs+nS7WN//TsXP7nFaTq+tAOev6OxuzvmyscWvo9pX6dYljHXpcdd\nsdC//7Yj3gFztjqdkmSsqbinphv3XMQM+yRRoq4kLBr3RRl4jWTcF1di2JvY3msRO+5QeeBXNy9+\nH01v7y8/68hG728eo+K+ZXVLhEkm686UUtyfuP3V6YX9aauN3E2TcT/yZS9v7L6a1NRcKcQdKj+D\nX1SJRzNu7vNLLuwNc3ufTdNxX+QMPv66KM3JuLfHuM8mlc29y8DPye09LuPeHuM+m9TiDpWfwc/L\nuMeVStxLD7tml2LcwQ1eGPd51BJ3t/fpUo07GPgNK217N+4bZ9zVlXLcwcBviHGPx7i3y7hPl3rc\nwcBXy7hvXC1x13Q5xB0M/MxK2t6N+8bVFHe398lyiTv4LJqZlBT3nKQQ95rCDsZ9mpziDm7wU5UW\n91y2d+Ou1OQWdzDwVTHus6sx7m7v4+UYdzDwE5W0vRv32Rl39cs17mDgxzLu7TPuSk3OcQcDXzzj\nPrta4+72PlrucYfZnkXzIeAXgIeB54+55i+Ac4H/Ac4H7mhiuFhK2d6N+2xqDTsY91FKCHvXLBv8\nh4FzJvz6a4BnAacArwfe18Bc0Rj3dhl3paSkuMNsgb8Z+MaEX38tcHXn9heBpwInLDiXKmDc43J7\nH1Ra3KGZM/gTgf197x8ATmrgflvn9t4e4x6XcR9UYtyhuVeyDv91UodHXbTj1t7t1c3N/J2oTTHu\n7THucRn3tO3btcbarrVG7quJwB8E+lN9Uudj6+w4s4HPtgTGvT3GPS7jvl5q2/vK6hZW+v6S+907\nb5n7vpoI/HXAxcC1wEuBbwJfa+B+tQHGfbLaww7GfZTU4t60WQJ/DXAWcDzhrP0y4OjOr10FfJLw\nTJq9wH8DFzQ/5vKUsr2nzrjHZdzXKz3uMFvgt81wzcWLDqL55bC9x2LcjfsoNcQdKn8lawnbew5x\nj7W9G3eNUkvcoeLAG/d2GPe43N4H1RR3qDjwWj7jHpdxV5WBd3tfPuOu1NS2vUOFf2WfcS+TYR/k\n9j6oxrhDpRt8znKIe9vbu3EfZNwH1Rp3qCzwJWzvqTPuSknNcYeKAl9C3FPf3o17fG7vPbXHHSoK\nfO6M+yDjvp5x7zHuQRWBz317N+6DjLsmMe49VQRe5TDuo7m9a5TiA+/2vlxtbu/GfTTj3uP2Pqjo\nwBv35TLuSolxX6/owGt5jHsa3N4D4z5asYF3e18e454G4x4Y9/GKDLxxL4Nx1zTGfbIiA5+z1OPe\n1vZu3Cdzezfusygu8Llv7ykz7mkw7sZ9VsUFPmcpb+/GXcpPUYHPeXs37sZ9Fm7vbu8bUUzgjfty\nGPd0GHfjvlHFBF75Mu7TGXfjPo8iAu/2vhxtbO/GfTrjbtznVUTgc2Xcjfs0xt24LyL7wOe8vacq\n1l+YrUHG3bgvKuvA5xz3VLd3H1RNg3E37k3IOvC5Mu7GfRLjbtybkm3gc93eU417W4z7ZMbduDcp\n28CrWZ67x2fcjXvTsgy823uzPJqJz7gb92XILvDGvVnGPT7jbtyXJbvAqzkey8Rn3I37MmUVeLf3\n5vi3MsVn3I37smUV+BylGPc2LS3u19wd3jJl3I17G7IJfK7be4qyP3fvD3uGkTfuxr0t2QQ+Rylu\n79mfu48KekaRN+7GvU1ZBD7H7b32uC9le58U8gwib9zVtuQDb9ybkX3cZ5Fw5I174PberuQDr8Vl\nfywDs8c7wcgb98C4ty/pwLu956f1o5kmrl8i4x4Y9ziSDnxuUox79kcz88Y6gcgbd8U2S+DPAfYA\n9wOjanE8cANwJ3APcH4Tg+W4vaem2rgnwLj3uL3HMy3wRwFXEiL/PGAb8Nyhay4G7gBeAKwC7wY2\nNTplBlLb3os4d19UpN8gjHuPcY9rWuDPAPYC+4DHgWuBrUPXfBXorm9PBr4OHFpkqNy299rjnvT2\n3nLkjXuPcY9vWuBPBPb3vX+g87F+7wd+AngIuAt4wyIDGffFGPcW7m8M495j3NMw7Sjl8Az38RbC\n+fsqcDJwI3Aa8K3hC3fc2ru9ujm8KV/+IWI9xr3HuC9m36411natNXJf0wJ/EOjP8GbCFt/vTODt\nndsPAF8Bfhy4ffjOdpw5+ZO5vS+mmHP3bac2u3VvO7W5+5KWbGV1CyurW773/u6dt8x9X9OOaG4H\nTgFWgGOA84Drhq7ZA5zduX0CIe4Pzj2R5lLE0Uy/pqLcQtzd3nvc3tMyLfCHCM+S+RTwZeCjwL3A\nRZ03gHcApxPO3z8DvAl4dKODuL3no7WjmUXjbNxbZdzTM8vTGa/vvPW7qu/2I8AvNjZRBlKLezFH\nM03yWKZVxj1NSbySNbftvWatP7A6T6hbirvbe2Dc05VE4HNS8/Ye7VkzGwm2cW+VcU9b9MC7vc+v\nqqOZWcLtsYw0IHrgc5La9t6mJJ7zPingLcbd7T1we09f1MDntL2nFvcqjmZGGRVy4946454HN3hN\nlFTcu/qDbtxbZ9zzEe1PfXR7n19b23uSce/yvD0K454XN/jMVPXAakLc3o17jqIE3u09fUlv7y0z\n7sY9V27wGfFoRtJGtB54t/e0GfdBbu9u7zlzgx8jtbh79t4+427cc9dq4HPa3mvk9t5j3I17Cdzg\nR6hxezfu6mfcy2DgE2fc21f79m7cy2Hgh6S2vS+bcR9Ue9xVFgPfJ7W4+8Cq2ub2XhYDXzG390G1\nb+/GvTwGvqO27d24DzLuxr1EBj5Bxr1dxt24l8rAk972rvYYd+NeMgOfGLf39hh341666gOf0vbu\ns2baU3vcVYeqA59S3Nvg9h4Yd7f3WlQd+JS4vbfDuBv3mlQb+Nq2dxl3MO61qTbwKfHPm1k+427c\na1Rl4FPa3j2aWT7jbtxrVWXgVQ/jbtxrVl3ga9zeaz2eMe6qXVWBrzHutTLugdt73aoKfI1q3N6N\ne2DcVU3g3d7rYNwD4y6oKPCpMO7LY9ylQVUEPqXtvU01Hc8Y9x63d3VVEfhUuL0vh3HvMe7qV3zg\nU9nejftyGHdpvKIDn0rcY6jheMa4D3J717CiA58Kt/fmGfdBxl2jFBv4VLb3GHEvfXs37oOMu8aZ\nJfDnAHuA+4FxtVoF7gDuAXY1MZg0inGXZrdpyq8fBVwJnA0cBG4DrgPu7bvmqcBfAq8GDgDHNz/m\nxtS8vZfMuK/n9q5Jpm3wZwB7gX3A48C1wNaha34D+Dgh7gCPNDhftmLFvdTjGeO+nnHXNNMCfyKw\nv+/9A52P9TsFOA64Cbgd+K3GpptDKtu7mmPcpflMO6I5PMN9HA28EPhZ4Fjg88AXCGf2rUol7h7N\nNMe4j+b2rllMC/xBYHPf+5vpHcV07Sccy3y787YbOI0Rgb9856Hv3X75WUfyitXynsQTM+6lHc8Y\n99GMe9n27VpjbddaI/c1LfC3E45gVoCHgPOAbUPX/APhgdijgCcBLwHeM+rOtl827dPNL5XtXVom\n416+ldUtrKxu+d77u3feMvd9TSvuIeBi4FOEgH+Q8Ayaizq/fhXhKZQ3AHcDTwDvB74890QZc3tv\njtv7esZdGzXLSn19563fVUPvv6vzFoXbe1mMu9SM8g7BI/GB1WYY99Hc3jWP7APv9l7O8YxxH824\na17ZBz4Fbu+LM+6jGXctIuvAu72XwbhLy5F14FMQe3sv5XhG67m9a1HZBt7tvQxu76MZdzUh28Ar\n/+3duI9m3NWULAOfyvYe+3gmZ8Z9NOOuJmUZeOXNuEvtyC7wbu9Brsczxn08t3c1LbvAK1/GfTzj\nrmXIKvBu7yqRcdeyZBV4BTkez7i9j2bctUzZBN7tPV/GXYojm8AryG17N+7jub1r2bIIvNt7noz7\neMZdbcgi8MqPcR/PuKstyQfe7b0nl+MZ4y6lIfnASyVxe1ebkg6823uP23v+jLvalnTglRfjPp5x\nVwzJBt7tvSeH7d24j2fcFUuygVc+jLuUpiQD7/bek/r2btwnc3tXTEkGXoFxz5txV2wGfozY27tx\nz5txVwqSC3wqxzMxGXdJTUgu8CmIvb2nzLhP5/auVCQVeLf3tBn36Yy7UpJU4JXu8Yxxn864KzXJ\nBD6V7d3jmfWMu5SnZAKvNBn32bi9K0WbYg8Abu8pMuyzM+5KVRKBVzoMu1QOA99R+/Zu2Ofj9q6U\nRQ98KsczKYjxDBrDPj/jrtRFD7ziMOxS+aIGPpXtvabjGcPeDLd35cANvhKGvTnGXbmIFni393YY\ndqlebvCJaPoBVsO+HG7vysksr2Q9B9gD3A9MWndfDBwCfqWBuVpR4vZ+zJWPGfclMe7KzbQN/ijg\nSuBs4CBwG3AdcO+I664AbgCOmPZJUzmeKYlRlzRsWuDPAPYC+zrvXwtsZX3gLwE+Rtjis1DK9m7Y\n2+H2rhxNC/yJwP6+9w8ALxlxzVbgZwiBPzzpDt3em2HY22PclatpgZ8Y6473Am/uXHsEE45oLt95\niFuP3A3AltUtrKxumXHMZuW+vRt3qVz7dq2xtmutkfuaFviDwOa+9zcTtvh+LyIc3QAcD5wLPE44\nqx9w9J++mbPmm1Mdxr1dbu9q28rQ8rt75y1z39e0wN8OnAKsAA8B5wHbhq75sb7bHwb+kRFxT0XO\n27txb5dxV+6mPU3yEHAx8Cngy8BHCQ+wXtR5U0Omxdu4S9qoWV7odH3nrd9VY669YLFxpDS4vasE\nVf2Vfbkez7i9t8u4qxRVBT51o0Ju3Ntl3FWSagKf4/Zu3CUtoprA58a4t8/tXaUx8Aky7u0z7ipR\nFYHP6XjGuEtqShWBlyZxe1epig98Ttu72mfcVbLiAy9JtTLwqpbbu0pXdOA9ntE4xl01KDrw0ijG\nXbUoNvBu75JqV2zgpVHc3lUTA69qGHfVpsjAezwjSYUGXhrm9q4aFRd4t3cNM+6qVXGBl/oZd9XM\nwEtSoYoKvMcz6uf2rtoVFXipy7hLBl6SilVM4D2eUZfbuxQUE3gJjLvUz8CrGMZdGlRE4D2ekaT1\nigi85PYurWfglT3jLo2WfeA9npGk0bIPvOrm9i6NZ+CVLeMuTZZ14D2ekaTxsg686uX2Lk1n4JUd\n4y7NxsBLUqGyDbzn73Vye5dml23gVR/jLm2MgZekQmUZeI9n6uP2Lm3crIE/B9gD3A+MquvrgLuA\nu4HPAac2Mp2EcZfmNUvgjwKuJET+ecA24LlD1zwIvJIQ9rcBf93gjEvzxC03xx5hnRRngjTn2rdr\nLfYI6zjTbFKcCdKda16zBP4MYC+wD3gcuBbYOnTN54H/6tz+InBSQ/Ot0+TxzBOfu6Wx+2pKijNB\nvLkmbe9rCf7P6EyzSXEmSHeuec0S+BOB/X3vH+h8bJzfAT65yFCSpMVtmuGawxu4v1cBFwIvm28c\nqcezd2kxR8xwzUuBHYQzeIDtwBPA8P99pwKf6Fy3d8T97AVOnmtKSarXA8CzlnXnmzqfYAU4BriT\n9Q+yPpMQ8JcuawhJ0nKcC/wbIeLbOx+7qPMG8AHg68Adnbd/bntASZIkSQvYDvwr8CXgI8CTgOOA\nG4H7gE8DT215pjd05rmnc5tIM30I+Fpnlq5Jc2wnvMBsD/DzLc70a4T/ht8FXjh0fayZ/hy4l/Ci\nuk8AT0lgprd15rkT+Cdgc8szjZur642Ex8yOa3muUTPtIDwLr/uT/rkJzARwCeH76h4GH1uMNdO1\n9L5GX+n8s82ZJlohvPDpSZ33Pwr8NvBnwJs6H7sUeGeLM/0k4Qv4fYQXbt1IeMA3xkyvAH6Kwf+g\n4+Z4HiEcRxO+rntZzh8vMWqm5wDPBm5iMPAxZ/q5vs/1TtL4Ov1g3+1LCMeVbc40bi4Iv9ncQIhE\nN/Axv1aXAX844tqYM72K0IOjO+//cAIz9XsX8CfzzrSMgR8jvCDqWMIDtMcCDwGvBa7uXHM18EtL\n+NzjPIfwAqz/JWyknwV+NdJMNwPfGPrYuDm2AtcQvp77CP9Bz2hppj2EnyiGxZzpRsI2CoMvqIs5\n07f6bv8A8EjLM42bC+A99BaHrphfKxj9zL2YM/0ucHnncwP8ZwIzdR0B/HpnjrlmWkbgHwXeDfw7\nIezfJPyPeQLhRxE6/zxhCZ97nHsIv1MeR/gN5zWEOMScqd+4OZ5B+JG2a9qLzNqQykwX0ntBXeyZ\n3k74fj+fEIsUZtra+Zx3D3089lyXEI60PkjvKDLmTKcQ/piVLwC7gNMTmKnrFYQePDDvTMsI/MnA\n7xN+hHgGYav5zaFrDrOxF1Atag/hbO3TwPWEH3O+G3mmcabNkcKMw9qe6a3AdwiP74zT5kxvJTxV\n+MPAeydc19ZMxwJvIRyJdE16zUtbc70P+FHgBcBXCYvgOG3NtAn4IcJTvP8Y+LsJ17b9fb6Nyd/j\nMGWmZQT+dOBWwtMmDxEeDPtp4D+AH+lc83Tg4SV87kk+1JntLMKPRPcRfneMOVPXuDkOMvig3Umd\nj8UUe6bzCT+BvS6hmbo+Ary4czvmTCcTFqy7COfvJwH/QvjJMOZcD9NbYD5A73gh5kwHCI0CuI1w\nBHh85Jkg/Mbzy4THMLtizwTAaYQjke8nbA1XA79HeCCx+yeFvZl2H2QFeFrnn88kPGL+lIgzrbD+\nQdZRc3QfVDmGsPk8wGyvPm5ipq6bgBf1vR9zpnMIz+w5fui6mDOd0nf7EuBvI8w0aq5+ox5kjfG1\nenrf7T+gt53GnOkiYGfn9rMJR22xZ4LwvX7T0Mfa/p4a6030niZ5NeFR3+OAzxDvaZK7OzPdSXjk\nnEgzXUN4bOI7hD/E7YIpc7yF8GDKHuDVLc10IeGB3v3Atwk/fV2fwEz3A2v0nkL2VwnM9DHC9/md\nwMfpLRJtzdQ/1//R+57q9yCDT5OM9bX6G8JjAncBf8/gY15tztT/dTqa8Jvylwg/5awmMBOE477X\nj7i+re8pSZIkSZIkSZIkSZIkSZIkSZIkSWrG/wMRPjse+LjnVgAAAABJRU5ErkJggg==\n",
       "text": [
        "<matplotlib.figure.Figure at 0x2ac35354e150>"
       ]
      }
     ],
     "prompt_number": 144
    },
    {
     "cell_type": "code",
     "collapsed": false,
     "input": [],
     "language": "python",
     "metadata": {},
     "outputs": []
    }
   ],
   "metadata": {}
  }
 ]
}