{
 "metadata": {
  "name": "",
  "signature": "sha256:bbdea375430f1e95be8380194b5a716536b3a81eed73ca5d935a1df4942f3759"
 },
 "nbformat": 3,
 "nbformat_minor": 0,
 "worksheets": [
  {
   "cells": [
    {
     "cell_type": "heading",
     "level": 1,
     "metadata": {},
     "source": [
      "0 **Disclaimer** "
     ]
    },
    {
     "cell_type": "markdown",
     "metadata": {},
     "source": [
      "* My company (that is I) accepts no liability for the content of this notebook, or for the consequences of any actions taken on the basis of the information provided, which is in all respects a compromise between rigour and mathematical correctness on one side and my undisguised intention to transmit to you my enthusiasm for probabilistic inference in Science.\n",
      "* Python is not my mother language, in fact I had never written code in python, so be prepared for very inelegant code. And no checking at all. So the code is not reusable unless you pay attention to software engineering issues. "
     ]
    },
    {
     "cell_type": "code",
     "collapsed": false,
     "input": [
      "# Imports libraries required for this notebook\n",
      "from IPython.display import Latex\n",
      "from scipy.interpolate import interp1d\n",
      "from scipy.interpolate import interpn\n",
      "from scipy.stats import norm\n",
      "from scipy.stats import multivariate_normal\n",
      "from scipy import integrate\n",
      "from scipy.spatial.distance import mahalanobis\n",
      "import itertools\n",
      "import math\n",
      "import astropy.io.ascii as asciitable\n",
      "import matplotlib.pyplot as plt \n",
      "import numpy as np \n",
      "from scipy import optimize\n",
      "from scipy.stats import gaussian_kde\n",
      "import numpy as np\n",
      "import pystan\n",
      "# import numdifftools as nd ##\u00a0Will comment this out so far so that it runs\n",
      "%matplotlib inline\n"
     ],
     "language": "python",
     "metadata": {},
     "outputs": [],
     "prompt_number": 1
    },
    {
     "cell_type": "heading",
     "level": 1,
     "metadata": {},
     "source": [
      "1 Model fitting"
     ]
    },
    {
     "cell_type": "heading",
     "level": 2,
     "metadata": {},
     "source": [
      "1.1 Intro"
     ]
    },
    {
     "cell_type": "markdown",
     "metadata": {},
     "source": [
      "Here I briefly introduce myself and the content of my lectures. I will explain what I will be talking about, how this content will be structured and the basics of the ipython notebook, so the audience can use the hands-on blocks to reproduce and modify our codes. \n",
      "\n",
      "I assume no prior knowledge on statistics other than what can be safely assumed for anyone having a scientific background. \n",
      "\n",
      "I prefer being interrupted for questions, but do not be disappointed if I answer 'I do not know' or 'I have to think about that'. I hope to learn from these lectures as much as you may possibly learn from them. I may not reach the end of the lectures, but you will have the notebook available to explore, and you have my <a href=\"mailto:lsb@dia.uned.es\">email</a> for questions. \n",
      "\n",
      "In particular, I will start by formulating a series of questions to the audience. These questions will be prototypical scientific problems in the area of astronomy, with the aim of showing that these questions can and are best formulated in statistical terms. I will also formulate for the sake of comparison alternative problems where the techniques I will be dealing with maybe an over-kill.\n",
      "\n",
      "Then, I will go on to introduce a particular instance of this class of conceptual problems: the probabilistic inference of the real physical parameters of a pre-main sequence system composed of a young star plus a circumstellar dust disk. As you may probably know, our knowledge about these systems has greatly increased in the past few years with new observations in the infrared where the disks emit most of their energy. \n",
      "\n",
      "\n",
      "<img src = \"images/Robitaille-drawing.jpg\" width=\"400\" align=\"left\">"
     ]
    },
    {
     "cell_type": "markdown",
     "metadata": {},
     "source": [
      "Protoplanetary disks are disk of dust and gas, which form around new-born stars because of the conservation of angular momentum. They are also the scenario where planets form, so it is easy to understand why they are interesting  (see [Williams & Cieza 2011](http://arxiv.org/abs/1103.0556)) if you want some scientific background about protoplanetary disks).\n",
      "\n",
      "A usual way of studying these objects is by means of their Spectral Energy Distributions **(SEDs)**, which is the representation of the flux measured at different wavelengths. The quantity that we can measure is the *flux density (flux per unit wavelength)*, so that is usually translated into *flux* by plotting $\\lambda F_{\\lambda}$, where $\\lambda$ is the wavelength at which the flux $F_{\\lambda}$ is measured.  \n",
      "**Note**: in case you are getting puzzled here, an SED is nothing but a spectrum over a large range of wavelengths.  \n",
      "**Note 2**: luminosities are obtained by integrating the whole SEDs over the wavelength range.  \n",
      "\n",
      "By studying SEDs of protoplanetary disks, we can infer some of their physical characteristics. However, protoplanetary disks have a huge diversity of morphologies, sizes, gaps, structures, ... As a result, physical models used to produce synthetic SEDs are very complex and depend on a large number of free parameters. \n",
      "\n",
      "<img src=\"http://astrobiology.gsfc.nasa.gov/mandell/images/mandell/disk_comet_nebula.jpg\" width=\"700\">\n",
      "\n",
      "But we don't need that complexity now :) "
     ]
    },
    {
     "cell_type": "markdown",
     "metadata": {},
     "source": [
      "\n",
      "With new, more complete and precise observations, more complex <b>physical</b> models have also been made available to the scientific community (see e.g. Robitaille, <a href=\"http://adsabs.harvard.edu/abs/2006ApJS..167..256R\">2006 </a>, <a href=\"http://adsabs.harvard.edu/abs/2014ASSP...36..157R\">2014 </a>)\n",
      "\n",
      "This problem is a complex one, with 14 parameters in the case of the Robitaille library of SEDs models, but possibly more in other libraries. Just to give a flavour of the physical parameters used to index the Robitaille models, we would have \n",
      "\n",
      "<img src = \"images/Robitaille-table.jpg\" width=\"500\" align=\"left\">\n"
     ]
    },
    {
     "cell_type": "markdown",
     "metadata": {},
     "source": [
      "Let me illustrate some of the most relevant aspects of the model fitting problem with a very simplified version of this problem. In it, instead of using the Robitaille grid of physical models to understand our observations, we will be using modified black bodies which can be defined with far less parameters than the more complex Robitaille's. We will come back to this later."
     ]
    },
    {
     "cell_type": "heading",
     "level": 2,
     "metadata": {},
     "source": [
      "1.2 Dramatis personae"
     ]
    },
    {
     "cell_type": "markdown",
     "metadata": {},
     "source": [
      "Here I define \n",
      "* Probability density functions\n",
      "* The laws pf probability (sum, product and conditional)\n",
      "* what I mean by data ($\\mathcal{D}$) and parameters ($\\theta$)\n",
      "* what I mean by model ($\\mathcal{M}$; here I make a distinction with the common use of the term model in physiscs in general and in astronomy in particular)\n",
      "* (in a more rigurous terminology) the kind of problems tackled in this first day\n",
      "* the term likelihood $\\mathcal{L}=p(\\mathcal{D}|\\theta)$\n",
      "* the term posterior $p(\\theta|\\mathcal{D})$\n"
     ]
    },
    {
     "cell_type": "heading",
     "level": 2,
     "metadata": {},
     "source": [
      "1.3 The likelihood"
     ]
    },
    {
     "cell_type": "markdown",
     "metadata": {},
     "source": [
      "\n",
      "Here we define the likelihood as a probability (density) function. We explain what are the arguments of the function, and what would be the fixed parameters. If the data are discrete random variables (for example, counts in ultra-high energy experiments) it is a probability. If the data are continuous random variables, then it is a probability density function. The likelihood is a probability density function of the data and as such, integrates (sums) to 1 over the support of the data. But as a function, it also depends on the values of the parameters. Each set of values of the parameters defines a different probability density function. \n"
     ]
    },
    {
     "cell_type": "heading",
     "level": 3,
     "metadata": {},
     "source": [
      "The likelihood in the case of Pre-Main Sequence disk observations"
     ]
    },
    {
     "cell_type": "markdown",
     "metadata": {},
     "source": [
      "Let us simplify the scenario mentioned above to a star with some dust surrounding it.\n",
      "\n",
      " * as you probably know, a star spectrum ($\\equiv$ SED) can be approximated with a black body with the stellar effective temperature ($T_{eff}$).\n",
      " * we can assume the dust to behave as a black body too. \n",
      " \n",
      "Note that assigning a $T_{eff}$ is not trivial: dust closer to the star will be hotter, and dust in the outer regions will be colder. One could think of this as a *continuum* of black bodies with different temperatures.\n",
      "\n",
      "But we can simplify that too :) Let's see why and how...\n",
      "\n",
      "*Transitional disks* are a special kind of protoplanetary disks with large holes in it (this is cool because planets are a good way of producing those holes!).\n",
      "\n",
      "We could now think of a protoplanetary disk in which the hottest, inner region is missing. In the following scheme, a transitional disk would be the last case.\n",
      "\n",
      "<img src=\"http://www.spitzer.caltech.edu/uploaded_files/graphics/fullscreen_graphics/0009/2675/sig05-026_Sm.jpg\" width=\"500\">\n",
      "\n",
      "In those cases, the $T_{eff}$ range is smaller than in full protoplanetary disks, and the disk emission can be approximated much better with a single black body. The following figure displays a real SED of a transitional disk."
     ]
    },
    {
     "cell_type": "code",
     "collapsed": false,
     "input": [
      "# object_data.txt contains the observed values for this object.\n",
      "table = asciitable.read('data/object_data.txt')\n",
      "\n",
      "# read wavelength, flux, and flux error\n",
      "lmb = table['Lmb[um]']\n",
      "flux = table['Lmb_flmb[erg/cm2/s]']\n",
      "flux_error = table['Lmb_flmb_err[erg/cm2/s]']\n",
      "\n",
      "\n",
      "# Create figure\n",
      "fig = plt.figure()\n",
      "ax = fig.add_subplot()\n",
      "# Make a plot of the observed Spectral Energy Distribution\n",
      "plotted_data = plt.errorbar(lmb,flux,yerr=flux_error,marker='o',fmt='o',color='black',label='Observations')\n",
      "plt.xscale('log')\n",
      "plt.yscale('log')\n",
      "plt.xlabel(r'$\\lambda$ [$\\mu$m]',fontsize = 14)\n",
      "plt.ylabel(r'$\\lambda F_{\\lambda}$ [erg/cm$^{2}$/s]',fontsize = 14)\n",
      "\n",
      "# We also know the type of star this object is, \n",
      "# so we also show the corresponding stellar model. \n",
      "# Note that is is *NOT* a black body but a physical model, \n",
      "# although not really far from a pure black body.\n",
      "model = np.load('data/star_spectrum.npy')\n",
      "model_lmb = model[0]\n",
      "model_flux = model[1]\n",
      "plt.plot(model_lmb,model_flux,color='gray',alpha=0.7,label='Star')\n",
      "\n",
      "# Change the axis to show the data properly\n",
      "plt.xlim(1e-1,)\n",
      "plt.ylim(1e-13,)\n",
      "plt.legend(loc='best')\n",
      "\n",
      "# Finally, display the plot\n",
      "plt.show()"
     ],
     "language": "python",
     "metadata": {},
     "outputs": [
      {
       "metadata": {},
       "output_type": "display_data",
       "png": "[encoded data removed]",
       "text": [
        "<matplotlib.figure.Figure at 0x7f45b3c26bd0>"
       ]
      }
     ],
     "prompt_number": 2
    },
    {
     "cell_type": "markdown",
     "metadata": {},
     "source": [
      "As you can see, the observations of this object resemble two black bodies.\n",
      "\n",
      "However, since we are aware of complex phenomena going on in our disks, we are going to use a \"modified\" black body for the dust emission, to allow the model to have some flexibility (and account for some of the physical processes there).\n",
      "\n",
      "Here is a reminder of black bodies and modified black bodies.\n",
      "\n",
      "A black body is an idealized physical body which absorbs all incident electromagnetic radiation  and, if in thermal equilibrium, reemits it following the black body equation.\n",
      "\n",
      "$${\\large B_{\\lambda}(T) \\propto \\frac{1}{\\lambda^5}\\frac{1}{e^{\\frac{hc}{\\lambda k_B T}}-1}}$$\n",
      "\n",
      "where ${B_{\\lambda}(T)}$ is the irradiance, T is the temperature, c is the speed of light, h is the Planck constant, and ${k_B}$ if the Boltzmann constant. We will absorb the constant into the fitting process.\n",
      "\n",
      "A modified black body is a modified version of this equation, with the form\n",
      "\n",
      "$${\\large B_{\\lambda}(T)_{modified} \\propto B_{\\lambda}(T) \\Big[ \\frac{\\lambda_{ref}}{\\lambda} \\Big] ^{-\\beta}}$$\n",
      "\n",
      "where $\\lambda_{ref}$ is a reference wavelength and we will consider it to be 100 $\\mu$m.\n",
      "\n",
      "Note that, for the SED, we are plotting $\\lambda B_\\lambda$\n",
      "\n",
      "\n",
      "**Important**: with this definition of a modified blackbody, a pure black body is a modified black body with $\\beta = 0$.\n",
      "\n",
      "We can now compute some simple models of SEDs of transitional disks as the sum of two modified blackbodies:\n",
      "\n",
      "- stellar emission: a modified black body with temperature $T_{star}$ (and a fixed $\\beta=0$). *One free parameter*.\n",
      "- dust emission: a modified blackbody, with temperature $T_{dust}$ and $\\beta_{dust}$. *Two free parameters*.\n",
      "- the luminosity fraction, $f$: defined as the ratio of the disk luminosity over the stellar luminosity (remember they are computed by integrating the SEDs over the whole wavelength range). It can be understood in terms of \"the scale of the emission from the disk with respect to that of the star\". *One free parameter*\n",
      "\n",
      "Therefore, our model has **four free parameters** ($T_{star}$,$T_{dust}$,$\\beta_{dust}$, and $f$). \n",
      "\n",
      "(Note that one could also play with the absolute scale of the model, which is related to the distance to the object. In this notebook, we will simply scale our model to match the observations at a certain wavelength).\n",
      "\n",
      "The final form of our model is therefore:\n",
      "\n",
      "$$B_{model} = Blackbody_{modified}({T_{star}},\\beta=0) + A * Blackbody_{modified}({T_{dust}},{\\beta_{dust}})$$\n",
      "\n",
      "where A is the scaling factor depending, meeting\n",
      "\n",
      "$$ f = \\frac{A*L_{disk}}{L_{star}} $$\n",
      "\n",
      "$T_{star}, T_{dust}, \\beta$ and $f$ are the free parameters. We then multiply everything by $\\lambda$ and we are done.\n",
      "\n",
      "Lets define that function in Python.\n"
     ]
    },
    {
     "cell_type": "code",
     "collapsed": false,
     "input": [
      "def mod_bb(lmbs,teff,beta):\n",
      "    \"\"\" Modified black body function.\n",
      "    - lmb: wavelengths for which to compute the modified blackbody. In MICRONS.\n",
      "    - teff: effective temperature.\n",
      "    - beta: modified black body factor.\n",
      "    \"\"\"\n",
      "    c = 3.e8\n",
      "    h = 6.62e-34\n",
      "    kb = 1.4e-23\n",
      "    exponent = h*c /(lmbs*1e-6*kb*teff)\n",
      "    mod_bb_emission = lmbs**-5 * 1/(np.exp(exponent)-1) * (1e-4/lmbs)**-beta\n",
      "    return mod_bb_emission\n",
      "\n",
      "\n",
      "def yso_model_function(lmbs,t_star,t_dust,beta_dust,f):\n",
      "    \"\"\" Disk model.\n",
      "    - lmb: wavelengths for which to compute the modified blackbody. In MICRONS.\n",
      "    - t_star: effective temperature of the star.\n",
      "    - t_dust: effective temperature of the disk.\n",
      "    - b_dust: modified black body parameter for the disk.\n",
      "    - f: fractional luminosity, i.e. disk luminosity / star luminosity.\n",
      "    \"\"\"\n",
      "    # Stellar emission (beta=0)\n",
      "    stellar_emission = mod_bb(lmbs,t_star,0.)\n",
      "    \n",
      "    # Disk emission\n",
      "    disk_emission = mod_bb(lmbs,t_dust,beta_dust)\n",
      "    \n",
      "    # Use the fractional luminosity to scale the disk emission\n",
      "    A = f * np.sum(stellar_emission) / np.sum(disk_emission)\n",
      "    \n",
      "    # The disk model is therefore\n",
      "    model = stellar_emission + A * disk_emission\n",
      "    \n",
      "    # and don't forget to multiply by the wavelength\n",
      "    model = model * lmbs\n",
      "        \n",
      "    return model\n",
      "\n",
      "# Let's try this mapping between model parameters and SEDs\n",
      "# We first define a set of wavelengths where we want the SED values\n",
      "lmb_model = np.logspace(np.log10(0.1),np.log10(500),100)\n",
      "\n",
      "# ...and choose some model parameters for the checking. For example,\n",
      "teff_star = 3200. # K\n",
      "teff_dust = 120.  # K\n",
      "beta_dust = 0.8\n",
      "f = 5.e-3\n",
      "\n",
      "# Let us compute what the SED would be for these particular values of the model parameters\n",
      "yso_model = yso_model_function(lmb_model,teff_star,teff_dust,beta_dust,f)\n",
      "\n",
      "# And, for the sake of comparison, let us scale the SED to match the observed flux value at a certain wavelength\n",
      "norm_factor = flux[5]/yso_model_function(lmb[5],teff_star,teff_dust,beta_dust,f)\n",
      "yso_model = yso_model * norm_factor\n",
      "\n",
      "# And plot our model together with the observed values.\n",
      "plotted_data = plt.errorbar(lmb,flux,yerr=flux_error,marker='o',fmt='o',color='black',label='Observations')\n",
      "plt.xscale('log')\n",
      "plt.yscale('log')\n",
      "plt.xlabel(r'$\\lambda$ [$\\mu$m]',fontsize = 14)\n",
      "plt.ylabel(r'$\\lambda F_{\\lambda}$ [erg/cm$^{2}$/s]',fontsize = 14)\n",
      "plt.plot(lmb_model,yso_model,'-r')\n",
      "#plt.plot(lmb,flux,'ok')\n",
      "#plt.xscale('log')\n",
      "#plt.yscale('log')\n",
      "plt.ylim(1e-12,)"
     ],
     "language": "python",
     "metadata": {},
     "outputs": [
      {
       "output_type": "stream",
       "stream": "stderr",
       "text": [
        "-c:11: RuntimeWarning: overflow encountered in exp\n"
       ]
      },
      {
       "metadata": {},
       "output_type": "pyout",
       "prompt_number": 3,
       "text": [
        "(1e-12, 1.0000000000000001e-09)"
       ]
      },
      {
       "metadata": {},
       "output_type": "display_data",
       "png": "[encoded data removed]",
       "text": [
        "<matplotlib.figure.Figure at 0x7f45cee04350>"
       ]
      }
     ],
     "prompt_number": 3
    },
    {
     "cell_type": "markdown",
     "metadata": {},
     "source": [
      "No probability so far. We have only defined a mapping between physical parameters and flux emission. But a likelihood is a probability density function (density because our data are real-valued) of the data given the parameters. In the absence of uncertainties of any kind, there is no probabilistic model and no likelihood. Uncertainties can come in several ways. The most common one arises in the measurement process, where observational uncertainties are usually treated as normal (= Gaussian) probability density functions. But as we know well, in the ultra-high energy regime or in counting experiments of unfrequent events, Poisson probability distributions are needed. \n",
      "\n",
      "In an imaginary experiment with no uncertainty, the likelihood would be a delta function of the model prediction. This likelihood yields infinite probability density for the parameter **sets** that predict exactly the observed flux under the modified blackbody model, and zero probability for any other parameter set. \n",
      "\n",
      "It is extremely important that we are able to identify conceptually all the sources of uncertainty in the process of going from parameters to data. And it is equally important that we try to model these sources of uncertainty. For the sake of simplicity, we will only include here observational uncertainties of the simplest type (Gaussian)."
     ]
    },
    {
     "cell_type": "heading",
     "level": 4,
     "metadata": {},
     "source": [
      "Likelihood for one observed flux"
     ]
    },
    {
     "cell_type": "markdown",
     "metadata": {},
     "source": [
      "Let us then formulate the likelihood of a parameter set under this model for an observed SED. Let us start with one observed SED flux $\\hat{F}$ at wavelength $\\lambda$, and assume that we know the wavelength at which the flux was measured with infinite accuracy and precision. Let us further assume that the observational uncertainty associated to the measurement of $F$ is $\\sigma$. We use the greek letter $\\sigma$ in accordance with the common practice for normal distributions. \n",
      "\n",
      "$$\\mathcal{L}=p(\\hat{F}|T_{\\rm star},T_{\\rm dust},\\beta_{\\rm dust},f)=\\mathcal{N}(F,\\sigma^2)=\\frac{1}{\\sigma\\sqrt{2\\pi}}\\exp\\biggl( -\\frac{(F-\\hat{F})^ 2}{2\\sigma^2}  \\biggr)$$\n",
      "\n",
      "In my opinion, $\\sigma_{F}$ should be the standard deviation of an observation of F, not the standard deviation of the actual measurement $\\hat{F}$. This is a point that is often overlooked, but which is important. If we observe a flux in the Gaussian uncertainty regime, and a given set of model parameters predicts a very small flux where the likelihood should be described with a Poisson distribution, we should not describe it by a Gaussian with the standard deviation that we estimated for the Gaussian regime flux. This also applies even if the flux predicted by the model is in the Gaussian regime, but at a level characterized by a significantly different standard deviation. Ideally we should model our uncertainties as a function of the flux. More on this later.  \n"
     ]
    },
    {
     "cell_type": "heading",
     "level": 5,
     "metadata": {},
     "source": [
      "Proposed exercise"
     ]
    },
    {
     "cell_type": "markdown",
     "metadata": {},
     "source": [
      "* Write the likelihood of a unique flux measurement as a python function"
     ]
    },
    {
     "cell_type": "heading",
     "level": 4,
     "metadata": {},
     "source": [
      "Full SED with independent measurements"
     ]
    },
    {
     "cell_type": "markdown",
     "metadata": {},
     "source": [
      "Let us add complexity to the problem in small steps. First, let us extend the likelihood to the case of $n$ fluxes $\\{\\hat{F}_{i}; i=1,2,...,n\\}$ observed independently and all of them distributed according to Gaussian pdfs with standard deviations $\\{\\sigma_{i};i=1,2,...,n\\}$. \n",
      "\n",
      "$$\\mathcal{L}=p(\\{\\hat{\\mathbf{F}}\\}|T_{\\rm star},T_{\\rm dust},\\beta_{\\rm dust},f)=\\prod_{i=1}^np(\\hat{F}_{i}|T_{\\rm star},T_{\\rm dust},\\beta_{\\rm dust},f)=\\prod_{i=1}^n\\mathcal{N}({F}_{i},\\sigma_i^2)=\\mathcal{N}(\\mathbf{F},\\Sigma)$$\n",
      "\n",
      "where \n",
      "\n",
      "* $\\mathbf{F}=(F_1,F_2,...,F_n)$\n",
      "* Each $F_i$ is given by the modified blackbody, and\n",
      "* $\\Sigma=\\left( \\begin{array}{cccc}\n",
      "\\sigma_1^2 & 0 & ... & 0 \\\\\n",
      "0 & \\sigma_2^2 & ... & 0\\\\\n",
      "&&...& \\\\\n",
      "0 & 0 & ... & \\sigma_n^2\\\\ \n",
      "\\end{array}\\right)$\n",
      "\n",
      "$Sigma$ is the covariance matrix, and being diagonal implies that if we represent our uncertainties in the space of $\\{\\hat{F}_i\\}$ they look like ellipsoids that are aligned with the axes.\n",
      "\n",
      "Thus, we can express $\\mathcal{L}$ analytically as\n",
      "\n",
      "$$\\mathcal{L} = \\frac{1}{(\\prod_{i=1}^n\\sigma_i)\\sqrt{(2\\pi)^n}}\\exp\\biggl(-\\frac{\\chi^{2}}{2}\\biggr)$$\n",
      "\n",
      "with our old friend\n",
      "\n",
      "$$ \\chi^2 = \\sum_{i}\\biggl(\\frac{\\hat{F}_{i} - F_{i}}{ \\sigma_{i}}\\biggr)^2$$\n",
      "\n",
      "$\\chi^2$ is the sum of the squares of n **independent and normally distributed** random variables. We know analitically how this distribution looks like...\n",
      "\n",
      "<img src=\"http://upload.wikimedia.org/wikipedia/commons/thumb/3/35/Chi-square_pdf.svg/321px-Chi-square_pdf.svg.png\" width=\"400\">\n",
      "\n",
      "Here we find the equivalence between maximum likelihood estimation (MLE) and minimum $\\chi^2$. We will see more on this later. It is difficult to overemphasize the importance of keeping in mind the assumptions that underlie the expression above (the likelihood $\\mathcal{L}$ in terms of the $\\chi^2$). It is often seen in the literature that minimum $\\chi^2$ is used to infer parameters from observations that are neither independent nor Gaussian distributed, for example from histogram counts. \n",
      "\n",
      "$\\sqrt{\\chi^2}$ is equal to the Mahalanobis distance in this case. \n",
      "\n",
      "The exponential term in the normal distribution and the uncertainties commonly encountered in practice result in likelihoods being a product of many numbers smaller than one. It soon exceeds machine precision so usually the log-likelihood is used instead.\n",
      "\n",
      "$$\\ln\\mathcal{L}\\propto -\\chi^2$$\n",
      "\n"
     ]
    },
    {
     "cell_type": "heading",
     "level": 4,
     "metadata": {},
     "source": [
      "Our (simplified) case: the Pre-Main Sequence star+disk system"
     ]
    },
    {
     "cell_type": "markdown",
     "metadata": {},
     "source": [
      "Now we know how to write the probability of an observed dataset given the model parameters **under the assumption that our uncertainties are Gaussian**. In order to do so, all we have to do is to substitute the values of F above by the corresponding values given by our modified black-body model.\n",
      "\n",
      "We know that our simplified model cannot account well for the observed SED that we showed previously, so for the sake of clarity, let me create my own mock dataset by adding Gaussian noise to the modified black-body model. I do this so that the effects of using an overly simple models do not get convolved with the effects I intend to illustrate.\n"
     ]
    },
    {
     "cell_type": "code",
     "collapsed": false,
     "input": [
      "# compute the synthetic SED from the modified black-body model for \n",
      "# the set of parameters previously defined (but you can choose any others)\n",
      "synthetic_sed = yso_model_function(lmb,teff_star,teff_dust,beta_dust,f)\n",
      "# scale it to match the observed flux (not really needed) \n",
      "norm_factor = flux[5] / yso_model_function(lmb[5],teff_star,teff_dust,beta_dust,f)\n",
      "synthetic_sed = norm_factor * synthetic_sed\n",
      "\n",
      "# Then, simulate data observations by adding Gaussian noise\n",
      "scalar_uncert = 0.05\n",
      "yso_obs = np.random.normal(loc=synthetic_sed,scale=scalar_uncert*synthetic_sed)\n",
      "\n",
      "plt.plot(lmb,synthetic_sed,'ok')\n",
      "plt.plot(lmb,yso_obs,'ok',color='b')\n",
      "plt.xscale('log')\n",
      "plt.yscale('log')\n",
      "plt.xlabel(r'$\\lambda$ [$\\mu$m]',fontsize = 14)\n",
      "plt.ylabel(r'$\\lambda F_{\\lambda}$ [erg/cm$^{2}$/s]',fontsize = 14)\n",
      "plt.ylim(1e-12,)\n"
     ],
     "language": "python",
     "metadata": {},
     "outputs": [
      {
       "metadata": {},
       "output_type": "pyout",
       "prompt_number": 4,
       "text": [
        "(1e-12, 1.0000000000000001e-09)"
       ]
      },
      {
       "metadata": {},
       "output_type": "display_data",
       "png": "[encoded data removed]",
       "text": [
        "<matplotlib.figure.Figure at 0x7f45b313e250>"
       ]
      }
     ],
     "prompt_number": 4
    },
    {
     "cell_type": "markdown",
     "metadata": {},
     "source": [
      "Recall that our observed dataset is stored in the variable yso_obs and was generated from parameters \n",
      "* $T_{star}$ = 3200 K\n",
      "* $T_{dust}$ = 120 K\n",
      "* $\\beta_{dust}$ = 0.8\n",
      "* f = 0.005\n",
      "\n",
      "We are like gods (in my case, the flying spaghetti monster) sitting on the cloud, knowing what the parameter inference should yield.\n",
      "\n",
      "Next, let us write a python function to compute the probability of our observed dataset for a given set of parameters."
     ]
    },
    {
     "cell_type": "code",
     "collapsed": false,
     "input": [
      "def log_likelihood(theta,lambda_obs,flux_obs,error_obs):\n",
      "    tstar = theta[0]\n",
      "    tdust = theta[1]\n",
      "    beta = theta[2]\n",
      "    f = theta[3]\n",
      "    flux_model = yso_model_function(lambda_obs,tstar,tdust,beta,f)\n",
      "# The normalization here is hardcoded [TO BE IMPROVED]\n",
      "    norm_factor = flux[5]/yso_model_function(lmb[5],tstar,tdust,beta,f)\n",
      "    flux_model = flux_model * norm_factor\n",
      "    value = np.sum(((flux_obs - flux_model)/error_obs)**2)\n",
      "    return value\n",
      "\n",
      "theta = [4000,200,0.4,1.0e-3]\n",
      "\n",
      "print log_likelihood(theta,lmb,yso_obs,yso_obs*scalar_uncert)"
     ],
     "language": "python",
     "metadata": {},
     "outputs": [
      {
       "output_type": "stream",
       "stream": "stdout",
       "text": [
        "15183.4806328\n"
       ]
      }
     ],
     "prompt_number": 5
    },
    {
     "cell_type": "markdown",
     "metadata": {},
     "source": [
      "\n",
      "Here we have omitted terms that do not depend on the model parameters (T_{\\rm star},T_{\\rm dust},\\beta_{\\rm dust},f) and kept only \n",
      "\n"
     ]
    },
    {
     "cell_type": "code",
     "collapsed": false,
     "input": [
      "# Compute a grid of values of teff_dust and beta_dust\n",
      "grid_size = 100\n",
      "min_teff_dust = 80.\n",
      "max_teff_dust = 150.\n",
      "min_beta = 0.2\n",
      "max_beta = 1.2\n",
      "teff_dust_grid = np.linspace(min_teff_dust,max_teff_dust,grid_size)\n",
      "beta_dust_grid = np.linspace(min_beta,max_beta,grid_size)\n",
      "params_grid = np.meshgrid(teff_dust_grid,beta_dust_grid)\n",
      "\n",
      "grid_log_likelihoods = np.zeros(shape=(grid_size,grid_size))\n",
      "\n",
      "for idx1 in xrange(grid_size):\n",
      "    for idx2 in xrange(grid_size):\n",
      "        theta = [teff_star,teff_dust_grid[idx2],beta_dust_grid[idx1],f]\n",
      "        grid_log_likelihoods[idx1,idx2] = log_likelihood(theta,lmb,yso_obs,yso_obs*scalar_uncert)       \n",
      "    \n",
      "n_levels = 10\n",
      "max_dif = (grid_log_likelihoods.max() - grid_log_likelihoods.min())/1000.\n",
      "levels = np.linspace(grid_log_likelihoods.min(),max_dif,n_levels)\n",
      "\n",
      "pl = plt.contourf(params_grid[0],params_grid[1],np.log10(grid_log_likelihoods),levels=np.log10(levels))\n",
      "\n",
      "cbar = plt.colorbar(pl)\n",
      "cbar.ax.set_ylabel(r'$log_{10}(log_Likelihood value)$')\n",
      "plt.rc('text', usetex=True)\n",
      "plt.rc('font', family='serif')\n",
      "plt.title(r'2D slice of the full 4D likelihood function at $T_{star}$ = 3200 K and f = $5\\times10^{-3}$')\n",
      "plt.xlabel(r'$T_{dust}$',fontsize=16)\n",
      "plt.ylabel(r'$\\beta$',fontsize=16)\n"
     ],
     "language": "python",
     "metadata": {},
     "outputs": [
      {
       "metadata": {},
       "output_type": "pyout",
       "prompt_number": 6,
       "text": [
        "<matplotlib.text.Text at 0x7f45b3078d90>"
       ]
      },
      {
       "metadata": {},
       "output_type": "display_data",
       "png": "[encoded data removed]",
       "text": [
        "<matplotlib.figure.Figure at 0x7f45b2cdead0>"
       ]
      }
     ],
     "prompt_number": 6
    },
    {
     "cell_type": "heading",
     "level": 4,
     "metadata": {},
     "source": [
      "Full SED with correlated observations"
     ]
    },
    {
     "cell_type": "markdown",
     "metadata": {},
     "source": [
      "One more step in the complexification of our model would be to include potential correlations between the observations. In that case (for example, for a data reduction pipeline in a telescope where one of the bands is used as reference and the rest of fluxes are defined differentially) our covariance matrix will not be diagonal, but still it has to be positive semi-definite and symmetric. \n",
      "\n",
      "$$ \\Sigma=\\left( \\begin{array}{cccc}\n",
      "\\sigma_1^2 & \\Sigma_{12} & ... & \\Sigma_{1n} \\\\\n",
      "\\Sigma_{21} & \\sigma_2^2 & ... & \\Sigma_{2n}\\\\\n",
      "&&...& \\\\\n",
      "\\Sigma_{n1} & \\Sigma_{n2} & ... & \\sigma_n^2\\\\ \n",
      "\\end{array}\\right)$$\n",
      "\n",
      "Now, \n",
      "\n",
      "$$\\mathcal{L}=\\mathcal{N}(\\mathbf{F},\\Sigma)=\\frac{1}{\\sqrt{|\\Sigma|(2\\pi)^n}}\\exp\\left(-\\frac{(\\mathbf{F}-\\hat{\\mathbf{F}})^T\\cdot\\Sigma^{-1}\\cdot(\\mathbf{F}-\\hat{\\mathbf{F}})}{2}\\right)$$ \n",
      "\n",
      "and we no longer have a $\\chi^2$ distributed variable because of the cross-terms. \n"
     ]
    },
    {
     "cell_type": "heading",
     "level": 3,
     "metadata": {},
     "source": [
      "Proposed exercises"
     ]
    },
    {
     "cell_type": "markdown",
     "metadata": {},
     "source": [
      "* Suppose we have an observed spectrum, and a model of how this spectrum was produced. Let this model consist of a constant flux level $F_c$ and a Gaussian absorption line superimposed (maximum depth $F_m$, centered at $\\lambda$ and of FWHM=$Delta$). Suppose we want to make inferences about the model parameters ($F_c$, $F_m$, $\\lambda$ and $\\Delta$). Write a python function to compute the probability of observing a spectrum $\\hat{\\mathbf{F}}=\\{\\hat{F}_1,\\hat{F}_2,...,\\hat{F}_{11}\\}$ in wavelength bins centered at $\\{-1.0,-0.8,-0.6,-0.4,-0.2,0.0,0.2,0.4,0.6,0.8,1.0]$ and width 0.2 $\\AA$, given the parameters. Assume that the measurement uncertainties are always a  5% of the flux.\n",
      "* Write the probability of observing a spectrum $\\hat{\\mathbf{F}}$ like the one described in the previous exercise given a model with constant flux $F_c$ and $N$ spectral lines with Gaussian profiles centered at $\\lambda_1,\\lambda_2,...,\\lambda_N$, with maximum depths $\\{F_{m;1}, F_{m;2},...,F_{m;N}\\}$ and standard deviations $\\{\\sigma_1, \\sigma_2,...,\\sigma_{N}\\}$ \n",
      "* Write the probability of observing a histogram $\\hat{\\mathbf{h}}=\\{\\hat{h}_1,\\hat{h}_2,...,\\hat{h}_5\\}$  in the bins defined by  boundaries equal to $\\{0.0,0.2,0.4,0.6,0.8,1.0]$ if the probability density function used to model the distribution of the magnitude being histogrammed is an exponential decay with scale length $\\tau$. Can you think of a better way for fitting $\\tau$?"
     ]
    },
    {
     "cell_type": "heading",
     "level": 2,
     "metadata": {},
     "source": [
      "1.4 Maximum Likelihood Methods"
     ]
    },
    {
     "cell_type": "markdown",
     "metadata": {},
     "source": [
      "\n",
      "The properties of maximum likelihood estimates:\n",
      "\n",
      "* For finite samples, there are no optimal properties of MLE. That is, we can always define other estimates that concetrate around the true value with narrower confidence intervals.\n",
      "\n",
      "* Asymptotically (as the sample size tends to infinity) and under the conditions of\n",
      "\n",
      " 1. Identification\n",
      " 1. Compactness\n",
      " 1. Continuity\n",
      " 1. Dominance\n",
      "\n",
      "they show the following interesting properties:\n",
      "\n",
      "   * Normality: the MLE distribution is normal (=Gaussian) centred at the true value and with a covariance given in terms of the Fisher matrix.\n",
      "   * Consistency: As the sample size tends to infinity, the series of ML estimates converges, and it converges to the true value \n",
      "   * Efficiency: it provides the minimum mean squared error attainable when the sample size tends to infinity.\n"
     ]
    },
    {
     "cell_type": "heading",
     "level": 4,
     "metadata": {},
     "source": [
      "Confidence intervals for MLE"
     ]
    },
    {
     "cell_type": "markdown",
     "metadata": {},
     "source": [
      "Recall the asymtotic normality mentioned above \n",
      "\n",
      "The Fisher matrix defined as\n",
      "\n",
      "\\begin{equation}\n",
      "\\mathcal{I}(\\theta)= \\mathcal{E}_{\\mathcal{D}}\\left[\\left. \\left(\\frac{\\partial\\log\\mathcal{L}}{\\partial\\theta} \\right)^2 \\right|_{\\theta}\\right]\n",
      "\\end{equation}\n",
      "\n",
      "attempts to measure the information conveyed by the data $\\mathcal{D}$ about the parameters $\\theta$. \n",
      "\n",
      "If all conditions (expressed rigurously) hold, then the MLEs will be normally distributed around the true value with standard deviation given by \n",
      "\n",
      "$$\\sigma=\\frac{1}{\\sqrt{\\mathcal{I(\\hat{\\theta})}}}$$\n",
      "\n",
      "Recall, this is a statement about the estimates, not about the true value.\n",
      "\n",
      "These estimates sometimes produce nonsensical results (collapsed intervals, intervals that exceed the parameter plausibility interval or totally exclude the real value), so beware of the necessary conditions above, and recall the meaning of *asymptotic*. \n",
      "\n",
      "It is often difficult to gauge how much data is needed to reach approximate normality. But it may be easy to tell when you definitely are not in the asymtotic regime: have a look at the distribution of likelihood as a function of the parameters. Even in high dimensional spaces non-Gaussianity is sometimes conspicuous, in the form of multimodality.\n",
      "\n",
      "Also, we can find reparametrizations of our problem that result in accelerated convergence to normality. \n"
     ]
    },
    {
     "cell_type": "heading",
     "level": 4,
     "metadata": {},
     "source": [
      "Finding the MLE"
     ]
    },
    {
     "cell_type": "markdown",
     "metadata": {},
     "source": [
      "\n",
      "Often our likelihoods are non-linear functions of the parameters, and sometimes no reparametrization is available that render the likelihood linear. Our case of Pre-Main Sequence systems is a good example because of the strongly non-linear dependence of the individual SED measurements with respect to the list of system parameters. For the linear case, there are well known algebraic solutions like all the variants of Ordinary Least Squares. \n",
      "\n",
      "If the likelihood is non-linear, we have to turn to numerical approximate solutions like.\n",
      "\n",
      "* Grids\n",
      "* Newton-Raphson\n",
      "* Fisher's score\n",
      "* Levenberg-Marquart\n",
      "* Conjugate Gradients\n",
      "* Genetic Algorithms\n",
      "\n",
      "They are all prone to get stuck in local maxima, and careful tuning of the properties is needed for convergence. \n"
     ]
    },
    {
     "cell_type": "code",
     "collapsed": false,
     "input": [
      "MLE = optimize.fmin(log_likelihood, args=(lmb,yso_obs,yso_obs*scalar_uncert),x0=np.array([2000,200,0.5,0.01]))\n",
      "print MLE\n",
      "\n",
      "# [TO BE FINISHED] Compute Fisher matrix and overplot \n",
      "#H_i = [nd.Hessian(log_likelihood,MLE) for i in range(len(lmb))] \n",
      "\n"
     ],
     "language": "python",
     "metadata": {},
     "outputs": [
      {
       "output_type": "stream",
       "stream": "stdout",
       "text": [
        "Optimization terminated successfully.\n",
        "         Current function value: 16.579342\n",
        "         Iterations: 203\n",
        "         Function evaluations: 344\n",
        "[  3.20399737e+03   1.20669886e+02   8.13137047e-01   4.92006667e-03]\n"
       ]
      }
     ],
     "prompt_number": 7
    },
    {
     "cell_type": "heading",
     "level": 3,
     "metadata": {},
     "source": [
      "Proposed exercises"
     ]
    },
    {
     "cell_type": "markdown",
     "metadata": {},
     "source": [
      "The same as above 1.3"
     ]
    },
    {
     "cell_type": "heading",
     "level": 2,
     "metadata": {},
     "source": [
      "1.5 Posterior inferences "
     ]
    },
    {
     "cell_type": "markdown",
     "metadata": {},
     "source": [
      "\n",
      "I will explain my view that the real question a scientist should be willing to make is about the posterior. That is, I believe that a scientist (in the context of data analysis) has data, not parameters. So his/her inference should be a trip going from what he has (data and a set of hypothesis; we will come back to the latter later) to what he wants (the model parameters). In my particular view, what he wants (if he is a rigurous and well-educated scientist concerned with uncertainties and uncertainty propagation) is indeed a probability distribution of the model parameters given the data and his/her hypothesis. \n",
      "\n",
      "This naturally leads to the formulation of Bayes' theorem. \n",
      "\n",
      "\\begin{equation}\n",
      "p(\\theta|\\mathcal{D}) = \\frac{p(\\mathcal{D}|\\theta)\\times p(\\theta)}{p(\\mathcal{D})}\n",
      "\\end{equation}\n",
      "\n",
      "Possibilities:\n",
      "* Define a Bayes estimator. Loss or utility function. [TO BE DEVELOPED]\n",
      "* MAP estimates. [TO BE DONE] Properties\n",
      "* Use the full posterior\n",
      "\n",
      "By using the priors we obtain several advantages: first, we are able to ask the right question (what is the probability of $\\Theta=\\theta$ given my data) rather than the uncomfortable (al least for me) one of what is the parameter value for which my data are most probable. The latter immediately pre-supposes that our data are at the top of the Gaussian, so to speak. I prefer to work with the full probability distribution (the posterior).\n",
      "\n",
      "Second and as a consequence of the first advantage, we are able to marginalise parameters that are of no interest to us, and derive the posterior probability of the parameters we are interested in. We will come back to this in the sub-section devoted to nuisance parameters. We are actually able to marginalise out any subset of the parameters, and inspect the marginal probability distributions, something that was not possible for the likelihood. \n",
      "\n",
      "I will let David describe the third advantage that we gain by using priors. \n"
     ]
    },
    {
     "cell_type": "heading",
     "level": 3,
     "metadata": {},
     "source": [
      "Probabilities *a priori*"
     ]
    },
    {
     "cell_type": "markdown",
     "metadata": {},
     "source": [
      "As I said above, prior probabilities have a number of advantages, but they come at a price. The price (for me at least) is an endless controversy relative to the subjectivity of the priors and their impact in the inferences. \n",
      "\n",
      "I will give here a brief summary of my view, with no intention whatsoever to engage in yet another discussion. At least not until we are all in front of a beer. ;)\n",
      "\n",
      "The nominator of Bayes' theorem represents a multiplication of two probability densities. Since the data are fixed, we can think of two functions of the parameters (although strictly speaking, the likelihood is not a probability density for the parameters). The product is finally normalised to integrate to unity (if possible; more on this later). Let us visualize this with a simple example: a sample of values drawn independently from a normal distribution."
     ]
    },
    {
     "cell_type": "code",
     "collapsed": false,
     "input": [
      "ivals = range(-300,300)\n",
      "x = [float(i)/10 for i in ivals]\n",
      "y_obs = np.random.normal(loc=0,scale=1,size=100)\n",
      "prior = norm.pdf(x, loc=10, scale=3)\n",
      "\n",
      "def priorsExample1(y,mu):\n",
      "    value = norm.pdf(y,loc=mu,scale=1)\n",
      "    value=np.prod(value)\n",
      "    return value\n",
      "\n",
      "theta = x\n",
      "likelihood1 = [priorsExample1(y_obs[0],theta[i]) for i in range(0,len(theta))]\n",
      "likelihood10 = [priorsExample1(y_obs[0:9],theta[i]) for i in range(0,len(theta))]\n",
      "likelihood100 = [priorsExample1(y_obs,theta[i]) for i in range(0,len(theta))]\n",
      "\n",
      "plt.plot(x,prior/np.max(prior),'b-')\n",
      "plt.show()\n",
      "\n",
      "plt.plot(theta,likelihood1/np.max(likelihood1),color='orange')\n",
      "plt.plot(x,prior/np.max(prior),'b-')\n",
      "upost = [prior[i]*likelihood1[i] for i in range(0,len(theta))]\n",
      "plt.plot(x,upost/np.max(upost),'g-.')\n",
      "plt.show()\n",
      "\n",
      "plt.plot(theta,likelihood10/np.max(likelihood10),color='orange')\n",
      "plt.plot(x,prior/np.max(prior),'b-')\n",
      "plt.plot(x,prior*likelihood10/np.max(prior*likelihood10),color='darkgreen')\n",
      "plt.show()\n",
      "\n",
      "plt.plot(theta,likelihood100/np.max(likelihood100),color='orange')\n",
      "plt.plot(x,prior/np.max(prior),'b-')\n",
      "plt.plot(x,prior*likelihood100/np.max(prior*likelihood100),'g-')\n",
      "plt.show()\n",
      "\n"
     ],
     "language": "python",
     "metadata": {},
     "outputs": [
      {
       "metadata": {},
       "output_type": "display_data",
       "png": "[encoded data removed]",
       "text": [
        "<matplotlib.figure.Figure at 0x7f45b2cde610>"
       ]
      },
      {
       "metadata": {},
       "output_type": "display_data",
       "png": "[encoded data removed]",
       "text": [
        "<matplotlib.figure.Figure at 0x7f45b2d1dd10>"
       ]
      },
      {
       "metadata": {},
       "output_type": "display_data",
       "png": "[encoded data removed]",
       "text": [
        "<matplotlib.figure.Figure at 0x7f45b32990d0>"
       ]
      },
      {
       "metadata": {},
       "output_type": "display_data",
       "png": "[encoded data removed]",
       "text": [
        "<matplotlib.figure.Figure at 0x7f45b2ea8b90>"
       ]
      }
     ],
     "prompt_number": 8
    },
    {
     "cell_type": "markdown",
     "metadata": {},
     "source": [
      "\n",
      "In the limit of very small sample sizes the prior influences the inference process. As the sample size increases the likelihood takes over and dominates the posterior that becomes close to insensitive to the prior unless the prior completely rules out the support of the likelihood.\n",
      "\n",
      "Now I am going to ask you to do a mental experiment. Imagine I detect periodic variability of a star in V-band images. The period is of the order of one day, and the amplitude is very small. I tell you that there are two variability types consistent with these data: Slowly Pulsating Variable stars which are of the B spectral type and $\\gamma$-Doradus stars which are characterized by spectral types A/F. How would you discuss the probability that the star belongs to one class or another in a paper? Well, I would certainly water down any enthusiasm and reckon that it is more probable (in the absence of any other information on the stellar SED) that the star is of the less massive type simply based on my prior knowledge of IMFs. This case exemplifies how astronomers are accostumed to using prior beliefs.\n",
      "\n",
      "In my opinion, good practice consists in stating clearly our likelihood and our priors, and analysing the sensitivity of our inferences to the prior choice. Let us all make our assumptions clear and, if possible, let other inspect and reproduce our research, maybe with different priors.\n"
     ]
    },
    {
     "cell_type": "heading",
     "level": 4,
     "metadata": {},
     "source": [
      "Prior choices"
     ]
    },
    {
     "cell_type": "markdown",
     "metadata": {},
     "source": [
      "In the following, I will briefly discuss several approaches to the definition of so-called objective priors. Priors that encode available information such as a particular IMF are thus left aside. What we focus on here is the attempt to define and use priors that are supposedly non-informative and are as neutral in some sense as possible."
     ]
    },
    {
     "cell_type": "heading",
     "level": 5,
     "metadata": {},
     "source": [
      "Conjugate priors"
     ]
    },
    {
     "cell_type": "markdown",
     "metadata": {},
     "source": [
      "I define conjugate priors and list the most common priors. Wishart in particular."
     ]
    },
    {
     "cell_type": "heading",
     "level": 5,
     "metadata": {},
     "source": [
      "Maximum Entropy Priors"
     ]
    },
    {
     "cell_type": "markdown",
     "metadata": {},
     "source": [
      "Let us start with Maximum Entropy priors. Entropy in Information Theory is usually interpreted as a measure of our ignorance about the outcome of a sampling experiment from a given probability (density) distribution. Think of a coin. If the coin is fair (probabilities 0.5/0.5), our knowledge about the outcome of a toss is much less (our ignorance is much bigger) than for a very asymmetric coin (with, say, 0.9/0.1). \n",
      "\n",
      "The Shannon Entropy of a probability (density) function of a random variable X --p(X)-- is defined as the expected value of -ln(p(X))\n",
      "\n",
      "$H(X)=E[-\\ln(p(X))]$\n",
      "\n",
      "Let us compute a few entropies...\n",
      "\n",
      "First, the fair coin. P(X) in this case is the Bernoulli distribution: P(X=head)=p and P(X=tail)=1-p; -ln(P(X=head))=-ln(p) and -ln(P(X=tail)) = -ln(1-p). The expected value of this distribution is then \n",
      "\n",
      "$$H = -p \\times ln(p)-(1-p)\\times(\\ln(1-p))$$\n",
      "\n",
      "Let us plot it for various values pf p..."
     ]
    },
    {
     "cell_type": "code",
     "collapsed": false,
     "input": [
      "ivals = range(100)\n",
      "p = [float(ivals[i])/float(np.max(ivals)) for i in ivals]\n",
      "H = [-p[i]*np.log(p[i])-(1-p[i])*np.log(1-p[i]) for i in ivals]\n",
      "\n",
      "plt.plot(p,H)\n"
     ],
     "language": "python",
     "metadata": {},
     "outputs": [
      {
       "output_type": "stream",
       "stream": "stderr",
       "text": [
        "-c:3: RuntimeWarning: divide by zero encountered in log\n",
        "-c:3: RuntimeWarning: invalid value encountered in double_scalars\n"
       ]
      },
      {
       "metadata": {},
       "output_type": "pyout",
       "prompt_number": 9,
       "text": [
        "[<matplotlib.lines.Line2D at 0x7f45b2ce2110>]"
       ]
      },
      {
       "metadata": {},
       "output_type": "display_data",
       "png": "[encoded data removed]",
       "text": [
        "<matplotlib.figure.Figure at 0x7f45cedf3e10>"
       ]
      }
     ],
     "prompt_number": 9
    },
    {
     "cell_type": "markdown",
     "metadata": {},
     "source": [
      "So, as foreseen, we have maximum ignorance about the outcome of a sampling experiment in the case of equiprobable results (the fair coin). If P(X=head)=1 or P(X=head)=0 the entropy is 0. \n",
      "\n",
      "What happens if the coin becomes a dice. Then, we call the experiment a Bernoulli scheme and the entropy is a five-dimensional function:\n",
      "\n",
      "$$ H(p_1,p_2,p_3,p_4,p_5) = -\\sum_{i=1}^6p_i\\cdot\\ln(p_i)$$\n",
      "\n",
      "with $p_6=1-\\sum_{i=1}^{5}p_i$ \n",
      "\n",
      "Again, the maximum is attained if p=1/6.\n",
      "\n",
      "Thus, maximum entropy priors are those that represent maximum ignorance. Some common examples are \n",
      "* the uniform distribution maximizes the entropy amongst all the distributions of continuous variables. This distribution is proper only on compact supports.\n",
      "* the normal distribution maximizes the entropy amongst all PDFs of a given mean $\\mu$ and variance $\\sigma^2$. It is proper.\n",
      "* the exponential distribution $p(X)=\\lambda\\cdot\\exp(-\\lambda x)$ is the maximum entropy one for all PDFs of positive variables with a given mean $1/\\lambda$. It is proper."
     ]
    },
    {
     "cell_type": "heading",
     "level": 5,
     "metadata": {},
     "source": [
      "Reparametrization invariant (or Jeffrey's) Priors"
     ]
    },
    {
     "cell_type": "markdown",
     "metadata": {},
     "source": [
      "\n",
      "\n",
      "\n"
     ]
    },
    {
     "cell_type": "heading",
     "level": 5,
     "metadata": {},
     "source": [
      "Reference Priors"
     ]
    },
    {
     "cell_type": "markdown",
     "metadata": {},
     "source": [
      "\n",
      "**Remember the disclaimer** I will avoid technicalities in Probability Theory and try to convey the intuitive meaning of the most basic concepts used in Objective Bayes Theory. For a more technical yet still readable reference, consult <a href=\"http://arxiv.org/pdf/0904.0156.pdf\"> \"*The formal definition of reference priors\"*</a>  by Berger, Bernardo and Dun (2009). \n",
      "\n",
      "Prior neutrality is defined here in relation with the data. In Maximum Entropy methods there was no reference to the data, and non-informativity was equaled to maximum ignorance about the outcome of a sampling experiment. Recall that this sometimes yields improper priors.\n",
      "\n",
      "In reference priors, the objective is to define a prior maximizes the impact of the data on the inference process. In other (more rigurous) words, the objective is to maximize the difference between prior and the posterior distributions globally the space of data. \n",
      "\n",
      "Let us go step by step... How do we tell the difference between two probability distribution functions? Objective Bayes practitioners use the Kullback-Leibler divergence of $\\tilde{p}$ from $p$, defined as\n",
      "\n",
      "$$\\kappa(\\tilde{p}|p)=\\int_\\Theta p(\\theta)\\ln\\left(\\frac{p(\\theta)}{\\tilde{p}(\\theta)}\\right)$$\n",
      "\n",
      "As mentioned above, reference priors aim at maximizing the difference of the prior distribution with respect to the posterior distribution. \n",
      "\n",
      "$$\\kappa(\\,\\pi(\\theta)\\;|\\;p(\\theta|\\mathcal{D})\\,) = \\int_\\Theta p(\\theta|\\mathcal{D})\\ln\\left(\\frac{p(\\theta|\\mathcal{D})}{\\pi(\\theta)}\\right) {\\rm d}\\theta$$\n",
      "\n",
      "If we choose a prior that results in a posterior identical to it, we have learnt nothing from the data and the Kullback-Leibler divergence is zero. This is obviously a situation to avoid. Objective Bayes' acolytes argue that it is desirable to define a prior that maximizes this divergence. Only that, instead of studying the problem for an actual dataset $\\mathcal{D}$, they do it *globally* by maximizing the so-called missing information\n",
      "\n",
      "$$ I(\\pi|\\mathcal{M}) = \\int \\kappa(\\,\\pi(\\theta)\\;|\\;p(\\theta|\\mathcal{D})\\,)\\cdot p(\\mathcal{D}){\\rm d}\\mathcal{D}$$ \n",
      "\n",
      "Aside: the definition involves subtleties that ensure integrability in the case of continuous variables.\n",
      "\n",
      "**Definition**: $\\pi(\\theta)=\\pi(\\theta|\\mathcal{M,P})$ is a reference prior for model $\\mathcal{M}$ that belongs to the family of prior functions $\\mathcal{P}$ if it is permissible and maximizes the missing information.\n",
      "\n",
      "There is a **(Constructive) Theorem** for the **analytical** derivation of uni-dimensional reference priors, the details of which go beyond the scope of this tutorial. Maybe not so the recipe for the numerical approximation:\n",
      "\n",
      "1. Choose a value of $k$: the number of observations. In our case, the number of photometric measurements. This should be large so that it is close to the asymptotic limit. Where is that? It depends, so in general we may have to try a few large values and compare. \n",
      "1. Choose an arbitrary positive function $\\pi^*(\\theta)$. $\\pi^*(\\theta)=1$ is just fine. This is an auxiliary element, not the prior we aim to define.\n",
      "1. Choose a value of $m$. We will generate $m$ artificial datasets by sampling the likelihood, each dataset of size $k$\n",
      "1. Choose a set of values of $\\theta$ where you want to find $\\pi(\\theta)$. \n",
      "1. Then for each $\\theta$, create $m$ $k$-dimensional datasets from the likelihood $p(\\mathcal{D}|\\theta)$\n",
      "1. For each of these datasets $\\mathcal{D}_j$, estimate (numerically) $$c_j=\\int p(\\mathcal{D}_j|\\theta)\\cdot\\pi^*(\\theta)\\,{\\rm d}\\theta$$ *and* $$r_j(\\theta)=\\ln\\left(\\frac{p(\\mathcal{D}_j|\\theta)\\cdot \\pi^*(\\theta)}{c_j}\\right)$$\n",
      "1. Compute $\\pi(\\theta)=\\exp(m^{-1}\\sum_{j=1}^{m}r_j(\\theta))$ \n",
      "1. Repeat the computation of $\\pi(\\theta)$ for as many values of $\\theta$ as desired or possible. These values can be used to derive a continuous approximation.\n",
      "\n",
      "**Disclaimer!** This recipe is an approximation to the solution given by the Constructive Theorem I skipped. This theorem comes with a set of hypothesis that must be fulfilled in order for the theorem to hold. It is not difficult to check for its fulfilment, but it certainly is bad scientific practice if not dishonesty to apply the theorem or the recipe without checking for them.\n",
      "\n",
      "Let us look at what the reference prior would look like for our $\\beta$ parameter **if it was our only parameter**. We can do this if we fix the values of the other parametes to the known true values. We do this just for the purpose of illustrating the procedure.\n"
     ]
    },
    {
     "cell_type": "code",
     "collapsed": false,
     "input": [
      "def log_likelihood(theta,lambda_obs,flux_obs,error_obs):\n",
      "    tstar = theta[0]\n",
      "    tdust = theta[1]\n",
      "    beta = theta[2]\n",
      "    f = theta[3]\n",
      "    flux_model = yso_model_function(lambda_obs,tstar,tdust,beta,f)\n",
      "# The normalization here is hardcoded [TO BE IMPROVED]\n",
      "    norm_factor = flux[5]/yso_model_function(lambda_obs[0],tstar,tdust,beta,f)\n",
      "    flux_model = flux_model * norm_factor\n",
      "    value = -np.sum(((flux_obs - flux_model)/error_obs)**2)\n",
      "    return value\n",
      "\n",
      "def likelihood(theta,lambda_obs,flux_obs,error_obs):\n",
      "    tstar = theta[0]\n",
      "    tdust = theta[1]\n",
      "    beta = theta[2]\n",
      "    f = theta[3]\n",
      "    flux_model = yso_model_function(lambda_obs,tstar,tdust,beta,f)\n",
      "# The normalization here is hardcoded [TO BE IMPROVED]\n",
      "    norm_factor = flux[5]/yso_model_function(lambda_obs[0],tstar,tdust,beta,f)\n",
      "    flux_model = flux_model * norm_factor\n",
      "    tmp = error_obs**2.0\n",
      "    value = multivariate_normal.pdf(flux_obs,flux_model,tmp)\n",
      "    return value\n",
      "\n",
      "\n",
      "\n",
      "scalar_uncert = 5.0e-2\n",
      "k = 10\n",
      "lambdas = np.random.uniform(np.min(lmb),np.max(lmb),k-1)\n",
      "lambdas = np.concatenate([lmb[5:6],lambdas])\n",
      "m = 50 # preferably >> 100\n",
      "sample_vals = range(m)\n",
      "k = 4 # preferable 8\n",
      "num_beta_vals = (2**k)+1\n",
      "beta_vals = range(num_beta_vals)\n",
      "max_beta = 4\n",
      "beta_j = [(float(beta_vals[j])*max_beta/beta_vals[-1]) for j in beta_vals]\n",
      "dbeta = beta_j[1]-beta_j[0]\n",
      "#Define arrays to hold liks, and cs\n",
      "lik_theta = [0 for i in beta_vals]\n",
      "c = [-999 for i in sample_vals]\n",
      "r_j = [-999 for i in sample_vals]\n",
      "pi = [-999 for i in beta_vals]\n",
      "\n",
      "for idx1 in beta_vals:\n",
      "    # Create m samples and calculate r_j(theta) for each\n",
      "    for idx2 in sample_vals:\n",
      "        synthetic_sed = yso_model_function(lambdas,teff_star,teff_dust,beta_j[idx1],f)\n",
      "        norm_factor = flux[5] / yso_model_function(lambdas[0],teff_star,teff_dust,beta_j[idx1],f)\n",
      "        synthetic_sed = norm_factor * synthetic_sed\n",
      "        D = np.random.normal(synthetic_sed,synthetic_sed*scalar_uncert)\n",
      "        for idx3 in beta_vals:\n",
      "            theta_j = [teff_star,teff_dust,beta_j[idx3],f]\n",
      "            lik_theta[idx3] = likelihood(theta_j,lambdas,D,D*scalar_uncert)\n",
      "        c[idx2] = integrate.romb(lik_theta,dx=dbeta)\n",
      "        theta_j = [teff_star,teff_dust,beta_j[idx1],f]\n",
      "        r_j[idx2] = np.log(likelihood(theta_j,lambdas,D,D*scalar_uncert)/c[idx2])\n",
      "        #print c[idx2],r_j[idx2]\n",
      "    pi[idx1] = np.exp(np.mean(r_j))\n",
      "    #print pi[idx1],idx3,beta_j[idx3],beta_vals[1],theta_j,scalar_uncert\n",
      "\n",
      "plt.plot(beta_j,pi,'ok')\n",
      "plt.xlabel(r'$\\beta$',fontsize = 14)\n",
      "plt.ylabel(r'$\\pi(\\theta)$',fontsize = 14)\n",
      "\n",
      "def reference_prior_beta(beta):\n",
      "    value = interp1d(beta_j,pi) # linear should suffice\n",
      "    return value\n",
      "    "
     ],
     "language": "python",
     "metadata": {},
     "outputs": [
      {
       "metadata": {},
       "output_type": "display_data",
       "png": "[encoded data removed]",
       "text": [
        "<matplotlib.figure.Figure at 0x7f45b2c04e10>"
       ]
      }
     ],
     "prompt_number": 10
    },
    {
     "cell_type": "heading",
     "level": 3,
     "metadata": {},
     "source": [
      "Proposed exercises"
     ]
    },
    {
     "cell_type": "markdown",
     "metadata": {},
     "source": [
      "* Uniform\n",
      "* Normal\n",
      "* Poisson\n",
      "* Wishart"
     ]
    },
    {
     "cell_type": "heading",
     "level": 3,
     "metadata": {},
     "source": [
      "Posterior PDFs under different priors."
     ]
    },
    {
     "cell_type": "markdown",
     "metadata": {},
     "source": [
      "Here we show the posterior probability density function for several priors."
     ]
    },
    {
     "cell_type": "code",
     "collapsed": false,
     "input": [
      "def log_likelihood(theta,lambda_obs,flux_obs,error_obs):\n",
      "    tstar = theta[0]\n",
      "    tdust = theta[1]\n",
      "    beta = theta[2]\n",
      "    f = theta[3]\n",
      "    flux_model = yso_model_function(lambda_obs,tstar,tdust,beta,f)\n",
      "# The normalization here is hardcoded [TO BE IMPROVED]\n",
      "    norm_factor = flux[5]/yso_model_function(lambda_obs[5],tstar,tdust,beta,f)\n",
      "    flux_model = flux_model * norm_factor\n",
      "    tmp = error_obs**2.0\n",
      "#    value = multivariate_normal.pdf(flux_obs,mean=flux_model,cov=np.diag(tmp))\n",
      "    value = -np.sum(((flux_obs - flux_model)/error_obs)**2)\n",
      "    return value\n",
      "\n",
      "# First, we use brute force\n",
      "# Let us compute the posterior probability on a coarse grid 10x10x10x10 \n",
      "\n",
      "# Prior 1: simplest\n",
      "def prior(theta):\n",
      "    p1 = 1.0/(8000.0-2000.0) #uniform\n",
      "    p2 = 1.0/(500.0-50.0) #uniform\n",
      "    p3 = 1.0/(4.0-0.0) # uniform\n",
      "#    p3 = reference_prior_beta(theta[2]) # reference prior\n",
      "    p4 = 50.0/(theta[3]) # Jeffrey's prior for a scale parameter\n",
      "    prior = p1*p2*p3*p4\n",
      "    return prior\n",
      "\n",
      "\n",
      "nvals = 10\n",
      "tstar_vals = np.linspace(2000,8000,nvals)\n",
      "step_tstar = tstar_vals[1]-tstar_vals[0]\n",
      "tdisk_vals = np.linspace(50,500,nvals)\n",
      "step_tdisk = tdisk_vals[1]-tdisk_vals[0]\n",
      "beta_vals = np.linspace(0,4,nvals)\n",
      "step_beta = beta_vals[1]-beta_vals[0]\n",
      "#f_vals = np.logspace(-10,-1,nvals)\n",
      "f_vals = np.linspace(1.0e-3,1.0e-2,nvals)\n",
      "steps_f = [f_vals[i+1]-f_vals[i] for i in range(nvals-1)]# very rough approx\n",
      "posterior = np.empty([nvals,nvals,nvals,nvals])\n",
      "\n",
      "for idx1 in range(nvals):\n",
      "    for idx2 in range(nvals):\n",
      "        for idx3 in range(nvals):\n",
      "            for idx4 in range(nvals):\n",
      "                theta = [tstar_vals[idx1],tdisk_vals[idx2],beta_vals[idx3],f_vals[idx4]]\n",
      "                posterior[idx1,idx2,idx3,idx4] = log_likelihood(theta,lmb,yso_obs,yso_obs*scalar_uncert)+np.log(prior(theta))\n",
      "\n",
      "                \n",
      "max_posterior = posterior.max()\n",
      "#print max_posterior\n",
      "posterior = posterior-max_posterior\n",
      "#max_posterior = posterior.max()\n",
      "#print max_posterior\n",
      "posterior = np.exp(posterior)"
     ],
     "language": "python",
     "metadata": {},
     "outputs": [],
     "prompt_number": 11
    },
    {
     "cell_type": "markdown",
     "metadata": {},
     "source": [
      "We know that a proper PDF must integrate to 1 over all its support. Let us check."
     ]
    },
    {
     "cell_type": "code",
     "collapsed": false,
     "input": [
      "# Calculate normalising constant\n",
      "norm_const=0\n",
      "\n",
      "for idx1 in range(nvals-1):\n",
      "    for idx2 in range(nvals-1):\n",
      "        for idx3 in range(nvals-1):\n",
      "            for idx4 in range(nvals-1):\n",
      "                val = [tstar_vals[idx1]+step_tstar/2,tdisk_vals[idx2]+step_tdisk/2,beta_vals[idx3]+step_beta/2,f_vals[idx4]+steps_f[idx4]/2]\n",
      "                mean_posterior = interpn((tstar_vals,tdisk_vals,beta_vals,f_vals),posterior,val,method=\"linear\")\n",
      "                vol_element = step_tstar * step_tdisk * step_beta * steps_f[idx4]\n",
      "                norm_const = norm_const + mean_posterior*vol_element\n",
      "\n",
      "\n",
      "print norm_const                \n",
      "             \n",
      "posterior = posterior/norm_const\n",
      "\n",
      "norm_const = 0\n",
      "\n",
      "for idx1 in range(nvals-1):\n",
      "    for idx2 in range(nvals-1):\n",
      "        for idx3 in range(nvals-1):\n",
      "            for idx4 in range(nvals-1):\n",
      "                val = [tstar_vals[idx1]+step_tstar/2,tdisk_vals[idx2]+step_tdisk/2,beta_vals[idx3]+step_beta/2,f_vals[idx4]+steps_f[idx4]/2]\n",
      "                mean_posterior = interpn((tstar_vals,tdisk_vals,beta_vals,f_vals),posterior,val,method=\"linear\")\n",
      "                vol_element = step_tstar * step_tdisk * step_beta * steps_f[idx4]\n",
      "                norm_const = norm_const + mean_posterior*vol_element\n",
      "\n",
      "print norm_const                \n",
      "                \n",
      "    "
     ],
     "language": "python",
     "metadata": {},
     "outputs": [
      {
       "output_type": "stream",
       "stream": "stdout",
       "text": [
        "[ 21.27715575]\n",
        "[ 1.]"
       ]
      },
      {
       "output_type": "stream",
       "stream": "stdout",
       "text": [
        "\n"
       ]
      }
     ],
     "prompt_number": 12
    },
    {
     "cell_type": "heading",
     "level": 3,
     "metadata": {},
     "source": [
      "Marginalization"
     ]
    },
    {
     "cell_type": "markdown",
     "metadata": {},
     "source": [
      "In our case, the posterior PDF is a four-dimensional function. In the general case, the dimesionality of the support may be far higher (just think about full Robitaille models). We will see in the next section, how this dimensionality may indeed grow with the actual number of observations. \n",
      "\n",
      "We can start analysing the posterior by looking at one-dimensional posterior PDFs for each individual parameter. In order to do so, we proceed to integrate out the dependence on the rest of parameters. For example\n",
      "\n",
      "$$ p(\\beta|\\mathcal{D}) = \\int_{2000}^{8000}\\int_{50}^{500}\\int_{10^{-10}}^{10^{-1}} p(T_{star},T_{disk},\\beta,f|\\mathcal{D}){\\rm d}T_{star}{\\rm d}T_{disk}{\\rm d}f$$ \n"
     ]
    },
    {
     "cell_type": "code",
     "collapsed": false,
     "input": [
      "# Marginalise    \n",
      "posterior_tdisk_beta_f = np.empty([nvals,nvals,nvals])\n",
      "posterior_beta_f = np.empty([nvals,nvals])\n",
      "posterior_f = np.empty([nvals])\n",
      "\n",
      "\n",
      "for idx2 in range(nvals):\n",
      "    for idx3 in range(nvals):\n",
      "        for idx4 in range(nvals):\n",
      "            tmp=0\n",
      "            for idx1 in range(nvals):\n",
      "                tmp = tmp + posterior[idx1,idx2,idx3,idx4]*step_tstar\n",
      "            posterior_tdisk_beta_f[idx2,idx3,idx4] = tmp\n",
      "\n",
      "for idx3 in range(nvals):\n",
      "     for idx4 in range(nvals):\n",
      "        tmp=0\n",
      "        for idx2 in range(nvals):\n",
      "            tmp = tmp + posterior_tdisk_beta_f[idx2,idx3,idx4]*step_tdisk\n",
      "        posterior_beta_f[idx3,idx4] = tmp\n",
      "\n",
      "for idx4 in range(nvals):\n",
      "    tmp=0\n",
      "    for idx3 in range(nvals):\n",
      "        tmp = tmp + posterior_beta_f[idx3,idx4]*step_beta\n",
      "    posterior_f[idx4] = tmp\n",
      "\n",
      "\n",
      "    \n",
      "plt.plot(f_vals,posterior_f,'ok')\n",
      "plt.xlabel(r'$f$',fontsize = 14)\n",
      "plt.ylabel(r'$p(f|\\mathcal{D})$',fontsize = 14)\n",
      "\n",
      "print f_vals,posterior_f\n",
      "    \n",
      "    \n",
      "    "
     ],
     "language": "python",
     "metadata": {},
     "outputs": [
      {
       "output_type": "stream",
       "stream": "stdout",
       "text": [
        "[ 0.001  0.002  0.003  0.004  0.005  0.006  0.007  0.008  0.009  0.01 ] [  0.00000000e+000   4.56438908e-285   3.38920898e-053   3.03722030e+002\n",
        "   6.96277970e+002   6.28371104e-141   1.72991292e-294   0.00000000e+000\n",
        "   0.00000000e+000   0.00000000e+000]\n"
       ]
      },
      {
       "metadata": {},
       "output_type": "display_data",
       "png": "[encoded data removed]",
       "text": [
        "<matplotlib.figure.Figure at 0x7f45b2de6990>"
       ]
      }
     ],
     "prompt_number": 13
    },
    {
     "cell_type": "heading",
     "level": 3,
     "metadata": {},
     "source": [
      "1.7.5 Nuisance parameters: typical VO observations"
     ]
    },
    {
     "cell_type": "markdown",
     "metadata": {},
     "source": [
      "Here we generate again the synthetic data, but we allow for an additive bias in each of the 4 datasets. This bias represents calibration errors that may be different for each dataset or may reflect some intrinsic variability that may explain offsets between datasets. The offsets are constrained to be small, and we could generate them from a Gaussian centered at zero. This example is thought to exemplify the need for nuisance parameters. In some cases our model has many parameters, some of which are uninteresting for us (and thus the name nuisance parameters is used). In this example, we may be aware of calibration offsets (or intrinsic variability) but the exact value of each offset is not the goal of our inference. We have to take these into account in order for our model to be able to explain the data, and in order to obtain a correct estimate of the uncertainties in the parameters that are our real concern (in these case, the disk temperature of the modified blackbody). "
     ]
    },
    {
     "cell_type": "code",
     "collapsed": false,
     "input": [
      "# compute the synthetic SED from the modified black-body model for \n",
      "# the set of parameters previously defined (but you can choose any others)\n",
      "synthetic_sed = yso_model_function(lmb,teff_star,teff_dust,beta_dust,f)\n",
      "# scale it to match the observed flux (not really needed) \n",
      "norm_factor = flux[5] / yso_model_function(lmb[5],teff_star,teff_dust,beta_dust,f)\n",
      "synthetic_sed = norm_factor * synthetic_sed\n",
      "\n",
      "# Let us add some random offset to SED subsets.[HERE]\n",
      "n_offsets = 5\n",
      "offsets = np.random.normal(0,1.0e-12,n_offsets)\n",
      "\n",
      "# Then, simulate data observations by adding Gaussian noise\n",
      "scalar_uncert = 0.05\n",
      "yso_obs = np.random.normal(loc=synthetic_sed,scale=scalar_uncert*synthetic_sed)\n",
      "\n",
      "sort_indices = np.argsort(lmb)\n",
      "lmb = lmb[sort_indices]\n",
      "yso_obs = yso_obs[sort_indices]\n",
      "nr_datasets = 5\n",
      "tmp = np.random.uniform(0,len(lmb),nr_datasets)\n",
      "dataset_inits = sorted([int(tmp[i]) for i in range(nr_datasets)])\n",
      "#print dataset_inits\n",
      "dataset_labels = np.empty(len(lmb))\n",
      "#print dataset_labels\n",
      "dataset_labels[0:dataset_inits[1]] = 1\n",
      "dataset_labels[dataset_inits[1]:dataset_inits[2]] = 2\n",
      "dataset_labels[dataset_inits[2]:dataset_inits[3]] = 3\n",
      "dataset_labels[dataset_inits[3]:dataset_inits[4]] = 4\n",
      "dataset_labels[dataset_inits[4]:] = 5\n",
      "#print dataset_labels\n",
      "yso_obs[dataset_labels==1] = yso_obs[dataset_labels==1]+offsets[0]\n",
      "yso_obs[dataset_labels==2] = yso_obs[dataset_labels==2]+offsets[1]\n",
      "yso_obs[dataset_labels==3] = yso_obs[dataset_labels==3]+offsets[2]\n",
      "yso_obs[dataset_labels==4] = yso_obs[dataset_labels==4]+offsets[3]\n",
      "yso_obs[dataset_labels==5] = yso_obs[dataset_labels==5]+offsets[4]\n",
      "\n",
      "\n",
      "plt.plot(lmb,synthetic_sed,'ok')\n",
      "plt.plot(lmb,yso_obs,'ok',color='b')\n",
      "plt.xscale('log')\n",
      "plt.yscale('log')\n",
      "plt.xlabel(r'$\\lambda$ [$\\mu$m]',fontsize = 14)\n",
      "plt.ylabel(r'$\\lambda F_{\\lambda}$ [erg/cm$^{2}$/s]',fontsize = 14)\n",
      "plt.ylim(1e-12,)\n"
     ],
     "language": "python",
     "metadata": {},
     "outputs": [
      {
       "metadata": {},
       "output_type": "pyout",
       "prompt_number": 22,
       "text": [
        "(1e-12, 1.0000000000000001e-09)"
       ]
      },
      {
       "metadata": {},
       "output_type": "display_data",
       "png": "[encoded data removed]",
       "text": [
        "<matplotlib.figure.Figure at 0x7f45b24d0c90>"
       ]
      }
     ],
     "prompt_number": 22
    },
    {
     "cell_type": "markdown",
     "metadata": {},
     "source": [
      "We now proceed to formulate our likelihood function, incorporating the possibility that each dataset can be affected by a small offset.\n",
      "\n",
      "\n"
     ]
    },
    {
     "cell_type": "code",
     "collapsed": false,
     "input": [
      "def log_likelihood(theta,nuisance,lambda_obs,flux_obs,error_obs):\n",
      "    tstar = theta[0]\n",
      "    tdust = theta[1]\n",
      "    beta = theta[2]\n",
      "    f = theta[3]\n",
      "    flux_model = yso_model_function(lambda_obs,tstar,tdust,beta,f)\n",
      "# The normalization here is hardcoded [TO BE IMPROVED]\n",
      "    norm_factor = flux[5]/yso_model_function(lambda_obs[5],tstar,tdust,beta,f)\n",
      "    flux_model = flux_model * norm_factor\n",
      "    tmp = error_obs**2.0\n",
      "    for idx in range(len(nuisance)):\n",
      "        flux_obs[dataset_label==idx+1] = flux_obs[dataset_label==idx+1]-nuisance[idx]\n",
      "    value = -np.sum(((flux_obs - flux_model)/error_obs)**2)\n",
      "    return value\n",
      " \n",
      "print(flux[5])\n",
      "print(yso_obs[5])"
     ],
     "language": "python",
     "metadata": {},
     "outputs": [
      {
       "output_type": "stream",
       "stream": "stdout",
       "text": [
        "1.996e-10\n",
        "1.83095449067e-10\n"
       ]
      }
     ],
     "prompt_number": 24
    },
    {
     "cell_type": "markdown",
     "metadata": {},
     "source": [
      "But this would be far too much... Eight dimensions, 10 grid nodes per axis... 10^8 nodes And 10 nodes per axis is certainly insufficient for most cases. We need an alternative.\n"
     ]
    },
    {
     "cell_type": "heading",
     "level": 4,
     "metadata": {},
     "source": [
      "Markov Chain MonteCarlo Methods for sampling from the posterior"
     ]
    },
    {
     "cell_type": "code",
     "collapsed": false,
     "input": [
      "model_with_offsets= \"\"\"\n",
      "data {\n",
      "    int<lower=0> J; // number of observations\n",
      "    vector[J] flux_obs; // observed fluxes\n",
      "    vector[J] lambda_obs; // observed wavelengths\n",
      "    vector[J] error_obs; // uncertainties in the fluxes\n",
      "    int nr_datasets;// numbers of datasets\n",
      "    vector[J] datasets; // dataset labels\n",
      "}\n",
      "transformed data {\n",
      "    real c;\n",
      "    real h;\n",
      "    real kb;\n",
      "    real flux5;\n",
      "    c <- 3.e8;\n",
      "    h <- 6.62e-34;\n",
      "    kb <- 1.4e-23;\n",
      "    flux5 <- 1.83095449067e-10;\n",
      "}\n",
      "parameters {\n",
      "    real<lower=2000, upper=8000> tstar;\n",
      "    real<lower=50, upper=500> tdisk;\n",
      "    real<lower=0, upper=4> beta;\n",
      "    real<lower=0.001,upper=0.01> f;\n",
      "    vector<lower=-1.0e-11,upper=1.0e-11>[nr_datasets] offsets;\n",
      "}\n",
      "#transformed parameters {\n",
      "#}\n",
      "model {\n",
      "# Define Covariance for the prior on offsets\n",
      "    matrix[J,J] Sigma_obs; \n",
      "    matrix[nr_datasets,nr_datasets] Sigma_offsets;\n",
      "    vector[nr_datasets] zeroes;\n",
      "    vector[J] flux_model;\n",
      "    real exponent;\n",
      "    real norm_fact;\n",
      "    vector[J] star_emission;\n",
      "    vector[J] disk_emission;\n",
      "    real A;\n",
      "\n",
      "    tstar ~ uniform(2000,8000);\n",
      "    tdisk ~ uniform(50,500);\n",
      "    beta ~ uniform(0,4);\n",
      "    f ~ uniform(0.001,0.01);\n",
      "\n",
      "#    print(tstar,\"=tstar \",tdisk,\" = tdisk \",beta,\" = beta \",f , \"= f\");\n",
      "\n",
      "    for (i in 1:J)\n",
      "    {\n",
      "    exponent <- h*c /(lambda_obs[i]*1e-6*kb*tstar);\n",
      "    star_emission[i] <- pow(lambda_obs[i],-5) * 1/(exp(exponent)-1);\n",
      "    exponent <- h*c /(lambda_obs[i]*1e-6*kb*tdisk);\n",
      "    disk_emission[i] <- pow(lambda_obs[i],-5) * 1/(exp(exponent)-1) * pow((1e-4/lambda_obs[i]),-beta);\n",
      "#    print(i,\" \",star_emission[i],\" \",disk_emission[i])\n",
      "    }\n",
      "    \n",
      "    A <- f * sum(star_emission)/sum(disk_emission);    \n",
      "    for (i in 1:J)\n",
      "    {\n",
      "    flux_model[i] <- star_emission[i] + A * disk_emission[i];\n",
      "    flux_model[i] <- flux_model[i] * lambda_obs[i];\n",
      "    }\n",
      "\n",
      "    norm_fact <- flux5/flux_model[6];\n",
      "    for (i in 1:J)\n",
      "    {\n",
      "    flux_model[i] <- flux_model[i] * norm_fact;\n",
      "    }\n",
      "\n",
      "# Store uncertainties in a matrix    \n",
      "    for(i in 1:J)\n",
      "    for(j in 1:J)\n",
      "        Sigma_obs[i,j] <- 0;\n",
      "    for(i in 1:J)\n",
      "    Sigma_obs[i,i] <- pow(error_obs[i],2.0);\n",
      "    for(i in 1:nr_datasets)\n",
      "    for(j in 1:nr_datasets)\n",
      "        Sigma_offsets[i,j] <- 0;\n",
      "    for(i in 1:nr_datasets)\n",
      "    {\n",
      "    Sigma_offsets[i,i] <- 1.0e-12;\n",
      "    zeroes[i] <- 0;\n",
      "    }\n",
      "\n",
      "\n",
      "    offsets ~ multi_normal(zeroes,Sigma_offsets);\n",
      "\n",
      "#    print(offsets);\n",
      "    \n",
      "    for (jidx in 1:nr_datasets)\n",
      "        {\n",
      "        for (i in 1:J)\n",
      "            {\n",
      "            if (datasets[i]==jidx) flux_model[i] <- flux_model[i]+offsets[jidx];\n",
      "            }\n",
      "        }\n",
      "                \n",
      "    flux_obs ~ multi_normal(flux_model, Sigma_obs);\n",
      "\n",
      "#print(tstar,\"=tstar2 \",tdisk,\" = tdis2k \",beta,\" = beta2 \",f , \"= f2\");\n",
      "\n",
      "\n",
      "}\n",
      "\"\"\"\n",
      "\n",
      "def initial():    \n",
      "    return dict(tstar=4000, tdisk = 150, beta= 0.5, f= 0.003,offsets=[0,0,0,0,0])\n",
      "\n",
      "yso_dat = {'J': len(lmb),\n",
      "               'flux_obs': yso_obs,\n",
      "               'lambda_obs':lmb,\n",
      "               'error_obs':scalar_uncert*synthetic_sed,\n",
      "               'nr_datasets':nr_datasets,\n",
      "               'datasets': dataset_labels}\n",
      "\n",
      "plt.plot(lmb,yso_obs,'ok')\n",
      "plt.plot(lmb,yso_obs,'ok',color='b')\n",
      "plt.xscale('log')\n",
      "plt.yscale('log')\n",
      "plt.xlabel(r'$\\lambda$ [$\\mu$m]',fontsize = 14)\n",
      "plt.ylabel(r'$\\lambda F_{\\lambda}$ [erg/cm$^{2}$/s]',fontsize = 14)\n",
      "plt.ylim(1e-12,)\n",
      "\n",
      "\n",
      "fit = pystan.stan(model_code=model_with_offsets, data=yso_dat,\n",
      "                  iter=100, chains=4,init=initial)\n",
      "\n",
      "#fit2 = pystan.stan(model_code=fit, data=yso_dat,\n",
      "#                  iter=100, chains=4,init=initial)\n",
      "    \n",
      "    \n",
      "#n_levels = 10\n",
      "#max_dif = (grid_log_likelihoods.max() - grid_log_likelihoods.min())/1000.\n",
      "#levels = np.linspace(grid_log_likelihoods.min(),max_dif,n_levels)\n",
      "\n",
      "#pl = plt.contourf(params_grid[0],params_grid[1],np.log10(grid_log_likelihoods),levels=np.log10(levels))\n",
      "\n",
      "#cbar = plt.colorbar(pl)\n",
      "#cbar.ax.set_ylabel(r'$log_{10}(log_Likelihood value)$')\n",
      "# Add the contour line levels to the colorbar\n",
      "#plt.rc('text', usetex=True)\n",
      "#plt.rc('font', family='serif')\n",
      "#plt.title('2D slice of the full 4D likelihood function')\n",
      "#plt.xlabel(r'$T_{dust}$',fontsize=16)\n",
      "#plt.ylabel(r'$\\beta$',fontsize=16)\n",
      "\n",
      "    "
     ],
     "language": "python",
     "metadata": {},
     "outputs": [
      {
       "metadata": {},
       "output_type": "display_data",
       "png": "[encoded data removed]",
       "text": [
        "<matplotlib.figure.Figure at 0x7f45b22b3f90>"
       ]
      }
     ],
     "prompt_number": 39
    },
    {
     "cell_type": "markdown",
     "metadata": {},
     "source": [
      "Thus, we now have the original 4 parameters, and four additional ones (the offsets). We are not really interested in doing inferences on the latter four. We only introduced them because we knew they were present and wanted to propagate that uncertainty up to the level of the physical parameters. So we can foresee that we will marginalise out the uninteresting parameters (the offsets) in order to end up with the probability distributions we are after. The latter will in general be less concentrated than the posterior that would result from the likelihood model without offsets.\n",
      "\n",
      "We are now faced with the problem that the support of the posterior is now 8-dimensional...\n",
      "\n",
      "MCMC\n",
      "\n"
     ]
    },
    {
     "cell_type": "markdown",
     "metadata": {},
     "source": [
      "Now I find fixing the standard deviation of the normal distribution that generates the offsets somewhat inelegant. I am not particularly interested in its value, but I may be interested to propagate the uncertainty about its value to the distribution of the parameters of interest. In order to do so, I will introduce it as a model parameter, the prior of which will be defined as a broad normal distribution. "
     ]
    },
    {
     "cell_type": "code",
     "collapsed": false,
     "input": [
      "mcmc = fit.extract()\n",
      "tstarmcmc = mcmc['tstar']\n",
      "tdiskmcmc = mcmc['tdisk']\n",
      "betamcmc = mcmc['beta']\n",
      "fmcmc = mcmc['f']\n",
      "\n",
      "#kde = gaussian_kde(tstarmcmc)\n",
      "#kde = gaussian_kde(tdiskmcmc)\n",
      "#kde = gaussian_kde(betamcmc)\n",
      "kde = gaussian_kde(fmcmc)\n",
      "\n",
      "#tmp = np.linspace(2000,8000,1000)\n",
      "#tmp = np.linspace(50,500,1000)\n",
      "#tmp = np.linspace(0,4,1000)\n",
      "tmp = np.linspace(0.001,0.01,100)\n",
      "\n",
      "plt.plot(tmp,kde(tmp),'ko')\n"
     ],
     "language": "python",
     "metadata": {},
     "outputs": [
      {
       "metadata": {},
       "output_type": "pyout",
       "prompt_number": 46,
       "text": [
        "[<matplotlib.lines.Line2D at 0x7f45b2ada990>]"
       ]
      },
      {
       "metadata": {},
       "output_type": "display_data",
       "png": "[encoded data removed]",
       "text": [
        "<matplotlib.figure.Figure at 0x7f45b2a1d510>"
       ]
      }
     ],
     "prompt_number": 46
    },
    {
     "cell_type": "heading",
     "level": 3,
     "metadata": {},
     "source": [
      "1.7.6 Adding complexity: dealing with outliers"
     ]
    },
    {
     "cell_type": "markdown",
     "metadata": {},
     "source": [
      "Here I complicate the model by including a non-zero probability that a data point is an outlier."
     ]
    },
    {
     "cell_type": "heading",
     "level": 2,
     "metadata": {},
     "source": [
      "1.9 Coda. Hierarchical models II: how to go from SEDs to Initial Functions"
     ]
    }
   ],
   "metadata": {}
  }
 ]
}